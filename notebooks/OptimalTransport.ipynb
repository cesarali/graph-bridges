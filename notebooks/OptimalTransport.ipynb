{
 "cells": [
  {
   "cell_type": "code",
   "execution_count": 1,
   "id": "95e48c3f",
   "metadata": {},
   "outputs": [
    {
     "name": "stdout",
     "output_type": "stream",
     "text": [
      "Sinkhorn loss (distance) between x and y: 220.2919464111328\n"
     ]
    }
   ],
   "source": [
    "import torch\n",
    "\n",
    "def sinkhorn_loss(x, y, epsilon=0.1, max_iters=100):\n",
    "    \"\"\"\n",
    "    Calculate the Sinkhorn loss between two sets of vectors, x and y.\n",
    "    :param x: torch.Tensor, shape=(n, d)\n",
    "    :param y: torch.Tensor, shape=(m, d)\n",
    "    :param epsilon: regularization parameter\n",
    "    :param max_iters: maximum number of Sinkhorn iterations\n",
    "    :return: Optimal Transport distance\n",
    "    \"\"\"\n",
    "    \n",
    "    # Calculate pairwise distances\n",
    "    C = torch.cdist(x, y, p=2)  # Cost matrix\n",
    "    \n",
    "    # Initialize variables\n",
    "    n, m = x.shape[0], y.shape[0]\n",
    "    a, b = torch.ones(n) / n, torch.ones(m) / m  # Uniform distribution over bins\n",
    "    \n",
    "    # Sinkhorn iterations\n",
    "    u = torch.zeros(n)\n",
    "    v = torch.zeros(m)\n",
    "    K = torch.exp(-C / epsilon)\n",
    "    \n",
    "    for _ in range(max_iters):\n",
    "        u = torch.log(a / torch.matmul(K, torch.exp(v)))  # Update u\n",
    "        v = torch.log(b / torch.matmul(K.t(), torch.exp(u)))  # Update v\n",
    "    \n",
    "    # Compute Sinkhorn loss\n",
    "    loss = torch.sum(torch.exp(u) * torch.matmul(K, torch.exp(v)) * C)\n",
    "    return loss"
   ]
  },
  {
   "cell_type": "code",
   "execution_count": 6,
   "id": "782ca613",
   "metadata": {},
   "outputs": [],
   "source": [
    "import torch\n",
    "\n",
    "def sinkhorn_normalized(x, y, epsilon=0.1, max_iters=100):\n",
    "    \"\"\"\n",
    "    Perform Sinkhorn iterations to compute the normalized transport plan.\n",
    "    :param x: torch.Tensor, shape=(n, d)\n",
    "    :param y: torch.Tensor, shape=(m, d)\n",
    "    :param epsilon: regularization parameter\n",
    "    :param max_iters: maximum number of Sinkhorn iterations\n",
    "    :return: torch.Tensor, shape=(n, m), the normalized transport plan\n",
    "    \"\"\"\n",
    "    \n",
    "    # Calculate pairwise distances\n",
    "    C = torch.cdist(x, y, p=2)  # Cost matrix\n",
    "    \n",
    "    # Initialize variables\n",
    "    n, m = x.shape[0], y.shape[0]\n",
    "    a, b = torch.ones(n) / n, torch.ones(m) / m  # Uniform distribution over bins\n",
    "    \n",
    "    # Sinkhorn iterations\n",
    "    u = torch.zeros(n)\n",
    "    v = torch.zeros(m)\n",
    "    K = torch.exp(-C / epsilon)\n",
    "    \n",
    "    for _ in range(max_iters):\n",
    "        u = torch.log(a / torch.matmul(K, torch.exp(v)))  # Update u\n",
    "        v = torch.log(b / torch.matmul(K.t(), torch.exp(u)))  # Update v\n",
    "    \n",
    "    # Compute transport plan\n",
    "    T = torch.exp(u[:, None] + v[None, :] - C / epsilon)\n",
    "    \n",
    "    return T"
   ]
  },
  {
   "cell_type": "code",
   "execution_count": 8,
   "id": "15fa6ef6",
   "metadata": {},
   "outputs": [
    {
     "name": "stdout",
     "output_type": "stream",
     "text": [
      "Sampled y corresponding to the first x: tensor([[0., 0., 1., 0., 1., 1., 1., 1., 1., 1.],\n",
      "        [0., 1., 1., 0., 1., 1., 1., 0., 1., 1.],\n",
      "        [0., 0., 1., 0., 1., 1., 1., 1., 1., 1.],\n",
      "        [0., 1., 1., 0., 1., 1., 1., 0., 1., 1.],\n",
      "        [0., 0., 1., 0., 1., 1., 1., 1., 1., 1.]])\n"
     ]
    }
   ],
   "source": [
    "torch.manual_seed(0)  # for reproducibility\n",
    "\n",
    "n, m, d = 100, 100, 10  # Number of samples and dimensions\n",
    "\n",
    "# Generate random binary vectors\n",
    "x = torch.randint(2, (n, d)).float()\n",
    "y = torch.randint(2, (m, d)).float()\n",
    "\n",
    "T = sinkhorn_normalized(x, y, epsilon=0.1, max_iters=100)\n",
    "\n",
    "# Sample from T to obtain correspondences between x and y\n",
    "sampled_indices = torch.multinomial(T[0], 5, replacement=True)\n",
    "sampled_y = y[sampled_indices]\n",
    "\n",
    "print(f\"Sampled y corresponding to the first x: {sampled_y}\")"
   ]
  },
  {
   "cell_type": "code",
   "execution_count": 2,
   "id": "50d299c5",
   "metadata": {},
   "outputs": [
    {
     "name": "stdout",
     "output_type": "stream",
     "text": [
      "Sinkhorn loss (distance) between x and y: 220.2919464111328\n"
     ]
    }
   ],
   "source": [
    "torch.manual_seed(0)  # for reproducibility\n",
    "\n",
    "n, m, d = 100, 100, 10  # Number of samples and dimensions\n",
    "\n",
    "# Generate random binary vectors\n",
    "x = torch.randint(2, (n, d)).float()\n",
    "y = torch.randint(2, (m, d)).float()\n",
    "\n",
    "loss = sinkhorn_loss(x, y, epsilon=0.1, max_iters=100)\n",
    "print(f\"Sinkhorn loss (distance) between x and y: {loss.item()}\")"
   ]
  }
 ],
 "metadata": {
  "kernelspec": {
   "display_name": "Python 3 (ipykernel)",
   "language": "python",
   "name": "python3"
  },
  "language_info": {
   "codemirror_mode": {
    "name": "ipython",
    "version": 3
   },
   "file_extension": ".py",
   "mimetype": "text/x-python",
   "name": "python",
   "nbconvert_exporter": "python",
   "pygments_lexer": "ipython3",
   "version": "3.10.9"
  }
 },
 "nbformat": 4,
 "nbformat_minor": 5
}
