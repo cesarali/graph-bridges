{
 "cells": [
  {
   "cell_type": "code",
   "execution_count": 2,
   "id": "99d532c2",
   "metadata": {},
   "outputs": [
    {
     "name": "stdout",
     "output_type": "stream",
     "text": [
      "tensor([[[0.8142, 0.8139, 0.0000],\n",
      "         [0.3239, 0.9787, 0.0000],\n",
      "         [0.0000, 0.0000, 0.0000]],\n",
      "\n",
      "        [[0.4020, 0.4564, 0.0000],\n",
      "         [0.0433, 0.4580, 0.0000],\n",
      "         [0.0000, 0.0000, 0.0000]]])\n"
     ]
    }
   ],
   "source": [
    "import torch\n",
    "\n",
    "# Create your batched 20x20 tensor (replace this with your actual tensor)\n",
    "batch_size = 2  # Replace with your actual batch size\n",
    "original_tensor = torch.rand(batch_size, 2, 2)\n",
    "\n",
    "# Define the desired size for the expanded tensor\n",
    "expanded_size = (3, 3)\n",
    "\n",
    "# Create a new tensor of the desired size filled with zeros\n",
    "expanded_tensor = torch.zeros(batch_size, *expanded_size)\n",
    "\n",
    "# Calculate the padding needed on each side\n",
    "padding_top = (expanded_size[0] - original_tensor.shape[1]) // 2\n",
    "padding_left = (expanded_size[1] - original_tensor.shape[2]) // 2\n",
    "\n",
    "# Copy each original tensor into the center of the corresponding expanded tensor\n",
    "expanded_tensor[:, padding_top:padding_top + original_tensor.shape[1], \n",
    "                padding_left:padding_left + original_tensor.shape[2]] = original_tensor\n",
    "\n",
    "print(expanded_tensor)\n"
   ]
  },
  {
   "cell_type": "code",
   "execution_count": null,
   "id": "45e39a81",
   "metadata": {},
   "outputs": [],
   "source": []
  }
 ],
 "metadata": {
  "kernelspec": {
   "display_name": "Python 3 (ipykernel)",
   "language": "python",
   "name": "python3"
  },
  "language_info": {
   "codemirror_mode": {
    "name": "ipython",
    "version": 3
   },
   "file_extension": ".py",
   "mimetype": "text/x-python",
   "name": "python",
   "nbconvert_exporter": "python",
   "pygments_lexer": "ipython3",
   "version": "3.10.9"
  }
 },
 "nbformat": 4,
 "nbformat_minor": 5
}
