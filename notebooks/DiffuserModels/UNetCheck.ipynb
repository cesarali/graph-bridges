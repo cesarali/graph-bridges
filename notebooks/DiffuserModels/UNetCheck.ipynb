{
 "cells": [
  {
   "cell_type": "code",
   "execution_count": 17,
   "id": "52be0947",
   "metadata": {},
   "outputs": [],
   "source": [
    "import os\n",
    "import sys\n",
    "import torch\n",
    "\n",
    "import numpy as np\n",
    "import pandas as pd\n",
    "\n",
    "\n"
   ]
  },
  {
   "cell_type": "code",
   "execution_count": 26,
   "id": "31728359",
   "metadata": {},
   "outputs": [],
   "source": [
    "import diffusers\n",
    "from diffusers import UNet2DModel\n",
    "from diffusers import UNet1DModel\n",
    "\n",
    "from torchvision.datasets import MNIST,CIFAR10\n",
    "from torchvision.transforms import ToTensor\n",
    "from torch.utils.data import DataLoader\n",
    "from graph_bridges import data_path\n",
    "\n",
    "raw_dir = os.path.join(data_path,\"raw\")\n",
    "\n",
    "train_mnist_dataset = MNIST(root=raw_dir, train=True,transform=ToTensor())\n",
    "train_cifar10_dataset = CIFAR10(root=raw_dir, train=True,transform=ToTensor())\n",
    "\n",
    "train_mnist_dataloader = DataLoader(train_mnist_dataset,batch_size=32)\n",
    "train_cifar10_dataloader = DataLoader(train_cifar10_dataset,batch_size=32)\n",
    "\n",
    "mnist_databatch = next(train_mnist_dataloader.__iter__())\n",
    "cifar10_databatch = next(train_cifar10_dataloader.__iter__())"
   ]
  },
  {
   "cell_type": "code",
   "execution_count": 27,
   "id": "06eebb4e",
   "metadata": {},
   "outputs": [
    {
     "data": {
      "text/plain": [
       "torch.Size([32, 3, 32, 32])"
      ]
     },
     "execution_count": 27,
     "metadata": {},
     "output_type": "execute_result"
    }
   ],
   "source": [
    "#cifar10_databatch[0].shape"
   ]
  },
  {
   "cell_type": "code",
   "execution_count": 59,
   "id": "e8ec6339",
   "metadata": {},
   "outputs": [],
   "source": [
    "batch_size = 12\n",
    "in_chanels = 2\n",
    "H = W = 32\n",
    "unet1d = UNet1DModel(in_channels=in_chanels,out_channels=in_chanels,norm_num_groups=W)\n",
    "#unet_forward_ = unet1d(torch.rand(batch_size,in_chanels,H,W),torch.rand(batch_size))"
   ]
  },
  {
   "cell_type": "code",
   "execution_count": 60,
   "id": "8aac9b61",
   "metadata": {},
   "outputs": [],
   "source": [
    "batch_size = 12\n",
    "in_channels = 1\n",
    "H = W = 28\n",
    "unet2d = UNet2DModel(in_channels=in_channels,out_channels=in_chanels,norm_num_groups=W)\n",
    "#unet_forward_ = unet2d(torch.rand(batch_size,in_channels,H,W),torch.rand(batch_size))"
   ]
  },
  {
   "cell_type": "code",
   "execution_count": 49,
   "id": "30fcc063",
   "metadata": {},
   "outputs": [
    {
     "data": {
      "text/plain": [
       "torch.Size([12, 1, 32, 32])"
      ]
     },
     "execution_count": 49,
     "metadata": {},
     "output_type": "execute_result"
    }
   ],
   "source": [
    "unet_forward_.sample.shape"
   ]
  },
  {
   "cell_type": "code",
   "execution_count": 51,
   "id": "81ad7ad0",
   "metadata": {},
   "outputs": [
    {
     "data": {
      "text/plain": [
       "torch.Size([32, 1, 28, 28])"
      ]
     },
     "execution_count": 51,
     "metadata": {},
     "output_type": "execute_result"
    }
   ],
   "source": [
    "mnist_databatch[0].shape"
   ]
  }
 ],
 "metadata": {
  "kernelspec": {
   "display_name": "Python 3 (ipykernel)",
   "language": "python",
   "name": "python3"
  },
  "language_info": {
   "codemirror_mode": {
    "name": "ipython",
    "version": 3
   },
   "file_extension": ".py",
   "mimetype": "text/x-python",
   "name": "python",
   "nbconvert_exporter": "python",
   "pygments_lexer": "ipython3",
   "version": "3.10.9"
  }
 },
 "nbformat": 4,
 "nbformat_minor": 5
}
