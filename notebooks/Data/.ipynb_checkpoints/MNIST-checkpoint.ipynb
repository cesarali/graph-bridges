{
 "cells": [
  {
   "cell_type": "code",
   "execution_count": null,
   "id": "61926c75",
   "metadata": {},
   "outputs": [],
   "source": []
  },
  {
   "cell_type": "code",
   "execution_count": null,
   "id": "cf414b53",
   "metadata": {},
   "outputs": [],
   "source": [
    "threshold = 0.5\n",
    "pepperize = transforms.Compose([ transforms.ToTensor(),\n",
    "                                transforms.Lambda(lambda x: (x > threshold).float())\n",
    "                                ])\n",
    "dataset = MNIST(root=data_dir, train=True, download=True, transform=pepperize)"
   ]
  },
  {
   "cell_type": "code",
   "execution_count": null,
   "id": "c365e995",
   "metadata": {},
   "outputs": [],
   "source": []
  },
  {
   "cell_type": "code",
   "execution_count": null,
   "id": "1f48044d",
   "metadata": {},
   "outputs": [],
   "source": []
  },
  {
   "cell_type": "code",
   "execution_count": null,
   "id": "7e99325d",
   "metadata": {},
   "outputs": [],
   "source": []
  },
  {
   "cell_type": "code",
   "execution_count": null,
   "id": "367c06d2",
   "metadata": {},
   "outputs": [],
   "source": []
  }
 ],
 "metadata": {
  "kernelspec": {
   "display_name": "Python 3 (ipykernel)",
   "language": "python",
   "name": "python3"
  },
  "language_info": {
   "codemirror_mode": {
    "name": "ipython",
    "version": 3
   },
   "file_extension": ".py",
   "mimetype": "text/x-python",
   "name": "python",
   "nbconvert_exporter": "python",
   "pygments_lexer": "ipython3",
   "version": "3.10.9"
  }
 },
 "nbformat": 4,
 "nbformat_minor": 5
}
