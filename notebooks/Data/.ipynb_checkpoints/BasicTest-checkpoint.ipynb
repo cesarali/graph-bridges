{
 "cells": [
  {
   "cell_type": "code",
   "execution_count": 5,
   "id": "5be5229c-3b8f-46fa-b1e9-7c1df1ca9e45",
   "metadata": {},
   "outputs": [],
   "source": [
    "import os\n",
    "import torch\n",
    "import pandas as pd\n",
    "from pathlib import Path"
   ]
  },
  {
   "cell_type": "code",
   "execution_count": 2,
   "id": "6fad7566-7880-4636-b6a8-ba90df80ea0b",
   "metadata": {},
   "outputs": [],
   "source": [
    "from graph_bridges import results_path\n",
    "from graph_bridges.models.metrics.ctdd_metrics import marginal_histograms_for_ctdd\n",
    "from graph_bridges.utils.plots.histograms_plots import plot_histograms\n",
    "from graph_bridges.configs.utils import get_config_from_file"
   ]
  },
  {
   "cell_type": "code",
   "execution_count": 3,
   "id": "fcfea621-bbac-4842-b732-430d0d620647",
   "metadata": {},
   "outputs": [],
   "source": [
    "results_dir = os.path.join(results_path,\"graph\",\"ctdd\",\"mlp_test_5_community\")"
   ]
  },
  {
   "cell_type": "code",
   "execution_count": 4,
   "id": "c5f63850-4535-4549-b67f-1629f06a0974",
   "metadata": {},
   "outputs": [],
   "source": [
    "config = get_config_from_file(results_dir=results_dir)"
   ]
  },
  {
   "cell_type": "code",
   "execution_count": 35,
   "id": "32798969-4a32-4bd3-9bd3-a41f38820142",
   "metadata": {},
   "outputs": [
    {
     "data": {
      "text/plain": [
       "['metrics_marginal_histogram_mse_0.json',\n",
       " 'metrics_marginal_histogram_mse_19.json',\n",
       " 'metrics_marginal_histogram_mse_29.json',\n",
       " 'metrics_marginal_histogram_mse_39.json',\n",
       " 'metrics_marginal_histogram_mse_49.json',\n",
       " 'metrics_marginal_histogram_mse_9.json']"
      ]
     },
     "execution_count": 35,
     "metadata": {},
     "output_type": "execute_result"
    }
   ],
   "source": [
    "metric_string_identifier = \"marginal_histogram_mse_\"\n",
    "generic_metric_path = Path(config.experiment_files.metrics_file.format(metric_string_identifier+\"*\"))\n",
    "[a.name for a in path.parent.glob(path.name)]"
   ]
  },
  {
   "cell_type": "code",
   "execution_count": 31,
   "id": "7cce98ce-4336-4b87-a562-e932023df036",
   "metadata": {},
   "outputs": [
    {
     "data": {
      "text/plain": [
       "'metrics_marginal_histogram_mse_*.json'"
      ]
     },
     "execution_count": 31,
     "metadata": {},
     "output_type": "execute_result"
    }
   ],
   "source": [
    "generic_metric_path.name"
   ]
  },
  {
   "cell_type": "code",
   "execution_count": 34,
   "id": "64e61256-60e2-4747-a6b2-911eab5c7274",
   "metadata": {},
   "outputs": [
    {
     "data": {
      "text/plain": [
       "False"
      ]
     },
     "execution_count": 34,
     "metadata": {},
     "output_type": "execute_result"
    }
   ],
   "source": []
  },
  {
   "cell_type": "code",
   "execution_count": 21,
   "id": "956194d7-8459-45b5-86cf-635ff6b3cea6",
   "metadata": {},
   "outputs": [
    {
     "data": {
      "text/plain": [
       "['metrics_marginal_histogram_mse_0.json',\n",
       " 'metrics_marginal_histogram_mse_19.json',\n",
       " 'metrics_marginal_histogram_mse_29.json',\n",
       " 'metrics_marginal_histogram_mse_39.json',\n",
       " 'metrics_marginal_histogram_mse_49.json',\n",
       " 'metrics_marginal_histogram_mse_9.json']"
      ]
     },
     "execution_count": 21,
     "metadata": {},
     "output_type": "execute_result"
    }
   ],
   "source": []
  },
  {
   "cell_type": "code",
   "execution_count": null,
   "id": "8c04317d-9a0d-4d20-bafa-3cabb8e89ccb",
   "metadata": {},
   "outputs": [],
   "source": []
  }
 ],
 "metadata": {
  "kernelspec": {
   "display_name": "Python 3 (ipykernel)",
   "language": "python",
   "name": "python3"
  },
  "language_info": {
   "codemirror_mode": {
    "name": "ipython",
    "version": 3
   },
   "file_extension": ".py",
   "mimetype": "text/x-python",
   "name": "python",
   "nbconvert_exporter": "python",
   "pygments_lexer": "ipython3",
   "version": "3.10.9"
  }
 },
 "nbformat": 4,
 "nbformat_minor": 5
}
