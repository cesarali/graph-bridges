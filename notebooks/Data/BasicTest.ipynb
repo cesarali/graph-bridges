{
 "cells": [
  {
   "cell_type": "code",
   "execution_count": 1,
   "id": "5be5229c-3b8f-46fa-b1e9-7c1df1ca9e45",
   "metadata": {},
   "outputs": [],
   "source": [
    "import os\n",
    "import torch\n",
    "import pandas as pd\n",
    "from pathlib import Path"
   ]
  },
  {
   "cell_type": "code",
   "execution_count": 2,
   "id": "6fad7566-7880-4636-b6a8-ba90df80ea0b",
   "metadata": {},
   "outputs": [],
   "source": [
    "from graph_bridges import results_path\n",
    "from graph_bridges.models.metrics.ctdd_metrics import marginal_histograms_for_ctdd\n",
    "from graph_bridges.utils.plots.histograms_plots import plot_histograms\n",
    "from graph_bridges.configs.utils import get_config_from_file"
   ]
  },
  {
   "cell_type": "code",
   "execution_count": 3,
   "id": "fcfea621-bbac-4842-b732-430d0d620647",
   "metadata": {},
   "outputs": [],
   "source": [
    "results_dir = os.path.join(results_path,\"graph\",\"ctdd\",\"mlp_test_5_community\")"
   ]
  },
  {
   "cell_type": "code",
   "execution_count": 4,
   "id": "c5f63850-4535-4549-b67f-1629f06a0974",
   "metadata": {},
   "outputs": [],
   "source": [
    "config = get_config_from_file(results_dir=results_dir)"
   ]
  },
  {
   "cell_type": "code",
   "execution_count": 19,
   "id": "32798969-4a32-4bd3-9bd3-a41f38820142",
   "metadata": {},
   "outputs": [
    {
     "ename": "ValueError",
     "evalue": "invalid literal for int() with base 10: 'best'",
     "output_type": "error",
     "traceback": [
      "\u001b[1;31m---------------------------------------------------------------------------\u001b[0m",
      "\u001b[1;31mValueError\u001b[0m                                Traceback (most recent call last)",
      "Cell \u001b[1;32mIn[19], line 7\u001b[0m\n\u001b[0;32m      4\u001b[0m generic_metric_path_to_fill \u001b[38;5;241m=\u001b[39m config\u001b[38;5;241m.\u001b[39mexperiment_files\u001b[38;5;241m.\u001b[39mmetrics_file\u001b[38;5;241m.\u001b[39mformat(metric_string_identifier\u001b[38;5;241m+\u001b[39m\u001b[38;5;124m\"\u001b[39m\u001b[38;5;132;01m{0}\u001b[39;00m\u001b[38;5;124m\"\u001b[39m)\n\u001b[0;32m      5\u001b[0m generic_metric_path_ \u001b[38;5;241m=\u001b[39m Path(generic_metric_path_)\n\u001b[1;32m----> 7\u001b[0m [obtain_number(a) \u001b[38;5;28;01mfor\u001b[39;00m a \u001b[38;5;129;01min\u001b[39;00m generic_metric_path\u001b[38;5;241m.\u001b[39mparent\u001b[38;5;241m.\u001b[39mglob(generic_metric_path_\u001b[38;5;241m.\u001b[39mname)]\n",
      "Cell \u001b[1;32mIn[19], line 7\u001b[0m, in \u001b[0;36m<listcomp>\u001b[1;34m(.0)\u001b[0m\n\u001b[0;32m      4\u001b[0m generic_metric_path_to_fill \u001b[38;5;241m=\u001b[39m config\u001b[38;5;241m.\u001b[39mexperiment_files\u001b[38;5;241m.\u001b[39mmetrics_file\u001b[38;5;241m.\u001b[39mformat(metric_string_identifier\u001b[38;5;241m+\u001b[39m\u001b[38;5;124m\"\u001b[39m\u001b[38;5;132;01m{0}\u001b[39;00m\u001b[38;5;124m\"\u001b[39m)\n\u001b[0;32m      5\u001b[0m generic_metric_path_ \u001b[38;5;241m=\u001b[39m Path(generic_metric_path_)\n\u001b[1;32m----> 7\u001b[0m [\u001b[43mobtain_number\u001b[49m\u001b[43m(\u001b[49m\u001b[43ma\u001b[49m\u001b[43m)\u001b[49m \u001b[38;5;28;01mfor\u001b[39;00m a \u001b[38;5;129;01min\u001b[39;00m generic_metric_path\u001b[38;5;241m.\u001b[39mparent\u001b[38;5;241m.\u001b[39mglob(generic_metric_path_\u001b[38;5;241m.\u001b[39mname)]\n",
      "Cell \u001b[1;32mIn[19], line 1\u001b[0m, in \u001b[0;36m<lambda>\u001b[1;34m(x)\u001b[0m\n\u001b[1;32m----> 1\u001b[0m obtain_number\u001b[38;5;241m=\u001b[39m \u001b[38;5;28;01mlambda\u001b[39;00m x: \u001b[38;5;28;43mint\u001b[39;49m\u001b[43m(\u001b[49m\u001b[43mx\u001b[49m\u001b[38;5;241;43m.\u001b[39;49m\u001b[43mname\u001b[49m\u001b[38;5;241;43m.\u001b[39;49m\u001b[43msplit\u001b[49m\u001b[43m(\u001b[49m\u001b[38;5;124;43m\"\u001b[39;49m\u001b[38;5;124;43m_\u001b[39;49m\u001b[38;5;124;43m\"\u001b[39;49m\u001b[43m)\u001b[49m\u001b[43m[\u001b[49m\u001b[38;5;241;43m-\u001b[39;49m\u001b[38;5;241;43m1\u001b[39;49m\u001b[43m]\u001b[49m\u001b[38;5;241;43m.\u001b[39;49m\u001b[43msplit\u001b[49m\u001b[43m(\u001b[49m\u001b[38;5;124;43m\"\u001b[39;49m\u001b[38;5;124;43m.\u001b[39;49m\u001b[38;5;124;43m\"\u001b[39;49m\u001b[43m)\u001b[49m\u001b[43m[\u001b[49m\u001b[38;5;241;43m0\u001b[39;49m\u001b[43m]\u001b[49m\u001b[43m)\u001b[49m\n\u001b[0;32m      2\u001b[0m metric_string_identifier \u001b[38;5;241m=\u001b[39m \u001b[38;5;124m\"\u001b[39m\u001b[38;5;124mmse_histograms\u001b[39m\u001b[38;5;124m\"\u001b[39m\n\u001b[0;32m      3\u001b[0m generic_metric_path_ \u001b[38;5;241m=\u001b[39m config\u001b[38;5;241m.\u001b[39mexperiment_files\u001b[38;5;241m.\u001b[39mmetrics_file\u001b[38;5;241m.\u001b[39mformat(metric_string_identifier\u001b[38;5;241m+\u001b[39m\u001b[38;5;124m\"\u001b[39m\u001b[38;5;124m*\u001b[39m\u001b[38;5;124m\"\u001b[39m)\n",
      "\u001b[1;31mValueError\u001b[0m: invalid literal for int() with base 10: 'best'"
     ]
    }
   ],
   "source": [
    "obtain_number= lambda x: int(x.name.split(\"_\")[-1].split(\".\")[0])\n",
    "\n",
    "metric_string_identifier = \"mse_histograms\"\n",
    "generic_metric_path_ = config.experiment_files.metrics_file.format(metric_string_identifier+\"*\")\n",
    "generic_metric_path_to_fill = config.experiment_files.metrics_file.format(metric_string_identifier+\"{0}\")\n",
    "generic_metric_path_ = Path(generic_metric_path_)\n",
    "\n",
    "numbers_available = []\n",
    "for a in generic_metric_path.parent.glob(generic_metric_path_.name):\n",
    "    try:\n",
    "        number_ = obtain_number(a)\n",
    "    except:\n",
    "        pass\n",
    "    numbers_available.append(a)"
   ]
  },
  {
   "cell_type": "code",
   "execution_count": 31,
   "id": "7cce98ce-4336-4b87-a562-e932023df036",
   "metadata": {},
   "outputs": [
    {
     "data": {
      "text/plain": [
       "'metrics_marginal_histogram_mse_*.json'"
      ]
     },
     "execution_count": 31,
     "metadata": {},
     "output_type": "execute_result"
    }
   ],
   "source": [
    "values = [file.split(\"_\")[-1].split(\".\")[0] for file in file_list]"
   ]
  },
  {
   "cell_type": "code",
   "execution_count": 12,
   "id": "64e61256-60e2-4747-a6b2-911eab5c7274",
   "metadata": {},
   "outputs": [
    {
     "data": {
      "text/plain": [
       "WindowsPath('C:/Users/cesar/Desktop/Projects/DiffusiveGenerativeModelling/Codes/graph-bridges/results/graph/ctdd/mlp_test_5_community/metrics_marginal_histogram_mse_*.json')"
      ]
     },
     "execution_count": 12,
     "metadata": {},
     "output_type": "execute_result"
    }
   ],
   "source": [
    "generic_metric_path"
   ]
  },
  {
   "cell_type": "code",
   "execution_count": 21,
   "id": "956194d7-8459-45b5-86cf-635ff6b3cea6",
   "metadata": {},
   "outputs": [
    {
     "data": {
      "text/plain": [
       "['metrics_marginal_histogram_mse_0.json',\n",
       " 'metrics_marginal_histogram_mse_19.json',\n",
       " 'metrics_marginal_histogram_mse_29.json',\n",
       " 'metrics_marginal_histogram_mse_39.json',\n",
       " 'metrics_marginal_histogram_mse_49.json',\n",
       " 'metrics_marginal_histogram_mse_9.json']"
      ]
     },
     "execution_count": 21,
     "metadata": {},
     "output_type": "execute_result"
    }
   ],
   "source": []
  },
  {
   "cell_type": "code",
   "execution_count": null,
   "id": "8c04317d-9a0d-4d20-bafa-3cabb8e89ccb",
   "metadata": {},
   "outputs": [],
   "source": []
  }
 ],
 "metadata": {
  "kernelspec": {
   "display_name": "Python 3 (ipykernel)",
   "language": "python",
   "name": "python3"
  },
  "language_info": {
   "codemirror_mode": {
    "name": "ipython",
    "version": 3
   },
   "file_extension": ".py",
   "mimetype": "text/x-python",
   "name": "python",
   "nbconvert_exporter": "python",
   "pygments_lexer": "ipython3",
   "version": "3.10.9"
  }
 },
 "nbformat": 4,
 "nbformat_minor": 5
}
