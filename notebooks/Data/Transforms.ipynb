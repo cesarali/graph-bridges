{
 "cells": [
  {
   "cell_type": "code",
   "execution_count": 1,
   "id": "eb442fde",
   "metadata": {},
   "outputs": [],
   "source": [
    "from torch.distributions import Bernoulli\n",
    "import pandas as pd\n",
    "import numpy as np\n",
    "import os\n",
    "import torch"
   ]
  },
  {
   "cell_type": "code",
   "execution_count": 37,
   "id": "01d4572e",
   "metadata": {},
   "outputs": [],
   "source": [
    "number_of_nodes = 3\n",
    "number_of_upper_nodes = int(number_of_nodes*(number_of_nodes-1)*.5)\n",
    "batch_size = 32\n",
    "\n",
    "upper_matrices = Bernoulli(torch.full((batch_size,number_of_upper_nodes),.5)).sample()"
   ]
  },
  {
   "cell_type": "code",
   "execution_count": 39,
   "id": "d07043ad",
   "metadata": {},
   "outputs": [
    {
     "data": {
      "text/plain": [
       "torch.Size([32, 3])"
      ]
     },
     "execution_count": 39,
     "metadata": {},
     "output_type": "execute_result"
    }
   ],
   "source": [
    "upper_matrices.shape"
   ]
  },
  {
   "cell_type": "code",
   "execution_count": 50,
   "id": "b515f96d",
   "metadata": {},
   "outputs": [],
   "source": [
    "full_matrices = recover_full_matrices(upper_matrices)"
   ]
  },
  {
   "cell_type": "code",
   "execution_count": 47,
   "id": "80411501",
   "metadata": {},
   "outputs": [],
   "source": [
    "def recover_full_matrices(upper_diagonal_tensor):\n",
    "    assert len(upper_diagonal_tensor.shape) == 2\n",
    "    number_of_upper_entries = upper_diagonal_tensor.shape[1]\n",
    "    batch_size = upper_diagonal_tensor.shape[0]\n",
    "    \n",
    "    matrix_size = int(.5*(1 + np.sqrt(1+8*number_of_upper_entries)))\n",
    "\n",
    "    # Create a zero-filled tensor to hold the full matrices\n",
    "    full_matrices = torch.zeros(batch_size, matrix_size, matrix_size)\n",
    "\n",
    "    # Get the indices for the upper diagonal part of the matrices\n",
    "    upper_tri_indices = torch.triu_indices(matrix_size, matrix_size,offset=1)\n",
    "\n",
    "    # Fill the upper diagonal part of the matrices\n",
    "    full_matrices[:, upper_tri_indices[0], upper_tri_indices[1]] = upper_diagonal_tensor\n",
    "\n",
    "    # Transpose and fill the lower diagonal part to make the matrices symmetric\n",
    "    full_matrices = full_matrices + full_matrices.transpose(1, 2)\n",
    "\n",
    "    return full_matrices"
   ]
  },
  {
   "cell_type": "code",
   "execution_count": null,
   "id": "869ccee6",
   "metadata": {},
   "outputs": [],
   "source": []
  }
 ],
 "metadata": {
  "kernelspec": {
   "display_name": "Python 3 (ipykernel)",
   "language": "python",
   "name": "python3"
  },
  "language_info": {
   "codemirror_mode": {
    "name": "ipython",
    "version": 3
   },
   "file_extension": ".py",
   "mimetype": "text/x-python",
   "name": "python",
   "nbconvert_exporter": "python",
   "pygments_lexer": "ipython3",
   "version": "3.10.9"
  }
 },
 "nbformat": 4,
 "nbformat_minor": 5
}
