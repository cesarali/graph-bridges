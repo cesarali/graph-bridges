{
 "cells": [
  {
   "cell_type": "code",
   "execution_count": 2,
   "id": "e7b82440",
   "metadata": {},
   "outputs": [],
   "source": [
    "import torch\n",
    "import numpy as np\n",
    "import pandas as pd\n",
    "from matplotlib import pyplot as plt "
   ]
  },
  {
   "cell_type": "code",
   "execution_count": 3,
   "id": "e85fefce",
   "metadata": {},
   "outputs": [],
   "source": [
    "from graph_bridges.models.reference_process.ctdd_reference import ReferenceProcess\n",
    "from graph_bridges.models.schedulers.scheduling_utils import register_scheduler\n",
    "from graph_bridges.configs.graphs.lobster.config_base import BridgeConfig\n",
    "from graph_bridges.models.backward_rates.backward_rate import GaussianTargetRateImageX0PredEMA\n",
    "from graph_bridges.data.dataloaders import DoucetTargetData, GraphSpinsDataLoader\n",
    "from graph_bridges.models.samplers.sampling import ReferenceProcess\n",
    "from graph_bridges.models.reference_process.ctdd_reference import ReferenceProcess\n",
    "from graph_bridges.models.losses.ctdd_losses import GenericAux\n",
    "from graph_bridges.data.dataloaders_config import GraphSpinsDataLoaderConfig\n",
    "from graph_bridges.models.schedulers.scheduling_ctdd import CTDDScheduler"
   ]
  },
  {
   "cell_type": "code",
   "execution_count": 4,
   "id": "e6f57055",
   "metadata": {},
   "outputs": [],
   "source": [
    "from graph_bridges.models.schedulers.scheduling_utils import create_scheduler\n",
    "from graph_bridges.models.backward_rates.backward_rate_utils import create_model\n",
    "from graph_bridges.models.reference_process.reference_process_utils import create_reference\n",
    "from graph_bridges.data.dataloaders_utils import create_dataloader\n",
    "from graph_bridges.models.losses.loss_utils import create_loss\n",
    "\n",
    "from graph_bridges.configs.graphs.lobster.config_base import BridgeConfig"
   ]
  },
  {
   "cell_type": "code",
   "execution_count": 5,
   "id": "192313d7",
   "metadata": {},
   "outputs": [
    {
     "ename": "NameError",
     "evalue": "name 'CTDDScheduler' is not defined",
     "output_type": "error",
     "traceback": [
      "\u001b[1;31m---------------------------------------------------------------------------\u001b[0m",
      "\u001b[1;31mNameError\u001b[0m                                 Traceback (most recent call last)",
      "Cell \u001b[1;32mIn[5], line 13\u001b[0m\n\u001b[0;32m     11\u001b[0m reference_process: ReferenceProcess\n\u001b[0;32m     12\u001b[0m loss: GenericAux\n\u001b[1;32m---> 13\u001b[0m scheduler: \u001b[43mCTDDScheduler\u001b[49m\n\u001b[0;32m     15\u001b[0m data_dataloader \u001b[38;5;241m=\u001b[39m create_dataloader(config, device)\n\u001b[0;32m     16\u001b[0m model \u001b[38;5;241m=\u001b[39m create_model(config, device)\n",
      "\u001b[1;31mNameError\u001b[0m: name 'CTDDScheduler' is not defined"
     ]
    }
   ],
   "source": [
    "config = BridgeConfig(delete=False)\n",
    "config.data = GraphSpinsDataLoaderConfig()\n",
    "#config.model = mlp_config.model\n",
    "device = torch.device(config.device)\n",
    "\n",
    "# =================================================================\n",
    "# CREATE OBJECTS FROM CONFIGURATION\n",
    "\n",
    "data_dataloader: GraphSpinsDataLoader\n",
    "model: GaussianTargetRateImageX0PredEMA\n",
    "reference_process: ReferenceProcess\n",
    "loss: GenericAux\n",
    "scheduler: CTDDScheduler\n",
    "\n",
    "data_dataloader = create_dataloader(config, device)\n",
    "model = create_model(config, device)\n",
    "reference_process = create_reference(config, device)\n",
    "loss = create_loss(config, device)\n",
    "scheduler = create_scheduler(config, device)\n"
   ]
  },
  {
   "cell_type": "code",
   "execution_count": null,
   "id": "11f38dcc",
   "metadata": {},
   "outputs": [],
   "source": []
  }
 ],
 "metadata": {
  "kernelspec": {
   "display_name": "Python 3 (ipykernel)",
   "language": "python",
   "name": "python3"
  },
  "language_info": {
   "codemirror_mode": {
    "name": "ipython",
    "version": 3
   },
   "file_extension": ".py",
   "mimetype": "text/x-python",
   "name": "python",
   "nbconvert_exporter": "python",
   "pygments_lexer": "ipython3",
   "version": "3.10.9"
  }
 },
 "nbformat": 4,
 "nbformat_minor": 5
}
