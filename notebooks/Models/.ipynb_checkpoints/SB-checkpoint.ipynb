{
 "cells": [
  {
   "cell_type": "code",
   "execution_count": 1,
   "id": "ddf31d08",
   "metadata": {},
   "outputs": [],
   "source": [
    "import os\n",
    "import sys\n",
    "import torch \n",
    "import numpy as np\n",
    "import pandas as pd\n",
    "from pathlib import Path\n",
    "from pprint import pprint\n",
    "\n",
    "from dataclasses import asdict\n",
    "from matplotlib import pyplot as plt\n",
    "from graph_bridges.configs.graphs.config_sb import BridgeConfig\n",
    "from graph_bridges.configs.graphs.config_sb import BridgeConfig, get_config_from_file\n",
    "from graph_bridges.data.dataloaders_config import GraphSpinsDataLoaderConfig\n",
    "from graph_bridges.models.generative_models.sb import SB\n",
    "\n",
    "from dataclasses import asdict\n",
    "\n",
    "%matplotlib inline"
   ]
  },
  {
   "cell_type": "code",
   "execution_count": 5,
   "id": "c8e8a781",
   "metadata": {},
   "outputs": [
    {
     "name": "stdout",
     "output_type": "stream",
     "text": [
      "Real Distribution Not Implemented for graph_spins_lobster\n"
     ]
    }
   ],
   "source": [
    "config = BridgeConfig(experiment_indentifier=None)\n",
    "config.data = GraphSpinsDataLoaderConfig()\n",
    "\n",
    "#read the model\n",
    "#config = get_config_from_file(\"graph\", \"lobster\", \"1687884918\")\n",
    "device = torch.device(\"cpu\")\n",
    "sb = SB(config, device)\n",
    "#print(config.config_path)\n",
    "#json.dump(asdict(config),config.config_path)"
   ]
  },
  {
   "cell_type": "code",
   "execution_count": 6,
   "id": "4b9d149d",
   "metadata": {},
   "outputs": [
    {
     "name": "stdout",
     "output_type": "stream",
     "text": [
      "{'backward_estimator': BackwardEstimatorConfig(name='BackwardRatioSteinEstimator',\n",
      "                                               dimension_to_check=None),\n",
      " 'best_model_path': 'C:\\\\Users\\\\cesar\\\\Desktop\\\\Projects\\\\DiffusiveGenerativeModelling\\\\Codes\\\\graph-bridges\\\\results\\\\graph\\\\lobster\\\\1689279252\\\\sinkhorn_{0}.tr',\n",
      " 'best_model_path_checkpoint': 'C:\\\\Users\\\\cesar\\\\Desktop\\\\Projects\\\\DiffusiveGenerativeModelling\\\\Codes\\\\graph-bridges\\\\results\\\\graph\\\\lobster\\\\1689279252\\\\sinkhorn_{0}_checkpoint_{1}.tr',\n",
      " 'config_path': 'C:\\\\Users\\\\cesar\\\\Desktop\\\\Projects\\\\DiffusiveGenerativeModelling\\\\Codes\\\\graph-bridges\\\\results\\\\graph\\\\lobster\\\\1689279252\\\\config.json',\n",
      " 'current_git_commit': \"b'198d690db14d7bd537362065999dc3f91d33b33b\\\\n'\",\n",
      " 'data': GraphSpinsDataLoaderConfig(name='GraphSpinsDataLoader',\n",
      "                                    graph_type='lobster',\n",
      "                                    remove=False,\n",
      "                                    training_proportion=0.8,\n",
      "                                    doucet=True,\n",
      "                                    data_path='C:\\\\Users\\\\cesar\\\\Desktop\\\\Projects\\\\DiffusiveGenerativeModelling\\\\Codes\\\\graph-bridges\\\\data\\\\raw\\\\graph\\\\lobster',\n",
      "                                    S=2,\n",
      "                                    shape=[1, 1, 45],\n",
      "                                    possible_params_dict={'n': [5,\n",
      "                                                                6,\n",
      "                                                                7,\n",
      "                                                                8,\n",
      "                                                                9,\n",
      "                                                                10,\n",
      "                                                                11,\n",
      "                                                                12,\n",
      "                                                                13,\n",
      "                                                                14,\n",
      "                                                                15],\n",
      "                                                          'p1': [0.7],\n",
      "                                                          'p2': [0.5]},\n",
      "                                    random_flips=True,\n",
      "                                    data_min_max=[0, 1],\n",
      "                                    type='doucet',\n",
      "                                    full_adjacency=False,\n",
      "                                    number_of_paths=500,\n",
      "                                    length=500,\n",
      "                                    max_node=10,\n",
      "                                    min_node=10,\n",
      "                                    number_of_nodes=10,\n",
      "                                    number_of_spins=45,\n",
      "                                    batch_size=28),\n",
      " 'data_stats': 'C:\\\\Users\\\\cesar\\\\Desktop\\\\Projects\\\\DiffusiveGenerativeModelling\\\\Codes\\\\graph-bridges\\\\data\\\\raw\\\\graph\\\\lobster\\\\data_stats.json',\n",
      " 'delete': False,\n",
      " 'experiment_dir': 'C:\\\\Users\\\\cesar\\\\Desktop\\\\Projects\\\\DiffusiveGenerativeModelling\\\\Codes\\\\graph-bridges\\\\results\\\\graph',\n",
      " 'experiment_indentifier': '1689279252',\n",
      " 'experiment_name': 'graph',\n",
      " 'experiment_type': 'lobster',\n",
      " 'experiment_type_dir': 'C:\\\\Users\\\\cesar\\\\Desktop\\\\Projects\\\\DiffusiveGenerativeModelling\\\\Codes\\\\graph-bridges\\\\results\\\\graph\\\\lobster',\n",
      " 'loss': CTDDLossConfig(name='GenericAux',\n",
      "                        eps_ratio=1e-09,\n",
      "                        nll_weight=0.001,\n",
      "                        min_time=0.01,\n",
      "                        one_forward_pass=True),\n",
      " 'model': GaussianTargetRateImageX0PredEMAConfig(name='GaussianTargetRateImageX0PredEMA',\n",
      "                                                 ema_decay=0.9999,\n",
      "                                                 do_ema=True,\n",
      "                                                 ch=28,\n",
      "                                                 num_res_blocks=2,\n",
      "                                                 num_scales=4,\n",
      "                                                 ch_mult=[1, 1, 1, 1],\n",
      "                                                 input_channels=1,\n",
      "                                                 scale_count_to_put_attn=1,\n",
      "                                                 data_min_max=[0, 1],\n",
      "                                                 dropout=0.1,\n",
      "                                                 skip_rescale=True,\n",
      "                                                 time_embed_dim=28,\n",
      "                                                 time_scale_factor=1000,\n",
      "                                                 fix_logistic=False,\n",
      "                                                 initial_dist='gaussian',\n",
      "                                                 rate_sigma=6.0,\n",
      "                                                 Q_sigma=512.0,\n",
      "                                                 time_exponential=3.0,\n",
      "                                                 time_base=1.0),\n",
      " 'number_of_paths': 10,\n",
      " 'number_of_sinkhorn': 1,\n",
      " 'optimizer': TrainerConfig(number_of_paths=10,\n",
      "                            number_of_sinkhorn=1,\n",
      "                            starting_sinkhorn=0,\n",
      "                            optimizer_name='AdamW',\n",
      "                            max_n_iters=10000,\n",
      "                            clip_grad=True,\n",
      "                            warmup=50,\n",
      "                            num_epochs=200,\n",
      "                            learning_rate=0.0002,\n",
      "                            gradient_accumulation_steps=1,\n",
      "                            lr_warmup_steps=500,\n",
      "                            save_image_epochs=10,\n",
      "                            save_model_epochs=30,\n",
      "                            save_model_global_iter=1000),\n",
      " 'pipeline': SBPipelineConfig(name='SBPipeline'),\n",
      " 'reference': GaussianTargetRateConfig(name='GaussianTargetRate',\n",
      "                                       initial_dist='gaussian',\n",
      "                                       rate_sigma=6.0,\n",
      "                                       Q_sigma=512.0,\n",
      "                                       time_exponential=3.0,\n",
      "                                       time_base=1.0),\n",
      " 'results_dir': 'C:\\\\Users\\\\cesar\\\\Desktop\\\\Projects\\\\DiffusiveGenerativeModelling\\\\Codes\\\\graph-bridges\\\\results\\\\graph\\\\lobster\\\\1689279252',\n",
      " 'sampler': ParametrizedSamplerConfig(name='TauLeaping',\n",
      "                                      type='doucet',\n",
      "                                      num_steps=20,\n",
      "                                      min_t=0.01,\n",
      "                                      eps_ratio=1e-09,\n",
      "                                      initial_dist='gaussian',\n",
      "                                      num_corrector_steps=10,\n",
      "                                      corrector_step_size_multiplier=1.5,\n",
      "                                      corrector_entry_time=0.1),\n",
      " 'save_location': 'C:\\\\Users\\\\cesar\\\\Desktop\\\\Projects\\\\DiffusiveGenerativeModelling\\\\Codes\\\\graph-bridges\\\\results\\\\graph\\\\lobster\\\\1689279252',\n",
      " 'scheduler': SBSchedulerConfig(name='SBScheduler'),\n",
      " 'sinkhorn_plot_path': 'C:\\\\Users\\\\cesar\\\\Desktop\\\\Projects\\\\DiffusiveGenerativeModelling\\\\Codes\\\\graph-bridges\\\\results\\\\graph\\\\lobster\\\\1689279252\\\\marginal_at_site_sinkhorn_{0}.png',\n",
      " 'stein': SteinSpinEstimatorConfig(name='SteinSpinEstimator',\n",
      "                                   stein_epsilon=0.001,\n",
      "                                   stein_sample_size=150),\n",
      " 'target': DataConfig(name='DoucetTargetData',\n",
      "                      root='datasets_folder',\n",
      "                      train=True,\n",
      "                      download=True,\n",
      "                      batch_size=28,\n",
      "                      training_proportion=0.8,\n",
      "                      shuffle=True,\n",
      "                      S=2,\n",
      "                      shape=[1, 1, 45],\n",
      "                      C=1,\n",
      "                      H=1,\n",
      "                      W=45,\n",
      "                      D=45,\n",
      "                      data_min_max=[0, 1],\n",
      "                      type='doucet',\n",
      "                      full_adjacency=False,\n",
      "                      preprocess_datapath='lobster_graphs_upper',\n",
      "                      raw_datapath='lobster_graphs_upper',\n",
      "                      max_node=10,\n",
      "                      min_node=10),\n",
      " 'tensorboard_path': 'C:\\\\Users\\\\cesar\\\\Desktop\\\\Projects\\\\DiffusiveGenerativeModelling\\\\Codes\\\\graph-bridges\\\\results\\\\graph\\\\lobster\\\\1689279252\\\\tensorboard'}\n"
     ]
    }
   ],
   "source": [
    "pprint(sb.config.__dict__)"
   ]
  },
  {
   "cell_type": "code",
   "execution_count": 8,
   "id": "7e3f8653",
   "metadata": {},
   "outputs": [
    {
     "name": "stdout",
     "output_type": "stream",
     "text": [
      "Real Distribution Not Implemented for graph_spins_lobster\n"
     ]
    }
   ],
   "source": [
    "from graph_bridges.data.dataloaders import GraphSpinsDataLoader\n",
    "\n",
    "data_loader = GraphSpinsDataLoader(sb.config.data, device,0)\n",
    "x_spins = next(data_loader.train().__iter__())[0]"
   ]
  },
  {
   "cell_type": "code",
   "execution_count": 10,
   "id": "1e8283ec",
   "metadata": {},
   "outputs": [
    {
     "data": {
      "text/plain": [
       "True"
      ]
     },
     "execution_count": 10,
     "metadata": {},
     "output_type": "execute_result"
    }
   ],
   "source": [
    "sb.config.data.doucet"
   ]
  },
  {
   "cell_type": "code",
   "execution_count": null,
   "id": "417c59ae",
   "metadata": {},
   "outputs": [],
   "source": []
  }
 ],
 "metadata": {
  "kernelspec": {
   "display_name": "Python 3 (ipykernel)",
   "language": "python",
   "name": "python3"
  },
  "language_info": {
   "codemirror_mode": {
    "name": "ipython",
    "version": 3
   },
   "file_extension": ".py",
   "mimetype": "text/x-python",
   "name": "python",
   "nbconvert_exporter": "python",
   "pygments_lexer": "ipython3",
   "version": "3.10.9"
  }
 },
 "nbformat": 4,
 "nbformat_minor": 5
}
