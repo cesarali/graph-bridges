{
 "cells": [
  {
   "cell_type": "code",
   "execution_count": 1,
   "id": "e0b6be19",
   "metadata": {},
   "outputs": [],
   "source": [
    "import os\n",
    "import sys\n",
    "import torch\n",
    "from pathlib import Path\n",
    "from pprint import pprint\n",
    "from dataclasses import asdict"
   ]
  },
  {
   "cell_type": "code",
   "execution_count": 2,
   "id": "d29f205f",
   "metadata": {},
   "outputs": [],
   "source": [
    "from graph_bridges.models.generative_models.ctdd import CTDD\n",
    "from graph_bridges.configs.graphs.config_ctdd import CTDDConfig\n",
    "from graph_bridges.data.graph_dataloaders_config import EgoConfig, GraphSpinsDataLoaderConfig, TargetConfig\n",
    "from graph_bridges.models.backward_rates.backward_rate_config import BackRateMLPConfig, GaussianTargetRateImageX0PredEMAConfig"
   ]
  },
  {
   "cell_type": "code",
   "execution_count": 3,
   "id": "0d49ae64",
   "metadata": {},
   "outputs": [],
   "source": [
    "device = torch.device(\"cpu\")\n",
    "config = CTDDConfig()\n",
    "config.data = EgoConfig()\n",
    "config.model = GaussianTargetRateImageX0PredEMAConfig(ime_embed_dim)"
   ]
  },
  {
   "cell_type": "code",
   "execution_count": 4,
   "id": "7eb1dfee",
   "metadata": {},
   "outputs": [],
   "source": [
    "config.initialize()"
   ]
  },
  {
   "cell_type": "code",
   "execution_count": 7,
   "id": "cae4101d",
   "metadata": {},
   "outputs": [
    {
     "data": {
      "text/plain": [
       "{'name': 'GaussianTargetRateImageX0PredEMA',\n",
       " 'ema_decay': 0.9999,\n",
       " 'do_ema': True,\n",
       " 'ch': 28,\n",
       " 'num_res_blocks': 2,\n",
       " 'num_scales': 4,\n",
       " 'ch_mult': [1, 1, 1, 1],\n",
       " 'input_channels': 1,\n",
       " 'scale_count_to_put_attn': 1,\n",
       " 'data_min_max': [0, 1],\n",
       " 'dropout': 0.1,\n",
       " 'skip_rescale': True,\n",
       " 'time_embed_dim': 28,\n",
       " 'time_scale_factor': 1000,\n",
       " 'fix_logistic': False,\n",
       " 'initial_dist': 'gaussian',\n",
       " 'rate_sigma': 6.0,\n",
       " 'Q_sigma': 512.0,\n",
       " 'time_exponential': 3.0,\n",
       " 'time_base': 1.0}"
      ]
     },
     "execution_count": 7,
     "metadata": {},
     "output_type": "execute_result"
    }
   ],
   "source": [
    "asdict(config.model)"
   ]
  },
  {
   "cell_type": "code",
   "execution_count": 6,
   "id": "1589ab21",
   "metadata": {},
   "outputs": [
    {
     "data": {
      "text/plain": [
       "'C:\\\\Users\\\\cesar\\\\Desktop\\\\Projects\\\\DiffusiveGenerativeModelling\\\\Codes\\\\graph-bridges\\\\results\\\\graph\\\\lobster\\\\testing\\\\sinkhorn_{0}.tr'"
      ]
     },
     "execution_count": 6,
     "metadata": {},
     "output_type": "execute_result"
    }
   ],
   "source": [
    "config.experiment_files.best_model_path"
   ]
  },
  {
   "cell_type": "code",
   "execution_count": null,
   "id": "c2cf14d6",
   "metadata": {},
   "outputs": [],
   "source": [
    "ctdd = CTDD()\n",
    "ctdd.create_from_config(config,device)"
   ]
  },
  {
   "cell_type": "code",
   "execution_count": null,
   "id": "d11b1f5b",
   "metadata": {},
   "outputs": [],
   "source": []
  },
  {
   "cell_type": "code",
   "execution_count": null,
   "id": "dd138ca7",
   "metadata": {},
   "outputs": [],
   "source": []
  }
 ],
 "metadata": {
  "kernelspec": {
   "display_name": "Python 3 (ipykernel)",
   "language": "python",
   "name": "python3"
  },
  "language_info": {
   "codemirror_mode": {
    "name": "ipython",
    "version": 3
   },
   "file_extension": ".py",
   "mimetype": "text/x-python",
   "name": "python",
   "nbconvert_exporter": "python",
   "pygments_lexer": "ipython3",
   "version": "3.10.9"
  }
 },
 "nbformat": 4,
 "nbformat_minor": 5
}
