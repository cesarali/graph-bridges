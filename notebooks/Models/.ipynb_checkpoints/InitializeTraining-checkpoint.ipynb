{
 "cells": [
  {
   "cell_type": "code",
   "execution_count": 3,
   "id": "5eff62f3",
   "metadata": {},
   "outputs": [],
   "source": [
    "import os\n",
    "import sys\n",
    "import torch\n",
    "from pprint import pprint"
   ]
  },
  {
   "cell_type": "code",
   "execution_count": null,
   "id": "1f43ad89",
   "metadata": {},
   "outputs": [],
   "source": [
    "# utils to create objects\n",
    "from graph_bridges.data.dataloaders_utils import create_dataloader\n",
    "from graph_bridges.models.backward_rates.backward_rate_utils import create_model\n",
    "from graph_bridges.models.reference_process.reference_process_utils import create_reference\n",
    "from graph_bridges.models.losses.loss_utils import create_loss\n",
    "\n",
    "#objects definitions\n",
    "from graph_bridges.data.dataloaders import DoucetTargetData\n",
    "from graph_bridges.models.backward_rates.backward_rate import GaussianTargetRateImageX0PredEMA\n",
    "from graph_bridges.models.reference_process.ctdd_reference import ReferenceProcess\n",
    "from graph_bridges.models.losses.ctdd_losses import GenericAux\n",
    "\n",
    "from graph_bridges.configs.graphs.lobster.config_base import BridgeConfig"
   ]
  },
  {
   "cell_type": "code",
   "execution_count": null,
   "id": "f02635e5",
   "metadata": {},
   "outputs": [],
   "source": [
    "config = BridgeConfig()\n",
    "device = torch.device(config.device)"
   ]
  },
  {
   "cell_type": "code",
   "execution_count": 10,
   "id": "cdaad523",
   "metadata": {},
   "outputs": [],
   "source": [
    "#=================================================================\n",
    "# CREATE OBJECTS FROM CONFIGURATION\n",
    "\n",
    "data_dataloader: DoucetTargetData\n",
    "model : GaussianTargetRateImageX0PredEMA\n",
    "reference_process: ReferenceProcess\n",
    "loss : GenericAux\n",
    "\n",
    "data_dataloader = create_dataloader(config,device)\n",
    "model = create_model(config,device)\n",
    "reference_process = create_reference(config,device)\n",
    "loss = create_loss(config,device)"
   ]
  },
  {
   "cell_type": "code",
   "execution_count": null,
   "id": "fb2e9d3b",
   "metadata": {},
   "outputs": [],
   "source": []
  },
  {
   "cell_type": "code",
   "execution_count": null,
   "id": "6f0a6d3c",
   "metadata": {},
   "outputs": [],
   "source": []
  },
  {
   "cell_type": "code",
   "execution_count": null,
   "id": "4bbc48ff",
   "metadata": {},
   "outputs": [],
   "source": []
  }
 ],
 "metadata": {
  "kernelspec": {
   "display_name": "Python 3 (ipykernel)",
   "language": "python",
   "name": "python3"
  },
  "language_info": {
   "codemirror_mode": {
    "name": "ipython",
    "version": 3
   },
   "file_extension": ".py",
   "mimetype": "text/x-python",
   "name": "python",
   "nbconvert_exporter": "python",
   "pygments_lexer": "ipython3",
   "version": "3.10.9"
  }
 },
 "nbformat": 4,
 "nbformat_minor": 5
}
