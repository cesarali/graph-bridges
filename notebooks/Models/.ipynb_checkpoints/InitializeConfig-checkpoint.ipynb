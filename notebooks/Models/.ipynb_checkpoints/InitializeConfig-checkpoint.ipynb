{
 "cells": [
  {
   "cell_type": "code",
   "execution_count": 3,
   "id": "e16b2539",
   "metadata": {},
   "outputs": [],
   "source": [
    "import os\n",
    "import torch\n",
    "import numpy as np\n",
    "import pandas as pd\n",
    "from matplotlib import pyplot as plt\n",
    "\n",
    "%matplotlib inline"
   ]
  },
  {
   "cell_type": "code",
   "execution_count": 6,
   "id": "bd4c1d7f",
   "metadata": {},
   "outputs": [],
   "source": [
    "from graph_bridges.models.backward_rates.backward_rate import GaussianTargetRateImageX0PredEMA\n",
    "from graph_bridges.data.dataloaders import DoucetTargetData\n",
    "from graph_bridges.models.samplers.sampling import ReferenceProcess\n",
    "from graph_bridges.models.reference_process.ctdd_reference import ReferenceProcess\n",
    "from graph_bridges.models.losses.ctdd_losses import GenericAux\n",
    "from graph_bridges.models.schedulers.scheduling_ctdd import CTDDScheduler\n",
    "\n",
    "from graph_bridges.models.pipelines.pipelines_utils import create_pipelines\n",
    "from graph_bridges.models.schedulers.scheduling_utils import create_scheduler\n",
    "from graph_bridges.models.backward_rates.backward_rate_utils import create_model\n",
    "from graph_bridges.models.reference_process.reference_process_utils import create_reference\n",
    "from graph_bridges.data.dataloaders_utils import create_dataloader\n",
    "from graph_bridges.models.losses.loss_utils import create_loss\n",
    "\n",
    "from graph_bridges.configs.graphs.lobster.config_base import BridgeConfig"
   ]
  },
  {
   "cell_type": "code",
   "execution_count": 7,
   "id": "e89d868f",
   "metadata": {},
   "outputs": [],
   "source": [
    "config = BridgeConfig()\n",
    "device = torch.device(config.device)\n",
    "\n"
   ]
  },
  {
   "cell_type": "code",
   "execution_count": 8,
   "id": "3002aa37",
   "metadata": {},
   "outputs": [
    {
     "name": "stdout",
     "output_type": "stream",
     "text": [
      "Scheduler\n"
     ]
    }
   ],
   "source": [
    "#=================================================================\n",
    "# CREATE OBJECTS FROM CONFIGURATION\n",
    "\n",
    "data_dataloader: DoucetTargetData\n",
    "model : GaussianTargetRateImageX0PredEMA\n",
    "reference_process: ReferenceProcess\n",
    "loss : GenericAux\n",
    "scheduler:CTDDScheduler\n",
    "\n",
    "data_dataloader = create_dataloader(config,device)\n",
    "model = create_model(config,device)\n",
    "reference_process = create_reference(config,device)\n",
    "loss = create_loss(config,device)\n",
    "scheduler = create_scheduler(config,device)"
   ]
  },
  {
   "cell_type": "code",
   "execution_count": 10,
   "id": "5c64ef4e",
   "metadata": {},
   "outputs": [],
   "source": [
    "#=================================================================\n",
    "sample_ = data_dataloader.sample(config.number_of_paths, device)\n",
    "minibatch = sample_.unsqueeze(1).unsqueeze(1)\n"
   ]
  },
  {
   "cell_type": "code",
   "execution_count": 12,
   "id": "cda3b8ea",
   "metadata": {},
   "outputs": [],
   "source": [
    "# TIME ===========================================================\n",
    "#ts = torch.rand((minibatch.shape[0],), device=device) * (1.0 - config.loss.min_time) + config.loss.min_time\n",
    "B = minibatch.shape[0]\n",
    "ts = torch.rand((B,), device=device) * (1.0 - config.loss.min_time) + config.loss.min_time\n",
    "#==========\n",
    "\n",
    "x_t, x_tilde, qt0, rate = scheduler.add_noise(minibatch,reference_process,ts,device,return_dict=False)\n",
    "\n",
    "x_logits,p0t_reg,p0t_sig,reg_x = model.forward(minibatch,ts,x_tilde)"
   ]
  },
  {
   "cell_type": "code",
   "execution_count": 14,
   "id": "b5a23ccc",
   "metadata": {},
   "outputs": [],
   "source": [
    "scheduler_noise_output = scheduler.add_noise(minibatch,reference_process,ts,device,return_dict=True)\n",
    "\n",
    "model_forward_output = model.forward(minibatch,ts,x_tilde,return_dict=True)"
   ]
  },
  {
   "cell_type": "code",
   "execution_count": 15,
   "id": "c080f6b7",
   "metadata": {},
   "outputs": [
    {
     "data": {
      "text/plain": [
       "odict_keys(['x_t', 'x_tilde', 'qt0', 'rate'])"
      ]
     },
     "execution_count": 15,
     "metadata": {},
     "output_type": "execute_result"
    }
   ],
   "source": [
    "scheduler_noise_output.keys()"
   ]
  },
  {
   "cell_type": "code",
   "execution_count": 16,
   "id": "b8559365",
   "metadata": {},
   "outputs": [
    {
     "data": {
      "text/plain": [
       "odict_keys(['x_logits', 'p0t_reg', 'p0t_sig', 'reg_x'])"
      ]
     },
     "execution_count": 16,
     "metadata": {},
     "output_type": "execute_result"
    }
   ],
   "source": [
    "model_forward_output.keys()"
   ]
  },
  {
   "cell_type": "code",
   "execution_count": null,
   "id": "a1465558",
   "metadata": {},
   "outputs": [],
   "source": [
    "loss_ = loss.calc_loss(minibatch,x_tilde,qt0,rate,x_logits,reg_x,p0t_sig,p0t_reg,device)"
   ]
  }
 ],
 "metadata": {
  "kernelspec": {
   "display_name": "Python 3 (ipykernel)",
   "language": "python",
   "name": "python3"
  },
  "language_info": {
   "codemirror_mode": {
    "name": "ipython",
    "version": 3
   },
   "file_extension": ".py",
   "mimetype": "text/x-python",
   "name": "python",
   "nbconvert_exporter": "python",
   "pygments_lexer": "ipython3",
   "version": "3.10.9"
  }
 },
 "nbformat": 4,
 "nbformat_minor": 5
}
