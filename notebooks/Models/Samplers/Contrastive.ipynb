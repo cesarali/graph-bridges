{
 "cells": [
  {
   "cell_type": "code",
   "execution_count": 1,
   "id": "ada6fb02",
   "metadata": {},
   "outputs": [],
   "source": [
    "import numpy as np\n",
    "import torch\n",
    "import torch.nn as nn\n",
    "import torch.optim as optim\n",
    "from torchvision import datasets, transforms\n",
    "from torch.utils.data import DataLoader\n",
    "\n",
    "import os\n",
    "os.environ['CUDA_LAUNCH_BLOCKING'] = \"1\""
   ]
  },
  {
   "cell_type": "code",
   "execution_count": 2,
   "id": "8ce53164",
   "metadata": {},
   "outputs": [],
   "source": [
    "class RBM(nn.Module):\n",
    "    def __init__(self, num_visible, num_hidden):\n",
    "        super(RBM, self).__init__()\n",
    "        self.W = nn.Parameter(torch.randn(num_hidden, num_visible) * 0.01)\n",
    "        self.h_bias = nn.Parameter(torch.zeros(num_hidden))\n",
    "        self.v_bias = nn.Parameter(torch.zeros(num_visible))\n",
    "\n",
    "    def forward(self, v):\n",
    "        h_prob = torch.sigmoid(torch.matmul(v, self.W.t()) + self.h_bias)\n",
    "        h_sample = torch.bernoulli(h_prob)\n",
    "        return h_sample, h_prob\n",
    "\n",
    "    def backward(self, h):\n",
    "        v_prob = torch.sigmoid(torch.matmul(h, self.W) + self.v_bias)\n",
    "        v_sample = torch.bernoulli(v_prob)\n",
    "        return v_sample, v_prob\n"
   ]
  },
  {
   "cell_type": "code",
   "execution_count": 3,
   "id": "d8ff345e",
   "metadata": {},
   "outputs": [],
   "source": [
    "transform = transforms.Compose([transforms.ToTensor(),\n",
    "                                transforms.Lambda(lambda x: torch.flatten(x)),\n",
    "                                transforms.Lambda(lambda x: torch.bernoulli(x))])\n",
    "\n",
    "train_dataset = datasets.MNIST(root='./data', train=True, transform=transform, download=True)\n",
    "train_loader = DataLoader(train_dataset, batch_size=128, shuffle=True)"
   ]
  },
  {
   "cell_type": "code",
   "execution_count": 4,
   "id": "9eece035",
   "metadata": {
    "collapsed": true
   },
   "outputs": [
    {
     "name": "stdout",
     "output_type": "stream",
     "text": [
      "Epoch: 1, Loss: -0.2150\n",
      "Epoch: 2, Loss: -0.1747\n",
      "Epoch: 3, Loss: -0.1675\n",
      "Epoch: 4, Loss: -0.1499\n",
      "Epoch: 5, Loss: -0.1367\n",
      "Epoch: 6, Loss: -0.1427\n",
      "Epoch: 7, Loss: -0.1309\n",
      "Epoch: 8, Loss: -0.1295\n",
      "Epoch: 9, Loss: -0.1165\n",
      "Epoch: 10, Loss: -0.1289\n",
      "Epoch: 11, Loss: -0.1266\n",
      "Epoch: 12, Loss: -0.1210\n",
      "Epoch: 13, Loss: -0.1167\n",
      "Epoch: 14, Loss: -0.1137\n",
      "Epoch: 15, Loss: -0.1128\n",
      "Epoch: 16, Loss: -0.1100\n",
      "Epoch: 17, Loss: -0.1099\n",
      "Epoch: 18, Loss: -0.1083\n",
      "Epoch: 19, Loss: -0.1142\n",
      "Epoch: 20, Loss: -0.1047\n",
      "Epoch: 21, Loss: -0.1080\n",
      "Epoch: 22, Loss: -0.1065\n",
      "Epoch: 23, Loss: -0.1019\n",
      "Epoch: 24, Loss: -0.1021\n",
      "Epoch: 25, Loss: -0.0993\n",
      "Epoch: 26, Loss: -0.1020\n",
      "Epoch: 27, Loss: -0.0981\n",
      "Epoch: 28, Loss: -0.1029\n",
      "Epoch: 29, Loss: -0.1020\n",
      "Epoch: 30, Loss: -0.0976\n",
      "Epoch: 31, Loss: -0.0957\n",
      "Epoch: 32, Loss: -0.0962\n",
      "Epoch: 33, Loss: -0.0960\n",
      "Epoch: 34, Loss: -0.0950\n",
      "Epoch: 35, Loss: -0.0956\n",
      "Epoch: 36, Loss: -0.0973\n",
      "Epoch: 37, Loss: -0.0927\n",
      "Epoch: 38, Loss: -0.0927\n",
      "Epoch: 39, Loss: -0.0912\n",
      "Epoch: 40, Loss: -0.0970\n",
      "Epoch: 41, Loss: -0.0933\n",
      "Epoch: 42, Loss: -0.0948\n",
      "Epoch: 43, Loss: -0.0923\n",
      "Epoch: 44, Loss: -0.0873\n",
      "Epoch: 45, Loss: -0.0908\n",
      "Epoch: 46, Loss: -0.0986\n",
      "Epoch: 47, Loss: -0.0961\n",
      "Epoch: 48, Loss: -0.0916\n",
      "Epoch: 49, Loss: -0.0952\n",
      "Epoch: 50, Loss: -0.0877\n",
      "Epoch: 51, Loss: -0.0952\n",
      "Epoch: 52, Loss: -0.0972\n",
      "Epoch: 53, Loss: -0.0900\n",
      "Epoch: 54, Loss: -0.0902\n",
      "Epoch: 55, Loss: -0.0913\n",
      "Epoch: 56, Loss: -0.0896\n",
      "Epoch: 57, Loss: -0.0877\n",
      "Epoch: 58, Loss: -0.0897\n",
      "Epoch: 59, Loss: -0.0899\n",
      "Epoch: 60, Loss: -0.0880\n"
     ]
    }
   ],
   "source": [
    "num_visible = 28 * 28\n",
    "num_hidden = 500\n",
    "num_epochs = 60\n",
    "lr = 0.01\n",
    "\n",
    "device = torch.device(\"cuda\" if torch.cuda.is_available() else \"cpu\")\n",
    "\n",
    "# Move the RBM model to the device\n",
    "rbm = RBM(num_visible, num_hidden).to(device)\n",
    "\n",
    "optimizer = optim.SGD(rbm.parameters(), lr=lr)\n",
    "\n",
    "for epoch in range(1, num_epochs + 1):\n",
    "    for i, (data, _) in enumerate(train_loader):\n",
    "        data = data.view(-1, num_visible).to(device)\n",
    "        h0_sample, h0_prob = rbm(data)\n",
    "        v1_sample, v1_prob = rbm.backward(h0_sample)\n",
    "        h1_sample, h1_prob = rbm(v1_sample)\n",
    "\n",
    "        loss = torch.mean(data * torch.log(v1_prob) + (1 - data) * torch.log(1 - v1_prob))\n",
    "\n",
    "        optimizer.zero_grad()\n",
    "        positive_grad = torch.matmul(h0_prob.t(), data)\n",
    "        negative_grad = torch.matmul(h1_prob.t(), v1_sample)\n",
    "        loss.backward()\n",
    "        optimizer.step()\n",
    "\n",
    "        rbm.W.data += lr * (positive_grad - negative_grad) / data.size(0)\n",
    "\n",
    "    print(f\"Epoch: {epoch}, Loss: {loss.item():.4f}\")\n"
   ]
  },
  {
   "cell_type": "code",
   "execution_count": 5,
   "id": "37be4362",
   "metadata": {},
   "outputs": [],
   "source": [
    "def gibbs_sampling(rbm, num_gibbs_steps=100, num_samples=16):\n",
    "    h = torch.bernoulli(0.5 * torch.ones(num_samples, num_hidden).to(device))\n",
    "    for _ in range(num_gibbs_steps):\n",
    "        v, _ = rbm.backward(h)\n",
    "        h, _ = rbm(v)\n",
    "    return v"
   ]
  },
  {
   "cell_type": "code",
   "execution_count": 6,
   "id": "c6df783d",
   "metadata": {},
   "outputs": [
    {
     "data": {
      "image/png": "[encoded data removed]",
      "text/plain": [
       "<Figure size 2000x2000 with 16 Axes>"
      ]
     },
     "metadata": {},
     "output_type": "display_data"
    }
   ],
   "source": [
    "# Generate samples after training\n",
    "with torch.no_grad():\n",
    "    samples = gibbs_sampling(rbm).cpu().view(-1, 28, 28).numpy()\n",
    "\n",
    "# Visualization code (you'll need to import matplotlib)\n",
    "import matplotlib.pyplot as plt\n",
    "\n",
    "fig, axes = plt.subplots(1, len(samples), figsize=(20, 20))\n",
    "for axis, sample in zip(axes, samples):\n",
    "    axis.imshow(sample, cmap=\"gray\")\n",
    "    axis.axis(\"off\")\n",
    "plt.show()"
   ]
  },
  {
   "cell_type": "code",
   "execution_count": null,
   "id": "42011d0b",
   "metadata": {},
   "outputs": [],
   "source": []
  }
 ],
 "metadata": {
  "kernelspec": {
   "display_name": "Python 3 (ipykernel)",
   "language": "python",
   "name": "python3"
  },
  "language_info": {
   "codemirror_mode": {
    "name": "ipython",
    "version": 3
   },
   "file_extension": ".py",
   "mimetype": "text/x-python",
   "name": "python",
   "nbconvert_exporter": "python",
   "pygments_lexer": "ipython3",
   "version": "3.10.9"
  }
 },
 "nbformat": 4,
 "nbformat_minor": 5
}
