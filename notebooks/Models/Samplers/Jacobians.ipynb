{
 "cells": [
  {
   "cell_type": "code",
   "execution_count": 37,
   "id": "80f42c00",
   "metadata": {},
   "outputs": [],
   "source": [
    "import torch\n",
    "\n",
    "# Define your MLP model\n",
    "class MLP(torch.nn.Module):\n",
    "    def __init__(self, input_dim, hidden_dim, output_dim):\n",
    "        super(MLP, self).__init__()\n",
    "        self.fc1 = torch.nn.Linear(input_dim, hidden_dim)\n",
    "        self.relu = torch.nn.ReLU()\n",
    "        self.fc2 = torch.nn.Linear(hidden_dim, output_dim)\n",
    "\n",
    "    def forward(self, x):\n",
    "        x = self.fc1(x)\n",
    "        x = self.relu(x)\n",
    "        x = self.fc2(x)\n",
    "        return x\n",
    "\n",
    "    # Define your MLP model\n",
    "class TimeMLP(torch.nn.Module):\n",
    "    def __init__(self, input_dim, hidden_dim, output_dim):\n",
    "        super(TimeMLP, self).__init__()\n",
    "        self.fc1 = torch.nn.Linear(input_dim+1, hidden_dim)\n",
    "        self.relu = torch.nn.ReLU()\n",
    "        self.fc2 = torch.nn.Linear(hidden_dim, output_dim)\n",
    "\n",
    "    def forward(self,x,t):\n",
    "        x_ = torch.cat((x,t),-1)\n",
    "        x_ = self.fc1(x_)\n",
    "        x_ = self.relu(x_)\n",
    "        x_ = self.fc2(x_)\n",
    "        return x_\n",
    "    \n",
    "def compute_jacobian(model, input_data):\n",
    "    input_data.requires_grad_(True)\n",
    "    output = model(input_data)\n",
    "    batch_size, num_outputs = output.size(0), output.size(1)\n",
    "    jacobian = torch.zeros(batch_size, num_outputs, input_data.size(1))\n",
    "    \n",
    "    for i in range(num_outputs):\n",
    "        output_i = output[:, i]\n",
    "        gradient = torch.zeros_like(output_i)\n",
    "        gradient.fill_(1.0)\n",
    "        output_i.backward(gradient, retain_graph=True)\n",
    "        jacobian[:, i, :] = input_data.grad.clone()\n",
    "        input_data.grad.zero_()\n",
    "    \n",
    "    return jacobian"
   ]
  },
  {
   "cell_type": "code",
   "execution_count": 40,
   "id": "d2e317d0",
   "metadata": {},
   "outputs": [],
   "source": [
    "# Create an instance of the MLP\n",
    "input_dim = 3\n",
    "output_dim = 2\n",
    "\n",
    "hidden_dim = 10\n",
    "batch_size = 23\n",
    "x = torch.randn(batch_size, input_dim)\n",
    "t = torch.randn(batch_size, 1)\n",
    "\n",
    "mlp = MLP(input_dim, hidden_dim, output_dim)\n",
    "time_mlp = TimeMLP(input_dim, hidden_dim, output_dim)\n",
    "mlp_t = lambda x:time_mlp(x,t)"
   ]
  },
  {
   "cell_type": "code",
   "execution_count": 42,
   "id": "c4cc3a54",
   "metadata": {},
   "outputs": [
    {
     "data": {
      "text/plain": [
       "torch.Size([23, 2, 3])"
      ]
     },
     "execution_count": 42,
     "metadata": {},
     "output_type": "execute_result"
    }
   ],
   "source": [
    "J = compute_jacobian(mlp_t, x)\n",
    "J.shape"
   ]
  },
  {
   "cell_type": "code",
   "execution_count": 39,
   "id": "49b6093a",
   "metadata": {},
   "outputs": [],
   "source": []
  },
  {
   "cell_type": "code",
   "execution_count": null,
   "id": "def89af9",
   "metadata": {},
   "outputs": [],
   "source": []
  }
 ],
 "metadata": {
  "kernelspec": {
   "display_name": "Python 3 (ipykernel)",
   "language": "python",
   "name": "python3"
  },
  "language_info": {
   "codemirror_mode": {
    "name": "ipython",
    "version": 3
   },
   "file_extension": ".py",
   "mimetype": "text/x-python",
   "name": "python",
   "nbconvert_exporter": "python",
   "pygments_lexer": "ipython3",
   "version": "3.10.9"
  }
 },
 "nbformat": 4,
 "nbformat_minor": 5
}
