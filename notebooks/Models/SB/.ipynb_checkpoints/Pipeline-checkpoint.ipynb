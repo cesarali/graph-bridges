{
 "cells": [
  {
   "cell_type": "code",
   "execution_count": 1,
   "id": "61d6b561",
   "metadata": {},
   "outputs": [],
   "source": [
    "import os\n",
    "import sys\n",
    "import torch\n",
    "\n",
    "import numpy as np\n",
    "import pandas as pd\n",
    "from matplotlib import pyplot as plt\n",
    "\n",
    "%matplotlib inline"
   ]
  },
  {
   "cell_type": "code",
   "execution_count": 2,
   "id": "70f1ca60",
   "metadata": {},
   "outputs": [],
   "source": [
    "from graph_bridges.configs.graphs.config_sb import SBConfig\n",
    "from graph_bridges.configs.graphs.config_sb import TrainerConfig, ParametrizedSamplerConfig\n",
    "from graph_bridges.data.graph_dataloaders_config import EgoConfig,CommunityConfig,CommunitySmallConfig\n",
    "from graph_bridges.models.backward_rates.backward_rate_config import BackRateMLPConfig\n",
    "from graph_bridges.configs.graphs.config_sb import SBConfig, ParametrizedSamplerConfig, SteinSpinEstimatorConfig\n",
    "from graph_bridges.models.backward_rates.backward_rate_config import GaussianTargetRateImageX0PredEMAConfig"
   ]
  },
  {
   "cell_type": "code",
   "execution_count": 3,
   "id": "280d458b",
   "metadata": {},
   "outputs": [],
   "source": [
    "from graph_bridges.models.generative_models.sb import SB\n",
    "from graph_bridges.models.metrics.sb_metrics import paths_marginal_histograms"
   ]
  },
  {
   "cell_type": "code",
   "execution_count": 4,
   "id": "00321c73",
   "metadata": {},
   "outputs": [],
   "source": [
    "config = SBConfig(delete=True)\n",
    "\n",
    "#config.data = EgoConfig(as_image=False, batch_size=32, full_adjacency=False)\n",
    "#config.data = CommunityConfig(as_image=False, batch_size=32, full_adjacency=False)\n",
    "config.data = EgoConfig(as_image=False, batch_size=32, full_adjacency=False)\n",
    "#config.data = CommunitySmallConfig(as_image=False, batch_size=32, full_adjacency=False)\n",
    "config.model = GaussianTargetRateImageX0PredEMAConfig(time_embed_dim=12, fix_logistic=False)\n",
    "\n",
    "#config.model = BackRateMLPConfig(time_embed_dim=14,hidden_layer=150)\n",
    "config.stein = SteinSpinEstimatorConfig(stein_sample_size=100)\n",
    "config.sampler = ParametrizedSamplerConfig(num_steps=10,step_type=\"Poisson\")\n",
    "config.optimizer = TrainerConfig(learning_rate=1e-3,\n",
    "                                 num_epochs=200,\n",
    "                                 save_metric_epochs=20,\n",
    "                                 metrics=[\"graphs_plots\",\n",
    "                                          \"histograms\"])\n",
    "config.align_configurations()\n",
    "#read the model\n",
    "device = torch.device(\"cpu\")\n",
    "sb = SB(config, device)"
   ]
  },
  {
   "cell_type": "code",
   "execution_count": 5,
   "id": "5de8ad96",
   "metadata": {},
   "outputs": [],
   "source": [
    "databatch = next(sb.data_dataloader.train().__iter__())\n",
    "x_spins_data = databatch[0]"
   ]
  },
  {
   "cell_type": "code",
   "execution_count": 8,
   "id": "6672de25",
   "metadata": {},
   "outputs": [
    {
     "name": "stdout",
     "output_type": "stream",
     "text": [
      "From Dataloader full path in image shape with times\n"
     ]
    },
    {
     "name": "stderr",
     "output_type": "stream",
     "text": [
      "10it [00:00, 1431.41it/s]\n"
     ]
    },
    {
     "name": "stdout",
     "output_type": "stream",
     "text": [
      "From given start\n"
     ]
    },
    {
     "name": "stderr",
     "output_type": "stream",
     "text": [
      "10it [00:00, 80.73it/s]\n"
     ]
    }
   ],
   "source": [
    "print(\"From Dataloader full path in image shape with times\")\n",
    "spins_path_1, times_1 = sb.pipeline(None, 0, device, return_path=True,return_path_shape=True)\n",
    "\n",
    "print(\"From given start\")\n",
    "spins_path_2, times_2 = sb.pipeline(sb.training_model,1,device,x_spins_data,return_path=True,return_path_shape=True)"
   ]
  },
  {
   "cell_type": "code",
   "execution_count": 7,
   "id": "519ba87f",
   "metadata": {},
   "outputs": [
    {
     "name": "stderr",
     "output_type": "stream",
     "text": [
      "10it [00:00, 926.59it/s]\n",
      "10it [00:00, 72.33it/s]\n",
      "10it [00:00, 990.41it/s]\n",
      "10it [00:00, 76.68it/s]\n",
      "10it [00:00, 900.32it/s]\n",
      "10it [00:00, 73.66it/s]\n",
      "10it [00:00, 1089.51it/s]\n",
      "10it [00:00, 73.65it/s]\n",
      "10it [00:00, 945.54it/s]\n",
      "10it [00:00, 81.66it/s]"
     ]
    },
    {
     "name": "stdout",
     "output_type": "stream",
     "text": [
      "Past Model 0\n",
      "tensor([99., 78., 82., 45., 29., 26., 16., 12.,  5.,  8.,  6.,  4.,  3.,  4.,\n",
      "         3.,  0.,  0., 72., 72., 53., 28., 24., 17., 13.,  5.,  3.,  3.,  3.,\n",
      "         2.,  4.,  1.,  0.,  0., 75., 39., 22., 22., 16.,  9.,  3.,  4.,  5.,\n",
      "         4.,  2.,  3.,  1.,  0.,  0., 49., 31., 22., 10., 13.,  4.,  1.,  4.,\n",
      "         2.,  3.,  3.,  1.,  0.,  0., 27., 20., 12., 11.,  5.,  2.,  3.,  2.,\n",
      "         1.,  2.,  2.,  0.,  0., 17., 12., 11.,  4.,  5.,  4.,  3.,  0.,  2.,\n",
      "         3.,  0.,  0., 13., 12.,  6.,  4.,  4.,  1.,  2.,  2.,  1.,  0.,  0.,\n",
      "        13.,  8.,  3.,  6.,  3.,  0.,  2.,  1.,  0.,  0., 10.,  6.,  5.,  0.,\n",
      "         0.,  2.,  2.,  0.,  0.,  1.,  4.,  2.,  2.,  2.,  1.,  0.,  0.,  5.,\n",
      "         3.,  1.,  3.,  1.,  0.,  0.,  2.,  1.,  3.,  3.,  0.,  0.,  1.,  2.,\n",
      "         1.,  0.,  0.,  3.,  1.,  0.,  0.,  3.,  0.,  0.,  0.,  0.,  0.])\n",
      "Past Model 1\n",
      "tensor([83., 86., 86., 80., 89., 82., 70., 85., 92., 82., 88., 73., 75., 85.,\n",
      "        73., 77., 72., 81., 91., 85., 80., 69., 78., 74., 71., 81., 75., 78.,\n",
      "        73., 90., 73., 88., 79., 73., 91., 80., 88., 78., 88., 74., 86., 83.,\n",
      "        69., 81., 78., 83., 84., 71., 87., 87., 85., 79., 79., 74., 94., 78.,\n",
      "        72., 73., 80., 80., 80., 86., 79., 81., 76., 90., 83., 77., 85., 90.,\n",
      "        84., 82., 77., 83., 74., 90., 82., 87., 82., 83., 77., 74., 89., 71.,\n",
      "        73., 75., 78., 80., 88., 85., 79., 72., 76., 73., 75., 68., 89., 69.,\n",
      "        68., 76., 86., 90., 72., 85., 71., 73., 80., 68., 82., 88., 65., 72.,\n",
      "        79., 74., 85., 87., 80., 75., 75., 83., 75., 84., 87., 78., 85., 74.,\n",
      "        77., 80., 73., 74., 65., 79., 74., 83., 73., 69., 79., 83., 66., 78.,\n",
      "        77., 82., 85., 79., 82., 83., 88., 80., 75., 91., 66., 92., 87.])\n",
      "Training Model 0\n",
      "tensor([83., 86., 86., 80., 89., 82., 70., 85., 92., 82., 88., 73., 75., 85.,\n",
      "        73., 77., 72., 81., 91., 85., 80., 69., 78., 74., 71., 81., 75., 78.,\n",
      "        73., 90., 73., 88., 79., 73., 91., 80., 88., 78., 88., 74., 86., 83.,\n",
      "        69., 81., 78., 83., 84., 71., 87., 87., 85., 79., 79., 74., 94., 78.,\n",
      "        72., 73., 80., 80., 80., 86., 79., 81., 76., 90., 83., 77., 85., 90.,\n",
      "        84., 82., 77., 83., 74., 90., 82., 87., 82., 83., 77., 74., 89., 71.,\n",
      "        73., 75., 78., 80., 88., 85., 79., 72., 76., 73., 75., 68., 89., 69.,\n",
      "        68., 76., 86., 90., 72., 85., 71., 73., 80., 68., 82., 88., 65., 72.,\n",
      "        79., 74., 85., 87., 80., 75., 75., 83., 75., 84., 87., 78., 85., 74.,\n",
      "        77., 80., 73., 74., 65., 79., 74., 83., 73., 69., 79., 83., 66., 78.,\n",
      "        77., 82., 85., 79., 82., 83., 88., 80., 75., 91., 66., 92., 87.])\n",
      "Training Model 1\n",
      "tensor([106., 112., 113., 108., 111., 107., 100., 110., 114., 110., 108., 104.,\n",
      "        106., 111., 100.,  96., 100., 104., 116., 107., 104., 100., 110., 102.,\n",
      "        103., 107., 116., 109., 109., 115.,  98., 110., 112., 104., 117., 102.,\n",
      "        111., 106., 106., 101., 105., 111.,  97., 108., 108., 111., 110., 101.,\n",
      "        113., 113., 106., 110., 107., 106., 117., 102., 102.,  98., 104., 103.,\n",
      "        113., 107., 103., 105., 114., 112., 105., 108., 109., 115., 111., 116.,\n",
      "        105., 104., 103., 126., 111., 106., 108., 109.,  98.,  97., 112., 100.,\n",
      "        103., 106., 105., 111., 114., 112., 101., 105., 105.,  95., 106.,  96.,\n",
      "        112., 103., 101., 108., 107., 110., 101., 108.,  99.,  96., 108., 103.,\n",
      "        110., 109., 105., 105., 104., 102., 110., 109., 106., 104., 101., 111.,\n",
      "        111., 110., 112., 105., 112., 107., 111.,  95., 110., 103.,  99., 110.,\n",
      "        100., 109., 110., 101., 101., 106.,  93., 104., 104., 112., 111., 106.,\n",
      "        106., 111., 107., 100.,  98., 116.,  97., 122., 111.])\n"
     ]
    },
    {
     "name": "stderr",
     "output_type": "stream",
     "text": [
      "\n"
     ]
    }
   ],
   "source": [
    "backward_histogram,forward_histogram, times_1, times_2 = paths_marginal_histograms(sb=sb,\n",
    "                                                                                   sinkhorn_iteration=0,\n",
    "                                                                                   device=device,\n",
    "                                                                                   current_model=sb.training_model,\n",
    "                                                                                   past_to_train_model=None)"
   ]
  },
  {
   "cell_type": "code",
   "execution_count": 59,
   "id": "a3a18ea8",
   "metadata": {},
   "outputs": [
    {
     "name": "stdout",
     "output_type": "stream",
     "text": [
      "From given start\n"
     ]
    },
    {
     "name": "stderr",
     "output_type": "stream",
     "text": [
      "10it [00:00, 62.73it/s]\n"
     ]
    }
   ],
   "source": []
  },
  {
   "cell_type": "code",
   "execution_count": 64,
   "id": "357c9699",
   "metadata": {},
   "outputs": [
    {
     "data": {
      "text/plain": [
       "tensor(-4356.)"
      ]
     },
     "execution_count": 64,
     "metadata": {},
     "output_type": "execute_result"
    }
   ],
   "source": [
    "x_spins_data.sum()"
   ]
  },
  {
   "cell_type": "code",
   "execution_count": 65,
   "id": "220a0d41",
   "metadata": {},
   "outputs": [
    {
     "data": {
      "text/plain": [
       "tensor(-4356.)"
      ]
     },
     "execution_count": 65,
     "metadata": {},
     "output_type": "execute_result"
    }
   ],
   "source": [
    "spins_path_2[:,0,:].sum()"
   ]
  },
  {
   "cell_type": "code",
   "execution_count": 45,
   "id": "9dab7a10",
   "metadata": {},
   "outputs": [
    {
     "data": {
      "text/plain": [
       "tensor([1.0000, 0.8900, 0.7800, 0.6700, 0.5600, 0.4500, 0.3400, 0.2300, 0.1200,\n",
       "        0.0100, 0.0000], dtype=torch.float64)"
      ]
     },
     "execution_count": 45,
     "metadata": {},
     "output_type": "execute_result"
    }
   ],
   "source": [
    "times_2[0]"
   ]
  },
  {
   "cell_type": "code",
   "execution_count": null,
   "id": "0f4be2d1",
   "metadata": {},
   "outputs": [],
   "source": []
  }
 ],
 "metadata": {
  "kernelspec": {
   "display_name": "Python 3 (ipykernel)",
   "language": "python",
   "name": "python3"
  },
  "language_info": {
   "codemirror_mode": {
    "name": "ipython",
    "version": 3
   },
   "file_extension": ".py",
   "mimetype": "text/x-python",
   "name": "python",
   "nbconvert_exporter": "python",
   "pygments_lexer": "ipython3",
   "version": "3.10.9"
  }
 },
 "nbformat": 4,
 "nbformat_minor": 5
}
