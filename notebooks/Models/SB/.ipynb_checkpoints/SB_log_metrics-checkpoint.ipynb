{
 "cells": [
  {
   "cell_type": "code",
   "execution_count": 1,
   "id": "96d06d33",
   "metadata": {},
   "outputs": [],
   "source": [
    "import torch\n",
    "from graph_bridges.models.generative_models.sb import SB\n",
    "from graph_bridges.configs.graphs.graph_config_sb import SBConfig"
   ]
  },
  {
   "cell_type": "code",
   "execution_count": 3,
   "id": "8fd39cd6",
   "metadata": {},
   "outputs": [],
   "source": [
    "sinkhorn_iteration = 0\n",
    "\n",
    "sb = SB()\n",
    "results, metrics, device = sb.load_from_results_folder(experiment_name=\"graph\",\n",
    "                                                       experiment_type=\"sb\",\n",
    "                                                       experiment_indentifier=\"community_bernoulli_mse\",\n",
    "                                                       sinkhorn_iteration_to_load=sinkhorn_iteration)"
   ]
  },
  {
   "cell_type": "code",
   "execution_count": null,
   "id": "6d7a257f",
   "metadata": {},
   "outputs": [],
   "source": []
  },
  {
   "cell_type": "code",
   "execution_count": 5,
   "id": "9c6e5833",
   "metadata": {},
   "outputs": [
    {
     "ename": "NameError",
     "evalue": "name 'config' is not defined",
     "output_type": "error",
     "traceback": [
      "\u001b[1;31m---------------------------------------------------------------------------\u001b[0m",
      "\u001b[1;31mNameError\u001b[0m                                 Traceback (most recent call last)",
      "Cell \u001b[1;32mIn[5], line 3\u001b[0m\n\u001b[0;32m      1\u001b[0m obtain_number \u001b[38;5;241m=\u001b[39m \u001b[38;5;28;01mlambda\u001b[39;00m x: \u001b[38;5;28mint\u001b[39m(x\u001b[38;5;241m.\u001b[39mname\u001b[38;5;241m.\u001b[39msplit(\u001b[38;5;124m\"\u001b[39m\u001b[38;5;124m_\u001b[39m\u001b[38;5;124m\"\u001b[39m)[\u001b[38;5;241m-\u001b[39m\u001b[38;5;241m1\u001b[39m]\u001b[38;5;241m.\u001b[39msplit(\u001b[38;5;124m\"\u001b[39m\u001b[38;5;124m.\u001b[39m\u001b[38;5;124m\"\u001b[39m)[\u001b[38;5;241m0\u001b[39m]) \u001b[38;5;28;01mif\u001b[39;00m x\u001b[38;5;241m.\u001b[39mname\u001b[38;5;241m.\u001b[39msplit(\u001b[38;5;124m\"\u001b[39m\u001b[38;5;124m_\u001b[39m\u001b[38;5;124m\"\u001b[39m)[\u001b[38;5;241m-\u001b[39m\u001b[38;5;241m1\u001b[39m]\u001b[38;5;241m.\u001b[39msplit(\u001b[38;5;124m\"\u001b[39m\u001b[38;5;124m.\u001b[39m\u001b[38;5;124m\"\u001b[39m)[\u001b[38;5;241m0\u001b[39m]\u001b[38;5;241m.\u001b[39misdigit() \u001b[38;5;28;01melse\u001b[39;00m \u001b[38;5;28;01mNone\u001b[39;00m\n\u001b[1;32m----> 3\u001b[0m generic_metric_path_ \u001b[38;5;241m=\u001b[39m \u001b[43mconfig\u001b[49m\u001b[38;5;241m.\u001b[39mexperiment_files\u001b[38;5;241m.\u001b[39mmetrics_file\u001b[38;5;241m.\u001b[39mformat(metric_string_identifier \u001b[38;5;241m+\u001b[39m \u001b[38;5;124m\"\u001b[39m\u001b[38;5;124m*\u001b[39m\u001b[38;5;124m\"\u001b[39m)\n\u001b[0;32m      4\u001b[0m generic_metric_path_to_fill \u001b[38;5;241m=\u001b[39m config\u001b[38;5;241m.\u001b[39mexperiment_files\u001b[38;5;241m.\u001b[39mmetrics_file\u001b[38;5;241m.\u001b[39mformat(metric_string_identifier \u001b[38;5;241m+\u001b[39m \u001b[38;5;124m\"\u001b[39m\u001b[38;5;124m_\u001b[39m\u001b[38;5;132;01m{0}\u001b[39;00m\u001b[38;5;124m\"\u001b[39m)\n\u001b[0;32m      5\u001b[0m generic_metric_path_ \u001b[38;5;241m=\u001b[39m Path(generic_metric_path_)\n",
      "\u001b[1;31mNameError\u001b[0m: name 'config' is not defined"
     ]
    }
   ],
   "source": [
    "obtain_number = lambda x: int(x.name.split(\"_\")[-1].split(\".\")[0]) if x.name.split(\"_\")[-1].split(\".\")[0].isdigit() else None\n",
    "\n",
    "generic_metric_path_ = config.experiment_files.metrics_file.format(metric_string_identifier + \"*\")\n",
    "generic_metric_path_to_fill = config.experiment_files.metrics_file.format(metric_string_identifier + \"_{0}\")\n",
    "generic_metric_path_ = Path(generic_metric_path_)\n",
    "\n",
    "# avaliable numbers\n",
    "# numbers_available = list(map(obtain_number,generic_metric_path_.parent.glob(generic_metric_path_.name)))"
   ]
  },
  {
   "cell_type": "code",
   "execution_count": null,
   "id": "706d45c0",
   "metadata": {},
   "outputs": [],
   "source": []
  },
  {
   "cell_type": "code",
   "execution_count": null,
   "id": "cdf20ed4",
   "metadata": {},
   "outputs": [],
   "source": []
  }
 ],
 "metadata": {
  "kernelspec": {
   "display_name": "Python 3 (ipykernel)",
   "language": "python",
   "name": "python3"
  },
  "language_info": {
   "codemirror_mode": {
    "name": "ipython",
    "version": 3
   },
   "file_extension": ".py",
   "mimetype": "text/x-python",
   "name": "python",
   "nbconvert_exporter": "python",
   "pygments_lexer": "ipython3",
   "version": "3.10.9"
  }
 },
 "nbformat": 4,
 "nbformat_minor": 5
}
