{
 "cells": [
  {
   "cell_type": "code",
   "execution_count": 15,
   "id": "e9ad54e8",
   "metadata": {},
   "outputs": [],
   "source": [
    "import os\n",
    "import torch\n",
    "from pathlib import Path\n",
    "from graph_bridges.models.generative_models.sb import SB\n",
    "from graph_bridges.configs.graphs.graph_config_sb import SBConfig"
   ]
  },
  {
   "cell_type": "code",
   "execution_count": 16,
   "id": "80dc6702",
   "metadata": {},
   "outputs": [],
   "source": [
    "sinkhorn_iteration = 0\n",
    "\n",
    "sb = SB()\n",
    "results, metrics, device = sb.load_from_results_folder(experiment_name=\"graph\",\n",
    "                                                       experiment_type=\"sb\",\n",
    "                                                       experiment_indentifier=\"community_bernoulli_mse\",\n",
    "                                                       sinkhorn_iteration_to_load=sinkhorn_iteration)"
   ]
  },
  {
   "cell_type": "code",
   "execution_count": 17,
   "id": "49358ee2",
   "metadata": {},
   "outputs": [],
   "source": [
    "config = sb.config"
   ]
  },
  {
   "cell_type": "code",
   "execution_count": 31,
   "id": "c733cf46",
   "metadata": {},
   "outputs": [
    {
     "data": {
      "text/plain": [
       "[0, 100, 25, 50, 75]"
      ]
     },
     "execution_count": 31,
     "metadata": {},
     "output_type": "execute_result"
    }
   ],
   "source": [
    "metric_string_identifier = \"mse_histograms\"\n",
    "sinkhorn_iteration = 0 \n",
    "\n",
    "obtain_number = lambda x: int(x.name.split(\"_\")[-1].split(\".\")[0]) if x.name.split(\"_\")[-1].split(\".\")[0].isdigit() else None\n",
    "\n",
    "generic_metric_path_ = config.experiment_files.metrics_file.format(metric_string_identifier + \"_sinkhorn_{0}_\".format(sinkhorn_iteration)+\"*\")\n",
    "generic_metric_path_to_fill = config.experiment_files.metrics_file.format(metric_string_identifier + \"__sinkhorn_{0}_\".format(sinkhorn_iteration)+\"{0}\")\n",
    "generic_metric_path_ = Path(generic_metric_path_)\n",
    "\n",
    "# avaliable numbers\n",
    "numbers_available = list(map(obtain_number,generic_metric_path_.parent.glob(generic_metric_path_.name)))\n",
    "numbers_available"
   ]
  },
  {
   "cell_type": "code",
   "execution_count": 32,
   "id": "2ce54182",
   "metadata": {},
   "outputs": [
    {
     "data": {
      "text/plain": [
       "WindowsPath('C:/Users/cesar/Desktop/Projects/DiffusiveGenerativeModelling/Codes/graph-bridges/results/graph/sb/community_bernoulli_mse/metrics_mse_histograms_sinkhorn_0_*.json')"
      ]
     },
     "execution_count": 32,
     "metadata": {},
     "output_type": "execute_result"
    }
   ],
   "source": [
    "generic_metric_path_"
   ]
  },
  {
   "cell_type": "code",
   "execution_count": 26,
   "id": "1927d4b2",
   "metadata": {},
   "outputs": [
    {
     "data": {
      "text/plain": [
       "'C:\\\\Users\\\\cesar\\\\Desktop\\\\Projects\\\\DiffusiveGenerativeModelling\\\\Codes\\\\graph-bridges\\\\results\\\\graph\\\\sb\\\\community_bernoulli_mse\\\\metrics_mse_histograms_0_{0}.json'"
      ]
     },
     "execution_count": 26,
     "metadata": {},
     "output_type": "execute_result"
    }
   ],
   "source": [
    "generic_metric_path_to_fill"
   ]
  },
  {
   "cell_type": "code",
   "execution_count": 23,
   "id": "ef8dab03",
   "metadata": {},
   "outputs": [
    {
     "data": {
      "text/plain": [
       "['best_model_sinkhorn_0.tr',\n",
       " 'config.json',\n",
       " 'metrics_mse_histograms_sinkhorn_0_0.json',\n",
       " 'metrics_mse_histograms_sinkhorn_0_100.json',\n",
       " 'metrics_mse_histograms_sinkhorn_0_25.json',\n",
       " 'metrics_mse_histograms_sinkhorn_0_50.json',\n",
       " 'metrics_mse_histograms_sinkhorn_0_75.json',\n",
       " 'model_checkpoint_100_sinkhorn_0.tr',\n",
       " 'model_checkpoint_50_sinkhorn_0.tr',\n",
       " 'path_marginal_at_site_histograms_sinkhorn_0_0.png',\n",
       " 'path_marginal_at_site_histograms_sinkhorn_0_100.png',\n",
       " 'path_marginal_at_site_histograms_sinkhorn_0_25.png',\n",
       " 'path_marginal_at_site_histograms_sinkhorn_0_50.png',\n",
       " 'path_marginal_at_site_histograms_sinkhorn_0_75.png',\n",
       " 'tensorboard']"
      ]
     },
     "execution_count": 23,
     "metadata": {},
     "output_type": "execute_result"
    }
   ],
   "source": [
    "os.listdir(config.experiment_files.results_dir)"
   ]
  },
  {
   "cell_type": "code",
   "execution_count": 34,
   "id": "53e365e5",
   "metadata": {},
   "outputs": [
    {
     "data": {
      "text/plain": [
       "10"
      ]
     },
     "execution_count": 34,
     "metadata": {},
     "output_type": "execute_result"
    }
   ],
   "source": [
    "max(10,1)"
   ]
  }
 ],
 "metadata": {
  "kernelspec": {
   "display_name": "Python 3 (ipykernel)",
   "language": "python",
   "name": "python3"
  },
  "language_info": {
   "codemirror_mode": {
    "name": "ipython",
    "version": 3
   },
   "file_extension": ".py",
   "mimetype": "text/x-python",
   "name": "python",
   "nbconvert_exporter": "python",
   "pygments_lexer": "ipython3",
   "version": "3.10.9"
  }
 },
 "nbformat": 4,
 "nbformat_minor": 5
}
