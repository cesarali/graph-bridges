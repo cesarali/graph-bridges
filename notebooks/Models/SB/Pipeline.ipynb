{
 "cells": [
  {
   "cell_type": "code",
   "execution_count": 1,
   "id": "52d5fe65",
   "metadata": {},
   "outputs": [],
   "source": [
    "import os\n",
    "import sys\n",
    "import torch\n",
    "\n",
    "import numpy as np\n",
    "import pandas as pd\n",
    "from matplotlib import pyplot as plt\n",
    "\n",
    "%matplotlib inline"
   ]
  },
  {
   "cell_type": "code",
   "execution_count": 2,
   "id": "fb5d36ec",
   "metadata": {},
   "outputs": [],
   "source": [
    "from graph_bridges.configs.graphs.config_sb import SBConfig\n",
    "from graph_bridges.configs.graphs.config_sb import TrainerConfig, ParametrizedSamplerConfig\n",
    "from graph_bridges.data.graph_dataloaders_config import EgoConfig,CommunityConfig,CommunitySmallConfig\n",
    "from graph_bridges.models.backward_rates.backward_rate_config import BackRateMLPConfig\n",
    "from graph_bridges.configs.graphs.config_sb import SBConfig, ParametrizedSamplerConfig, SteinSpinEstimatorConfig\n",
    "from graph_bridges.models.backward_rates.backward_rate_config import GaussianTargetRateImageX0PredEMAConfig"
   ]
  },
  {
   "cell_type": "code",
   "execution_count": 3,
   "id": "ce24dd59",
   "metadata": {},
   "outputs": [],
   "source": [
    "from graph_bridges.models.generative_models.sb import SB\n",
    "from graph_bridges.models.metrics.sb_metrics import paths_marginal_histograms"
   ]
  },
  {
   "cell_type": "code",
   "execution_count": 12,
   "id": "c2196a52",
   "metadata": {},
   "outputs": [],
   "source": [
    "config = SBConfig(delete=True)\n",
    "\n",
    "#config.data = EgoConfig(as_image=False, batch_size=32, full_adjacency=False)\n",
    "config.data = CommunityConfig(as_image=False, batch_size=32, full_adjacency=False)\n",
    "#config.data = EgoConfig(as_image=False, batch_size=32, full_adjacency=False)\n",
    "#config.data = CommunitySmallConfig(as_image=False, batch_size=32, full_adjacency=False)\n",
    "config.model = GaussianTargetRateImageX0PredEMAConfig(time_embed_dim=12, fix_logistic=False)\n",
    "\n",
    "#config.model = BackRateMLPConfig(time_embed_dim=14,hidden_layer=150)\n",
    "config.stein = SteinSpinEstimatorConfig(stein_sample_size=100)\n",
    "config.sampler = ParametrizedSamplerConfig(num_steps=10,step_type=\"Poisson\")\n",
    "config.optimizer = TrainerConfig(learning_rate=1e-3,\n",
    "                                 num_epochs=200,\n",
    "                                 save_metric_epochs=20,\n",
    "                                 metrics=[\"graphs_plots\",\n",
    "                                          \"histograms\"])\n",
    "config.align_configurations()\n",
    "#read the model\n",
    "device = torch.device(\"cpu\")\n",
    "sb = SB(config, device)"
   ]
  },
  {
   "cell_type": "code",
   "execution_count": 13,
   "id": "5ff30563",
   "metadata": {},
   "outputs": [],
   "source": [
    "databatch = next(sb.data_dataloader.train().__iter__())\n",
    "x_spins_data = databatch[0]"
   ]
  },
  {
   "cell_type": "code",
   "execution_count": 14,
   "id": "59878000",
   "metadata": {},
   "outputs": [
    {
     "name": "stdout",
     "output_type": "stream",
     "text": [
      "From Dataloader full path in image shape with times\n"
     ]
    },
    {
     "name": "stderr",
     "output_type": "stream",
     "text": [
      "10it [00:00, 1540.27it/s]\n"
     ]
    },
    {
     "name": "stdout",
     "output_type": "stream",
     "text": [
      "From given start\n"
     ]
    },
    {
     "name": "stderr",
     "output_type": "stream",
     "text": [
      "10it [00:00, 155.57it/s]\n"
     ]
    }
   ],
   "source": [
    "print(\"From Dataloader full path in image shape with times\")\n",
    "spins_path_1, times_1 = sb.pipeline(None, 0, device, return_path=True,return_path_shape=True)\n",
    "\n",
    "print(\"From given start\")\n",
    "spins_path_2, times_2 = sb.pipeline(sb.training_model,1,device,x_spins_data,return_path=True,return_path_shape=True)"
   ]
  },
  {
   "cell_type": "code",
   "execution_count": 17,
   "id": "2a8756cf",
   "metadata": {
    "collapsed": true
   },
   "outputs": [
    {
     "name": "stderr",
     "output_type": "stream",
     "text": [
      "10it [00:00, 1396.01it/s]\n",
      "10it [00:00, 157.66it/s]\n",
      "10it [00:00, 979.31it/s]\n",
      "10it [00:00, 185.55it/s]\n",
      "10it [00:00, 1081.90it/s]\n",
      "10it [00:00, 138.18it/s]\n",
      "10it [00:00, 1280.55it/s]\n",
      "10it [00:00, 117.76it/s]\n",
      "10it [00:00, 1250.84it/s]\n",
      "10it [00:00, 134.69it/s]\n",
      "10it [00:00, 1153.26it/s]\n",
      "10it [00:00, 134.96it/s]\n",
      "10it [00:00, 1352.35it/s]\n",
      "10it [00:00, 129.73it/s]\n",
      "10it [00:00, 1633.68it/s]\n",
      "10it [00:00, 134.65it/s]\n",
      "10it [00:00, 1555.69it/s]\n",
      "10it [00:00, 130.01it/s]\n",
      "10it [00:00, 1331.65it/s]\n",
      "10it [00:00, 143.74it/s]\n",
      "10it [00:00, 1524.04it/s]\n",
      "10it [00:00, 146.06it/s]\n",
      "10it [00:00, 1377.89it/s]\n",
      "10it [00:00, 119.59it/s]\n",
      "10it [00:00, 1045.70it/s]\n",
      "10it [00:00, 125.42it/s]\n",
      "10it [00:00, 1534.69it/s]\n",
      "10it [00:00, 114.64it/s]\n",
      "10it [00:00, 986.62it/s]\n",
      "10it [00:00, 132.29it/s]\n",
      "10it [00:00, 1305.90it/s]\n",
      "10it [00:00, 124.14it/s]\n",
      "10it [00:00, 910.28it/s]\n",
      "10it [00:00, 60.02it/s]\n",
      "10it [00:00, 1177.84it/s]\n",
      "10it [00:00, 90.73it/s]\n",
      "10it [00:00, 924.77it/s]\n",
      "10it [00:00, 84.93it/s]\n",
      "10it [00:00, 889.81it/s]\n",
      "10it [00:00, 116.74it/s]\n",
      "10it [00:00, 983.12it/s]\n",
      "10it [00:00, 106.52it/s]\n",
      "10it [00:00, 1070.90it/s]\n",
      "10it [00:00, 95.89it/s]\n",
      "10it [00:00, 1001.51it/s]\n",
      "10it [00:00, 112.08it/s]\n",
      "10it [00:00, 1150.86it/s]\n",
      "10it [00:00, 101.96it/s]\n",
      "10it [00:00, 868.96it/s]\n",
      "10it [00:00, 116.48it/s]\n"
     ]
    }
   ],
   "source": [
    "backward_histogram,forward_histogram,forward_time = paths_marginal_histograms(sb=sb,\n",
    "                                                                              sinkhorn_iteration=0,\n",
    "                                                                              device=device,\n",
    "                                                                              current_model=sb.training_model,\n",
    "                                                                              past_to_train_model=None)"
   ]
  },
  {
   "cell_type": "code",
   "execution_count": 18,
   "id": "af25b0c2",
   "metadata": {},
   "outputs": [],
   "source": [
    "from graph_bridges.models.metrics.data_metrics import SpinBernoulliMarginal\n",
    "\n",
    "marginal_0 = SpinBernoulliMarginal(spin_dataloader=sb.data_dataloader)()\n",
    "marginal_1 = SpinBernoulliMarginal(spin_dataloader=sb.target_dataloader)()"
   ]
  },
  {
   "cell_type": "code",
   "execution_count": 24,
   "id": "33609641",
   "metadata": {},
   "outputs": [
    {
     "name": "stdout",
     "output_type": "stream",
     "text": [
      "5\n",
      "25\n"
     ]
    }
   ],
   "source": []
  },
  {
   "cell_type": "code",
   "execution_count": null,
   "id": "c5452c8e",
   "metadata": {},
   "outputs": [],
   "source": []
  }
 ],
 "metadata": {
  "kernelspec": {
   "display_name": "Python 3 (ipykernel)",
   "language": "python",
   "name": "python3"
  },
  "language_info": {
   "codemirror_mode": {
    "name": "ipython",
    "version": 3
   },
   "file_extension": ".py",
   "mimetype": "text/x-python",
   "name": "python",
   "nbconvert_exporter": "python",
   "pygments_lexer": "ipython3",
   "version": "3.10.9"
  }
 },
 "nbformat": 4,
 "nbformat_minor": 5
}
