{
 "cells": [
  {
   "cell_type": "code",
   "execution_count": 1,
   "id": "f89ee50e",
   "metadata": {},
   "outputs": [],
   "source": [
    "import os\n",
    "import sys\n",
    "import torch\n",
    "\n",
    "import numpy as np\n",
    "import pandas as pd\n",
    "from matplotlib import pyplot as plt\n",
    "\n",
    "%matplotlib inline"
   ]
  },
  {
   "cell_type": "code",
   "execution_count": 2,
   "id": "f899b264",
   "metadata": {},
   "outputs": [],
   "source": [
    "from graph_bridges.configs.graphs.config_sb import SBConfig\n",
    "from graph_bridges.configs.graphs.config_sb import TrainerConfig\n",
    "from graph_bridges.data.graph_dataloaders_config import EgoConfig,CommunityConfig,CommunitySmallConfig\n",
    "from graph_bridges.models.backward_rates.backward_rate_config import BackRateMLPConfig\n",
    "from graph_bridges.configs.graphs.config_sb import SBConfig, ParametrizedSamplerConfig, SteinSpinEstimatorConfig\n",
    "from graph_bridges.models.backward_rates.backward_rate_config import GaussianTargetRateImageX0PredEMAConfig"
   ]
  },
  {
   "cell_type": "code",
   "execution_count": 3,
   "id": "62072376",
   "metadata": {},
   "outputs": [],
   "source": [
    "from graph_bridges.models.generative_models.sb import SB"
   ]
  },
  {
   "cell_type": "code",
   "execution_count": 4,
   "id": "339f97c5",
   "metadata": {},
   "outputs": [],
   "source": [
    "config = SBConfig(delete=True)\n",
    "\n",
    "#config.data = EgoConfig(as_image=False, batch_size=32, full_adjacency=False)\n",
    "#config.data = CommunityConfig(as_image=False, batch_size=32, full_adjacency=False)\n",
    "config.data = EgoConfig(as_image=False, batch_size=32, full_adjacency=False)\n",
    "#config.data = CommunitySmallConfig(as_image=False, batch_size=32, full_adjacency=False)\n",
    "config.model = GaussianTargetRateImageX0PredEMAConfig(time_embed_dim=12, fix_logistic=False)\n",
    "\n",
    "#config.model = BackRateMLPConfig(time_embed_dim=14,hidden_layer=150)\n",
    "config.stein = SteinSpinEstimatorConfig(stein_sample_size=100)\n",
    "config.sampler = ParametrizedSamplerConfig(num_steps=10)\n",
    "config.optimizer = TrainerConfig(learning_rate=1e-3,\n",
    "                                 num_epochs=200,\n",
    "                                 save_metric_epochs=20,\n",
    "                                 metrics=[\"graphs_plots\",\n",
    "                                          \"histograms\"])\n",
    "config.align_configurations()\n",
    "#read the model\n",
    "device = torch.device(\"cpu\")\n",
    "sb = SB(config, device)"
   ]
  },
  {
   "cell_type": "code",
   "execution_count": 5,
   "id": "d48cb629",
   "metadata": {},
   "outputs": [],
   "source": [
    "databatch = next(sb.data_dataloader.train().__iter__())\n",
    "x_adj = databatch[0]"
   ]
  },
  {
   "cell_type": "code",
   "execution_count": null,
   "id": "4d3e06c7",
   "metadata": {},
   "outputs": [],
   "source": [
    "class SpinsToBinaryTensor:\n",
    "\n",
    "    def __call__(self, spins):\n",
    "        binary_tensor = int( (1. + spins)*.5)\n",
    "        return binary_tensor\n"
   ]
  },
  {
   "cell_type": "code",
   "execution_count": 7,
   "id": "cbbb7188",
   "metadata": {},
   "outputs": [],
   "source": [
    "from torchvision.transforms import Lambda"
   ]
  },
  {
   "cell_type": "code",
   "execution_count": 12,
   "id": "d6f60973",
   "metadata": {},
   "outputs": [],
   "source": [
    "SpinsToBinaryTensor = Lambda(lambda x: ( (1. + x)*.5).float())"
   ]
  },
  {
   "cell_type": "code",
   "execution_count": 13,
   "id": "ae8e3a94",
   "metadata": {},
   "outputs": [
    {
     "data": {
      "text/plain": [
       "tensor([[1., 0., 0.,  ..., 0., 0., 0.],\n",
       "        [0., 1., 1.,  ..., 0., 0., 0.],\n",
       "        [0., 0., 1.,  ..., 0., 0., 0.],\n",
       "        ...,\n",
       "        [1., 0., 1.,  ..., 0., 0., 0.],\n",
       "        [1., 1., 1.,  ..., 0., 0., 0.],\n",
       "        [1., 1., 1.,  ..., 0., 0., 0.]])"
      ]
     },
     "execution_count": 13,
     "metadata": {},
     "output_type": "execute_result"
    }
   ],
   "source": [
    "SpinsToBinaryTensor(x_adj)"
   ]
  },
  {
   "cell_type": "code",
   "execution_count": null,
   "id": "f7797d5f",
   "metadata": {},
   "outputs": [],
   "source": []
  }
 ],
 "metadata": {
  "kernelspec": {
   "display_name": "Python 3 (ipykernel)",
   "language": "python",
   "name": "python3"
  },
  "language_info": {
   "codemirror_mode": {
    "name": "ipython",
    "version": 3
   },
   "file_extension": ".py",
   "mimetype": "text/x-python",
   "name": "python",
   "nbconvert_exporter": "python",
   "pygments_lexer": "ipython3",
   "version": "3.10.9"
  }
 },
 "nbformat": 4,
 "nbformat_minor": 5
}
