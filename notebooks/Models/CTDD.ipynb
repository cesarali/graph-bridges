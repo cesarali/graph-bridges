{
 "cells": [
  {
   "cell_type": "code",
   "execution_count": 9,
   "id": "a1c3433b",
   "metadata": {},
   "outputs": [],
   "source": [
    "import os\n",
    "import sys\n",
    "import json\n",
    "import torch\n",
    "from pathlib import Path\n",
    "from pprint import pprint\n",
    "from dataclasses import asdict"
   ]
  },
  {
   "cell_type": "code",
   "execution_count": 2,
   "id": "43b92fe3",
   "metadata": {},
   "outputs": [],
   "source": [
    "from graph_bridges.models.generative_models.ctdd import CTDD\n",
    "from graph_bridges.configs.graphs.config_ctdd import CTDDConfig\n",
    "from graph_bridges.data.graph_dataloaders_config import EgoConfig, GraphSpinsDataLoaderConfig, TargetConfig\n",
    "from graph_bridges.models.backward_rates.backward_rate_config import BackRateMLPConfig, GaussianTargetRateImageX0PredEMAConfig"
   ]
  },
  {
   "cell_type": "code",
   "execution_count": 3,
   "id": "f5dccbbb",
   "metadata": {},
   "outputs": [],
   "source": [
    "device = torch.device(\"cpu\")\n",
    "config = CTDDConfig(experiment_indentifier=\"test_1\")\n",
    "config.data = EgoConfig(as_image=False,batch_size=32,full_adjacency=False)\n",
    "config.model = GaussianTargetRateImageX0PredEMAConfig(time_embed_dim=32,fix_logistic=False)\n",
    "config.initialize()"
   ]
  },
  {
   "cell_type": "code",
   "execution_count": null,
   "id": "af3f256a",
   "metadata": {},
   "outputs": [],
   "source": []
  },
  {
   "cell_type": "code",
   "execution_count": 19,
   "id": "b4174c04",
   "metadata": {},
   "outputs": [],
   "source": [
    "data_dir = config_as_dict[\"data\"][\"dir\"]"
   ]
  },
  {
   "cell_type": "code",
   "execution_count": 26,
   "id": "e68fc2fe",
   "metadata": {},
   "outputs": [],
   "source": []
  },
  {
   "cell_type": "code",
   "execution_count": 21,
   "id": "017bd3df",
   "metadata": {},
   "outputs": [],
   "source": []
  },
  {
   "cell_type": "code",
   "execution_count": 27,
   "id": "9f35d916",
   "metadata": {},
   "outputs": [],
   "source": []
  },
  {
   "cell_type": "code",
   "execution_count": 6,
   "id": "83b44072",
   "metadata": {},
   "outputs": [
    {
     "data": {
      "text/plain": [
       "'C:\\\\Users\\\\cesar\\\\Desktop\\\\Projects\\\\DiffusiveGenerativeModelling\\\\Codes\\\\graph-bridges\\\\results\\\\graph\\\\ctdd\\\\test_1\\\\sinkhorn_{0}.tr'"
      ]
     },
     "execution_count": 6,
     "metadata": {},
     "output_type": "execute_result"
    }
   ],
   "source": [
    "config.experiment_files.best_model_path"
   ]
  },
  {
   "cell_type": "code",
   "execution_count": 7,
   "id": "843df94a",
   "metadata": {},
   "outputs": [
    {
     "name": "stdout",
     "output_type": "stream",
     "text": [
      "Scheduler\n"
     ]
    }
   ],
   "source": [
    "ctdd = CTDD()\n",
    "ctdd.create_from_config(config,device)"
   ]
  },
  {
   "cell_type": "code",
   "execution_count": null,
   "id": "f428d931",
   "metadata": {},
   "outputs": [],
   "source": []
  },
  {
   "cell_type": "code",
   "execution_count": null,
   "id": "ad536307",
   "metadata": {},
   "outputs": [],
   "source": []
  }
 ],
 "metadata": {
  "kernelspec": {
   "display_name": "Python 3 (ipykernel)",
   "language": "python",
   "name": "python3"
  },
  "language_info": {
   "codemirror_mode": {
    "name": "ipython",
    "version": 3
   },
   "file_extension": ".py",
   "mimetype": "text/x-python",
   "name": "python",
   "nbconvert_exporter": "python",
   "pygments_lexer": "ipython3",
   "version": "3.10.9"
  }
 },
 "nbformat": 4,
 "nbformat_minor": 5
}
