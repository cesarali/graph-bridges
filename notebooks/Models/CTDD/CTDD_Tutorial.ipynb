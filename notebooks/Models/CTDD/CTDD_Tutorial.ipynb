{
 "cells": [
  {
   "cell_type": "code",
   "execution_count": 8,
   "id": "6ba5a044",
   "metadata": {},
   "outputs": [],
   "source": [
    "import os\n",
    "import sys\n",
    "import torch\n",
    "import pandas as pd"
   ]
  },
  {
   "cell_type": "code",
   "execution_count": 15,
   "id": "3121e4ec",
   "metadata": {},
   "outputs": [],
   "source": [
    "#CONFIG FILES\n",
    "from graph_bridges.data.graph_dataloaders_config import EgoConfig\n",
    "from graph_bridges.models.trainers.ctdd_training import CTDDTrainer\n",
    "from graph_bridges.data.graph_dataloaders_config import CommunitySmallConfig\n",
    "from graph_bridges.configs.graphs.config_ctdd import CTDDConfig,TrainerConfig\n",
    "from graph_bridges.models.backward_rates.backward_rate_config import BackRateMLPConfig\n",
    "from graph_bridges.models.backward_rates.backward_rate_config import GaussianTargetRateImageX0PredEMAConfig"
   ]
  },
  {
   "cell_type": "code",
   "execution_count": 24,
   "id": "981e87a9",
   "metadata": {},
   "outputs": [],
   "source": [
    "ctdd_config = CTDDConfig(experiment_indentifier=\"ctdd_tutorial\", delete=True)\n",
    "ctdd_config.data = EgoConfig(batch_size=24, full_adjacency=True,flatten_adjacency=True)\n",
    "#ctdd_config.model = GaussianTargetRateImageX0PredEMAConfig()\n",
    "ctdd_config.model = BackRateMLPConfig()\n",
    "\n",
    "ctdd_config.trainer = TrainerConfig(device=\"cuda:0\",\n",
    "                                    num_epochs=200,\n",
    "                                    metrics=[\"graphs_plots\",\"graphs\",\"histograms\"])"
   ]
  },
  {
   "cell_type": "code",
   "execution_count": 25,
   "id": "d9a94951",
   "metadata": {},
   "outputs": [
    {
     "name": "stdout",
     "output_type": "stream",
     "text": [
      "Scheduler\n"
     ]
    },
    {
     "name": "stderr",
     "output_type": "stream",
     "text": [
      "20it [00:00, 194.66it/s]\n",
      "20it [00:00, 224.36it/s]\n",
      "20it [00:00, 155.10it/s]\n",
      "20it [00:00, 176.66it/s]\n",
      "20it [00:00, 242.85it/s]\n",
      "20it [00:00, 248.63it/s]\n",
      "20it [00:00, 188.34it/s]\n"
     ]
    },
    {
     "name": "stdout",
     "output_type": "stream",
     "text": [
      "40 40\n",
      "Time computing degree mmd:  0:00:05.108232\n",
      "{'degree': 1.4206007514817633}\n",
      "Time computing clustering mmd:  0:00:06.358774\n",
      "{'degree': 1.4206007514817633, 'cluster': 1.3783192419846388}\n",
      "[WinError 193] %1 is not a valid Win32 application\n",
      "[WinError 193] %1 is not a valid Win32 application\n",
      "[WinError 193] %1 is not a valid Win32 application\n",
      "[WinError 193] %1 is not a valid Win32 application\n",
      "[WinError 193] %1 is not a valid Win32 application\n",
      "[WinError 193] %1 is not a valid Win32 application\n",
      "[WinError 193] %1 is not a valid Win32 application\n",
      "[WinError 193] %1 is not a valid Win32 application\n",
      "[WinError 193] %1 is not a valid Win32 application\n",
      "[WinError 193] %1 is not a valid Win32 application\n",
      "[WinError 193] %1 is not a valid Win32 application\n",
      "[WinError 193] %1 is not a valid Win32 application\n",
      "[WinError 193] %1 is not a valid Win32 application\n",
      "[WinError 193] %1 is not a valid Win32 application\n",
      "[WinError 193] %1 is not a valid Win32 application\n",
      "[WinError 193] %1 is not a valid Win32 application\n",
      "[WinError 193] %1 is not a valid Win32 application\n",
      "[WinError 193] %1 is not a valid Win32 application\n",
      "[WinError 193] %1 is not a valid Win32 application\n",
      "[WinError 193] %1 is not a valid Win32 application\n",
      "[WinError 193] %1 is not a valid Win32 application\n",
      "[WinError 193] %1 is not a valid Win32 application\n",
      "[WinError 193] %1 is not a valid Win32 application\n",
      "[WinError 193] %1 is not a valid Win32 application\n",
      "[WinError 193] %1 is not a valid Win32 application\n",
      "[WinError 193] %1 is not a valid Win32 application\n",
      "[WinError 193] %1 is not a valid Win32 application\n",
      "[WinError 193] %1 is not a valid Win32 application\n",
      "[WinError 193] %1 is not a valid Win32 application\n",
      "[WinError 193] %1 is not a valid Win32 application\n",
      "[WinError 193] %1 is not a valid Win32 application\n",
      "[WinError 193] %1 is not a valid Win32 application\n",
      "[WinError 193] %1 is not a valid Win32 application\n",
      "[WinError 193] %1 is not a valid Win32 application\n",
      "[WinError 193] %1 is not a valid Win32 application\n",
      "[WinError 193] %1 is not a valid Win32 application\n",
      "[WinError 193] %1 is not a valid Win32 application\n",
      "[WinError 193] %1 is not a valid Win32 application\n",
      "[WinError 193] %1 is not a valid Win32 application\n",
      "[WinError 193] %1 is not a valid Win32 application\n",
      "division by zero\n"
     ]
    },
    {
     "name": "stderr",
     "output_type": "stream",
     "text": [
      "  0%|▍                                                                                      | 1/200 [00:00<00:43,  4.60it/s]"
     ]
    },
    {
     "name": "stdout",
     "output_type": "stream",
     "text": [
      "Epoch: 1, Loss: 1043.810049874442\n"
     ]
    },
    {
     "name": "stderr",
     "output_type": "stream",
     "text": [
      "  6%|█████▏                                                                                | 12/200 [00:02<00:31,  6.04it/s]"
     ]
    },
    {
     "name": "stdout",
     "output_type": "stream",
     "text": [
      "Epoch: 11, Loss: 574.1439819335938\n"
     ]
    },
    {
     "name": "stderr",
     "output_type": "stream",
     "text": [
      " 11%|█████████▍                                                                            | 22/200 [00:03<00:29,  5.96it/s]"
     ]
    },
    {
     "name": "stdout",
     "output_type": "stream",
     "text": [
      "Epoch: 21, Loss: 533.4537222726004\n"
     ]
    },
    {
     "name": "stderr",
     "output_type": "stream",
     "text": [
      " 16%|█████████████▎                                                                        | 31/200 [00:05<00:27,  6.12it/s]"
     ]
    },
    {
     "name": "stdout",
     "output_type": "stream",
     "text": [
      "Epoch: 31, Loss: 494.54015677315846\n"
     ]
    },
    {
     "name": "stderr",
     "output_type": "stream",
     "text": [
      " 21%|██████████████████                                                                    | 42/200 [00:07<00:26,  5.91it/s]"
     ]
    },
    {
     "name": "stdout",
     "output_type": "stream",
     "text": [
      "Epoch: 41, Loss: 476.8045349121094\n"
     ]
    },
    {
     "name": "stderr",
     "output_type": "stream",
     "text": [
      " 24%|█████████████████████                                                                 | 49/200 [00:08<00:23,  6.31it/s]\n",
      "20it [00:00, 257.76it/s]\n",
      "\n",
      "20it [00:00, 262.53it/s]\n",
      "\n",
      "20it [00:00, 258.07it/s]\n",
      "\n",
      "0it [00:00, ?it/s]\u001b[A\n",
      "20it [00:00, 171.50it/s]\u001b[A\n",
      "\n",
      "0it [00:00, ?it/s]\u001b[A\n",
      "20it [00:00, 161.42it/s]\u001b[A\n",
      "\n",
      "20it [00:00, 268.73it/s]\n",
      "\n",
      "20it [00:00, 203.56it/s]\n"
     ]
    },
    {
     "name": "stdout",
     "output_type": "stream",
     "text": [
      "40 40\n",
      "Time computing degree mmd:  0:00:04.294408\n",
      "{'degree': 0.397678258038894}\n"
     ]
    },
    {
     "name": "stderr",
     "output_type": "stream",
     "text": [
      "\r",
      " 25%|█████████████████████▌                                                                | 50/200 [00:20<09:42,  3.89s/it]"
     ]
    },
    {
     "name": "stdout",
     "output_type": "stream",
     "text": [
      "Time computing clustering mmd:  0:00:05.524260\n",
      "{'degree': 0.397678258038894, 'cluster': 0.10710373917408056}\n",
      "[WinError 193] %1 is not a valid Win32 application\n",
      "[WinError 193] %1 is not a valid Win32 application\n",
      "[WinError 193] %1 is not a valid Win32 application\n",
      "[WinError 193] %1 is not a valid Win32 application\n",
      "[WinError 193] %1 is not a valid Win32 application\n",
      "[WinError 193] %1 is not a valid Win32 application\n",
      "[WinError 193] %1 is not a valid Win32 application\n",
      "[WinError 193] %1 is not a valid Win32 application\n",
      "[WinError 193] %1 is not a valid Win32 application\n",
      "[WinError 193] %1 is not a valid Win32 application\n",
      "[WinError 193] %1 is not a valid Win32 application\n",
      "[WinError 193] %1 is not a valid Win32 application\n",
      "[WinError 193] %1 is not a valid Win32 application\n",
      "[WinError 193] %1 is not a valid Win32 application\n",
      "[WinError 193] %1 is not a valid Win32 application\n",
      "[WinError 193] %1 is not a valid Win32 application\n",
      "[WinError 193] %1 is not a valid Win32 application\n",
      "[WinError 193] %1 is not a valid Win32 application\n",
      "[WinError 193] %1 is not a valid Win32 application\n",
      "[WinError 193] %1 is not a valid Win32 application\n",
      "[WinError 193] %1 is not a valid Win32 application\n",
      "[WinError 193] %1 is not a valid Win32 application\n",
      "[WinError 193] %1 is not a valid Win32 application\n",
      "[WinError 193] %1 is not a valid Win32 application\n",
      "[WinError 193] %1 is not a valid Win32 application\n",
      "[WinError 193] %1 is not a valid Win32 application\n",
      "[WinError 193] %1 is not a valid Win32 application\n",
      "[WinError 193] %1 is not a valid Win32 application\n",
      "[WinError 193] %1 is not a valid Win32 application\n",
      "[WinError 193] %1 is not a valid Win32 application\n",
      "[WinError 193] %1 is not a valid Win32 application\n",
      "[WinError 193] %1 is not a valid Win32 application\n",
      "[WinError 193] %1 is not a valid Win32 application\n",
      "[WinError 193] %1 is not a valid Win32 application\n",
      "[WinError 193] %1 is not a valid Win32 application\n",
      "[WinError 193] %1 is not a valid Win32 application\n",
      "[WinError 193] %1 is not a valid Win32 application\n",
      "[WinError 193] %1 is not a valid Win32 application\n",
      "[WinError 193] %1 is not a valid Win32 application\n",
      "[WinError 193] %1 is not a valid Win32 application\n",
      "division by zero\n"
     ]
    },
    {
     "name": "stderr",
     "output_type": "stream",
     "text": [
      " 26%|██████████████████████▎                                                               | 52/200 [00:21<04:54,  1.99s/it]"
     ]
    },
    {
     "name": "stdout",
     "output_type": "stream",
     "text": [
      "Epoch: 51, Loss: 509.69012451171875\n"
     ]
    },
    {
     "name": "stderr",
     "output_type": "stream",
     "text": [
      " 31%|██████████████████████████▋                                                           | 62/200 [00:22<00:29,  4.63it/s]"
     ]
    },
    {
     "name": "stdout",
     "output_type": "stream",
     "text": [
      "Epoch: 61, Loss: 516.527583530971\n"
     ]
    },
    {
     "name": "stderr",
     "output_type": "stream",
     "text": [
      " 36%|██████████████████████████████▉                                                       | 72/200 [00:24<00:20,  6.23it/s]"
     ]
    },
    {
     "name": "stdout",
     "output_type": "stream",
     "text": [
      "Epoch: 71, Loss: 498.70379638671875\n"
     ]
    },
    {
     "name": "stderr",
     "output_type": "stream",
     "text": [
      " 41%|███████████████████████████████████▎                                                  | 82/200 [00:26<00:18,  6.24it/s]"
     ]
    },
    {
     "name": "stdout",
     "output_type": "stream",
     "text": [
      "Epoch: 81, Loss: 439.8952898297991\n"
     ]
    },
    {
     "name": "stderr",
     "output_type": "stream",
     "text": [
      " 46%|███████████████████████████████████████▌                                              | 92/200 [00:27<00:17,  6.31it/s]"
     ]
    },
    {
     "name": "stdout",
     "output_type": "stream",
     "text": [
      "Epoch: 91, Loss: 521.6644199916294\n"
     ]
    },
    {
     "name": "stderr",
     "output_type": "stream",
     "text": [
      " 50%|██████████████████████████████████████████▌                                           | 99/200 [00:28<00:15,  6.37it/s]\n",
      "20it [00:00, 258.71it/s]\n",
      "\n",
      "20it [00:00, 262.10it/s]\n",
      "\n",
      "0it [00:00, ?it/s]\u001b[A\n",
      "20it [00:00, 138.73it/s]\u001b[A\n",
      "\n",
      "20it [00:00, 258.60it/s]\n",
      "\n",
      "20it [00:00, 262.00it/s]\n",
      "\n",
      "0it [00:00, ?it/s]\u001b[A\n",
      "20it [00:00, 173.51it/s]\u001b[A\n",
      "\n",
      "20it [00:00, 253.83it/s]\n"
     ]
    },
    {
     "name": "stdout",
     "output_type": "stream",
     "text": [
      "40 40\n",
      "Time computing degree mmd:  0:00:04.406525\n",
      "{'degree': 0.28547555232257893}\n"
     ]
    },
    {
     "name": "stderr",
     "output_type": "stream",
     "text": [
      "\r",
      " 50%|██████████████████████████████████████████▌                                          | 100/200 [00:41<06:26,  3.86s/it]"
     ]
    },
    {
     "name": "stdout",
     "output_type": "stream",
     "text": [
      "Time computing clustering mmd:  0:00:05.647822\n",
      "{'degree': 0.28547555232257893, 'cluster': 0.12607778613515697}\n",
      "[WinError 193] %1 is not a valid Win32 application\n",
      "[WinError 193] %1 is not a valid Win32 application\n",
      "[WinError 193] %1 is not a valid Win32 application\n",
      "[WinError 193] %1 is not a valid Win32 application\n",
      "[WinError 193] %1 is not a valid Win32 application\n",
      "[WinError 193] %1 is not a valid Win32 application\n",
      "[WinError 193] %1 is not a valid Win32 application\n",
      "[WinError 193] %1 is not a valid Win32 application\n",
      "[WinError 193] %1 is not a valid Win32 application\n",
      "[WinError 193] %1 is not a valid Win32 application\n",
      "[WinError 193] %1 is not a valid Win32 application\n",
      "[WinError 193] %1 is not a valid Win32 application\n",
      "[WinError 193] %1 is not a valid Win32 application\n",
      "[WinError 193] %1 is not a valid Win32 application\n",
      "[WinError 193] %1 is not a valid Win32 application\n",
      "[WinError 193] %1 is not a valid Win32 application\n",
      "[WinError 193] %1 is not a valid Win32 application\n",
      "[WinError 193] %1 is not a valid Win32 application\n",
      "[WinError 193] %1 is not a valid Win32 application\n",
      "[WinError 193] %1 is not a valid Win32 application\n",
      "[WinError 193] %1 is not a valid Win32 application\n",
      "[WinError 193] %1 is not a valid Win32 application\n",
      "[WinError 193] %1 is not a valid Win32 application\n",
      "[WinError 193] %1 is not a valid Win32 application\n",
      "[WinError 193] %1 is not a valid Win32 application\n",
      "[WinError 193] %1 is not a valid Win32 application\n",
      "[WinError 193] %1 is not a valid Win32 application\n",
      "[WinError 193] %1 is not a valid Win32 application\n",
      "[WinError 193] %1 is not a valid Win32 application\n",
      "[WinError 193] %1 is not a valid Win32 application\n",
      "[WinError 193] %1 is not a valid Win32 application\n",
      "[WinError 193] %1 is not a valid Win32 application\n",
      "[WinError 193] %1 is not a valid Win32 application\n",
      "[WinError 193] %1 is not a valid Win32 application\n",
      "[WinError 193] %1 is not a valid Win32 application\n",
      "[WinError 193] %1 is not a valid Win32 application\n",
      "[WinError 193] %1 is not a valid Win32 application\n",
      "[WinError 193] %1 is not a valid Win32 application\n",
      "[WinError 193] %1 is not a valid Win32 application\n",
      "[WinError 193] %1 is not a valid Win32 application\n",
      "division by zero\n"
     ]
    },
    {
     "name": "stderr",
     "output_type": "stream",
     "text": [
      " 51%|███████████████████████████████████████████▎                                         | 102/200 [00:41<03:13,  1.98s/it]"
     ]
    },
    {
     "name": "stdout",
     "output_type": "stream",
     "text": [
      "Epoch: 101, Loss: 484.93075125558033\n"
     ]
    },
    {
     "name": "stderr",
     "output_type": "stream",
     "text": [
      " 56%|███████████████████████████████████████████████▌                                     | 112/200 [00:43<00:19,  4.49it/s]"
     ]
    },
    {
     "name": "stdout",
     "output_type": "stream",
     "text": [
      "Epoch: 111, Loss: 523.6650913783482\n"
     ]
    },
    {
     "name": "stderr",
     "output_type": "stream",
     "text": [
      " 61%|███████████████████████████████████████████████████▊                                 | 122/200 [00:44<00:12,  6.32it/s]"
     ]
    },
    {
     "name": "stdout",
     "output_type": "stream",
     "text": [
      "Epoch: 121, Loss: 502.33045741489957\n"
     ]
    },
    {
     "name": "stderr",
     "output_type": "stream",
     "text": [
      " 66%|████████████████████████████████████████████████████████                             | 132/200 [00:46<00:10,  6.64it/s]"
     ]
    },
    {
     "name": "stdout",
     "output_type": "stream",
     "text": [
      "Epoch: 131, Loss: 483.6741681780134\n"
     ]
    },
    {
     "name": "stderr",
     "output_type": "stream",
     "text": [
      " 71%|████████████████████████████████████████████████████████████▎                        | 142/200 [00:47<00:08,  6.57it/s]"
     ]
    },
    {
     "name": "stdout",
     "output_type": "stream",
     "text": [
      "Epoch: 141, Loss: 532.2394452776227\n"
     ]
    },
    {
     "name": "stderr",
     "output_type": "stream",
     "text": [
      " 74%|███████████████████████████████████████████████████████████████▎                     | 149/200 [00:49<00:07,  6.40it/s]\n",
      "20it [00:00, 272.50it/s]\n",
      "\n",
      "20it [00:00, 272.68it/s]\n",
      "\n",
      "20it [00:00, 270.24it/s]\n",
      "\n",
      "0it [00:00, ?it/s]\u001b[A\n",
      "20it [00:00, 191.91it/s]\u001b[A\n",
      "\n",
      "20it [00:00, 248.02it/s]\n",
      "\n",
      "20it [00:00, 277.74it/s]\n",
      "\n",
      "0it [00:00, ?it/s]\u001b[A\n",
      "20it [00:00, 151.46it/s]\u001b[A\n"
     ]
    },
    {
     "name": "stdout",
     "output_type": "stream",
     "text": [
      "40 40\n",
      "Time computing degree mmd:  0:00:04.462548\n",
      "{'degree': 0.16781086505351506}\n"
     ]
    },
    {
     "name": "stderr",
     "output_type": "stream",
     "text": [
      "\r",
      " 75%|███████████████████████████████████████████████████████████████▊                     | 150/200 [01:02<03:20,  4.02s/it]"
     ]
    },
    {
     "name": "stdout",
     "output_type": "stream",
     "text": [
      "Time computing clustering mmd:  0:00:05.840072\n",
      "{'degree': 0.16781086505351506, 'cluster': 0.09069946049751709}\n",
      "[WinError 193] %1 is not a valid Win32 application\n",
      "[WinError 193] %1 is not a valid Win32 application\n",
      "[WinError 193] %1 is not a valid Win32 application\n",
      "[WinError 193] %1 is not a valid Win32 application\n",
      "[WinError 193] %1 is not a valid Win32 application\n",
      "[WinError 193] %1 is not a valid Win32 application\n",
      "[WinError 193] %1 is not a valid Win32 application\n",
      "[WinError 193] %1 is not a valid Win32 application\n",
      "[WinError 193] %1 is not a valid Win32 application\n",
      "[WinError 193] %1 is not a valid Win32 application\n",
      "[WinError 193] %1 is not a valid Win32 application\n",
      "[WinError 193] %1 is not a valid Win32 application\n",
      "[WinError 193] %1 is not a valid Win32 application\n",
      "[WinError 193] %1 is not a valid Win32 application\n",
      "[WinError 193] %1 is not a valid Win32 application\n",
      "[WinError 193] %1 is not a valid Win32 application\n",
      "[WinError 193] %1 is not a valid Win32 application\n",
      "[WinError 193] %1 is not a valid Win32 application\n",
      "[WinError 193] %1 is not a valid Win32 application\n",
      "[WinError 193] %1 is not a valid Win32 application\n",
      "[WinError 193] %1 is not a valid Win32 application\n",
      "[WinError 193] %1 is not a valid Win32 application\n",
      "[WinError 193] %1 is not a valid Win32 application\n",
      "[WinError 193] %1 is not a valid Win32 application\n",
      "[WinError 193] %1 is not a valid Win32 application\n",
      "[WinError 193] %1 is not a valid Win32 application\n",
      "[WinError 193] %1 is not a valid Win32 application\n",
      "[WinError 193] %1 is not a valid Win32 application\n",
      "[WinError 193] %1 is not a valid Win32 application\n",
      "[WinError 193] %1 is not a valid Win32 application\n",
      "[WinError 193] %1 is not a valid Win32 application\n",
      "[WinError 193] %1 is not a valid Win32 application\n",
      "[WinError 193] %1 is not a valid Win32 application\n",
      "[WinError 193] %1 is not a valid Win32 application\n",
      "[WinError 193] %1 is not a valid Win32 application\n",
      "[WinError 193] %1 is not a valid Win32 application\n",
      "[WinError 193] %1 is not a valid Win32 application\n",
      "[WinError 193] %1 is not a valid Win32 application\n",
      "[WinError 193] %1 is not a valid Win32 application\n",
      "[WinError 193] %1 is not a valid Win32 application\n",
      "division by zero\n"
     ]
    },
    {
     "name": "stderr",
     "output_type": "stream",
     "text": [
      " 76%|████████████████████████████████████████████████████████████████▌                    | 152/200 [01:02<01:38,  2.05s/it]"
     ]
    },
    {
     "name": "stdout",
     "output_type": "stream",
     "text": [
      "Epoch: 151, Loss: 567.4584132603237\n"
     ]
    },
    {
     "name": "stderr",
     "output_type": "stream",
     "text": [
      " 80%|████████████████████████████████████████████████████████████████████▍                | 161/200 [01:03<00:09,  3.93it/s]"
     ]
    },
    {
     "name": "stdout",
     "output_type": "stream",
     "text": [
      "Epoch: 161, Loss: 582.0683898925781\n"
     ]
    },
    {
     "name": "stderr",
     "output_type": "stream",
     "text": [
      " 86%|█████████████████████████████████████████████████████████████████████████            | 172/200 [01:05<00:04,  6.04it/s]"
     ]
    },
    {
     "name": "stdout",
     "output_type": "stream",
     "text": [
      "Epoch: 171, Loss: 494.59669276646207\n"
     ]
    },
    {
     "name": "stderr",
     "output_type": "stream",
     "text": [
      " 90%|████████████████████████████████████████████████████████████████████████████▉        | 181/200 [01:07<00:03,  6.05it/s]"
     ]
    },
    {
     "name": "stdout",
     "output_type": "stream",
     "text": [
      "Epoch: 181, Loss: 571.9698224748884\n"
     ]
    },
    {
     "name": "stderr",
     "output_type": "stream",
     "text": [
      " 96%|█████████████████████████████████████████████████████████████████████████████████▌   | 192/200 [01:09<00:01,  5.94it/s]"
     ]
    },
    {
     "name": "stdout",
     "output_type": "stream",
     "text": [
      "Epoch: 191, Loss: 565.9112287248884\n"
     ]
    },
    {
     "name": "stderr",
     "output_type": "stream",
     "text": [
      "100%|████████████████████████████████████████████████████████████████████████████████████▌| 199/200 [01:10<00:00,  6.31it/s]\n",
      "20it [00:00, 245.76it/s]\n",
      "\n",
      "20it [00:00, 268.63it/s]\n",
      "\n",
      "20it [00:00, 272.28it/s]\n",
      "\n",
      "20it [00:00, 207.48it/s]\n",
      "\n",
      "20it [00:00, 263.62it/s]\n",
      "\n",
      "20it [00:00, 265.45it/s]\n",
      "\n",
      "20it [00:00, 212.07it/s]\n"
     ]
    },
    {
     "name": "stdout",
     "output_type": "stream",
     "text": [
      "40 40\n",
      "Time computing degree mmd:  0:00:04.639295\n",
      "{'degree': 0.1933456473855366}\n"
     ]
    },
    {
     "name": "stderr",
     "output_type": "stream",
     "text": [
      "100%|█████████████████████████████████████████████████████████████████████████████████████| 200/200 [01:23<00:00,  2.41it/s]"
     ]
    },
    {
     "name": "stdout",
     "output_type": "stream",
     "text": [
      "Time computing clustering mmd:  0:00:05.857188\n",
      "{'degree': 0.1933456473855366, 'cluster': 0.1609525319349332}\n",
      "[WinError 193] %1 is not a valid Win32 application\n",
      "[WinError 193] %1 is not a valid Win32 application\n",
      "[WinError 193] %1 is not a valid Win32 application\n",
      "[WinError 193] %1 is not a valid Win32 application\n",
      "[WinError 193] %1 is not a valid Win32 application\n",
      "[WinError 193] %1 is not a valid Win32 application\n",
      "[WinError 193] %1 is not a valid Win32 application\n",
      "[WinError 193] %1 is not a valid Win32 application\n",
      "[WinError 193] %1 is not a valid Win32 application\n",
      "[WinError 193] %1 is not a valid Win32 application\n",
      "[WinError 193] %1 is not a valid Win32 application\n",
      "[WinError 193] %1 is not a valid Win32 application\n",
      "[WinError 193] %1 is not a valid Win32 application\n",
      "[WinError 193] %1 is not a valid Win32 application\n",
      "[WinError 193] %1 is not a valid Win32 application\n",
      "[WinError 193] %1 is not a valid Win32 application\n",
      "[WinError 193] %1 is not a valid Win32 application\n",
      "[WinError 193] %1 is not a valid Win32 application\n",
      "[WinError 193] %1 is not a valid Win32 application\n",
      "[WinError 193] %1 is not a valid Win32 application\n",
      "[WinError 193] %1 is not a valid Win32 application\n",
      "[WinError 193] %1 is not a valid Win32 application\n",
      "[WinError 193] %1 is not a valid Win32 application\n",
      "[WinError 193] %1 is not a valid Win32 application\n",
      "[WinError 193] %1 is not a valid Win32 application\n",
      "[WinError 193] %1 is not a valid Win32 application\n",
      "[WinError 193] %1 is not a valid Win32 application\n",
      "[WinError 193] %1 is not a valid Win32 application\n",
      "[WinError 193] %1 is not a valid Win32 application\n",
      "[WinError 193] %1 is not a valid Win32 application\n",
      "[WinError 193] %1 is not a valid Win32 application\n",
      "[WinError 193] %1 is not a valid Win32 application\n",
      "[WinError 193] %1 is not a valid Win32 application\n",
      "[WinError 193] %1 is not a valid Win32 application\n",
      "[WinError 193] %1 is not a valid Win32 application\n",
      "[WinError 193] %1 is not a valid Win32 application\n",
      "[WinError 193] %1 is not a valid Win32 application\n",
      "[WinError 193] %1 is not a valid Win32 application\n",
      "[WinError 193] %1 is not a valid Win32 application\n",
      "[WinError 193] %1 is not a valid Win32 application\n",
      "division by zero\n"
     ]
    },
    {
     "name": "stderr",
     "output_type": "stream",
     "text": [
      "\n"
     ]
    },
    {
     "data": {
      "text/plain": [
       "tensor(761.7576, device='cuda:0', grad_fn=<AddBackward0>)"
      ]
     },
     "execution_count": 25,
     "metadata": {},
     "output_type": "execute_result"
    },
    {
     "data": {
      "image/png": "[encoded data removed]",
      "text/plain": [
       "<Figure size 1200x400 with 2 Axes>"
      ]
     },
     "metadata": {},
     "output_type": "display_data"
    },
    {
     "data": {
      "image/png": "[encoded data removed]",
      "text/plain": [
       "<Figure size 1200x400 with 2 Axes>"
      ]
     },
     "metadata": {},
     "output_type": "display_data"
    },
    {
     "data": {
      "image/png": "[encoded data removed]",
      "text/plain": [
       "<Figure size 1200x400 with 2 Axes>"
      ]
     },
     "metadata": {},
     "output_type": "display_data"
    },
    {
     "data": {
      "image/png": "[encoded data removed]",
      "text/plain": [
       "<Figure size 1200x400 with 2 Axes>"
      ]
     },
     "metadata": {},
     "output_type": "display_data"
    },
    {
     "data": {
      "image/png": "[encoded data removed]",
      "text/plain": [
       "<Figure size 1200x400 with 2 Axes>"
      ]
     },
     "metadata": {},
     "output_type": "display_data"
    }
   ],
   "source": [
    "ctdd_trainer = CTDDTrainer(ctdd_config)\n",
    "ctdd_trainer.train_ctdd()"
   ]
  },
  {
   "cell_type": "code",
   "execution_count": 20,
   "id": "609da014",
   "metadata": {},
   "outputs": [
    {
     "name": "stderr",
     "output_type": "stream",
     "text": [
      "20it [00:00, 51.43it/s]\n"
     ]
    }
   ],
   "source": [
    "x = ctdd_trainer.ctdd.pipeline(ctdd_trainer.ctdd.model, 36)"
   ]
  },
  {
   "cell_type": "code",
   "execution_count": 23,
   "id": "da1adc1d",
   "metadata": {},
   "outputs": [
    {
     "data": {
      "text/plain": [
       "tensor([[[0., 1., 1.,  ..., 0., 0., 0.],\n",
       "         [1., 0., 0.,  ..., 1., 0., 0.],\n",
       "         [1., 0., 0.,  ..., 0., 0., 0.],\n",
       "         ...,\n",
       "         [0., 1., 0.,  ..., 0., 0., 0.],\n",
       "         [0., 0., 0.,  ..., 0., 0., 0.],\n",
       "         [0., 0., 0.,  ..., 0., 0., 0.]],\n",
       "\n",
       "        [[0., 0., 0.,  ..., 0., 0., 0.],\n",
       "         [0., 0., 0.,  ..., 0., 0., 0.],\n",
       "         [0., 0., 0.,  ..., 0., 0., 0.],\n",
       "         ...,\n",
       "         [0., 0., 0.,  ..., 0., 0., 0.],\n",
       "         [0., 0., 0.,  ..., 0., 0., 0.],\n",
       "         [0., 0., 0.,  ..., 0., 0., 0.]],\n",
       "\n",
       "        [[0., 0., 0.,  ..., 0., 0., 0.],\n",
       "         [0., 0., 0.,  ..., 0., 0., 0.],\n",
       "         [0., 0., 0.,  ..., 0., 0., 0.],\n",
       "         ...,\n",
       "         [0., 0., 0.,  ..., 0., 0., 0.],\n",
       "         [0., 0., 0.,  ..., 0., 0., 0.],\n",
       "         [0., 0., 0.,  ..., 0., 0., 0.]],\n",
       "\n",
       "        ...,\n",
       "\n",
       "        [[0., 1., 1.,  ..., 0., 0., 0.],\n",
       "         [1., 0., 0.,  ..., 0., 0., 0.],\n",
       "         [1., 0., 0.,  ..., 0., 0., 0.],\n",
       "         ...,\n",
       "         [0., 0., 0.,  ..., 0., 0., 0.],\n",
       "         [0., 0., 0.,  ..., 0., 0., 0.],\n",
       "         [0., 0., 0.,  ..., 0., 0., 0.]],\n",
       "\n",
       "        [[0., 0., 1.,  ..., 0., 0., 0.],\n",
       "         [0., 0., 0.,  ..., 0., 0., 0.],\n",
       "         [1., 0., 0.,  ..., 0., 0., 0.],\n",
       "         ...,\n",
       "         [0., 0., 0.,  ..., 0., 0., 0.],\n",
       "         [0., 0., 0.,  ..., 0., 0., 0.],\n",
       "         [0., 0., 0.,  ..., 0., 0., 0.]],\n",
       "\n",
       "        [[0., 0., 0.,  ..., 0., 0., 0.],\n",
       "         [0., 0., 0.,  ..., 0., 0., 1.],\n",
       "         [0., 0., 0.,  ..., 0., 0., 0.],\n",
       "         ...,\n",
       "         [0., 0., 0.,  ..., 0., 0., 0.],\n",
       "         [0., 0., 0.,  ..., 0., 0., 0.],\n",
       "         [0., 1., 0.,  ..., 0., 0., 0.]]], device='cuda:0')"
      ]
     },
     "execution_count": 23,
     "metadata": {},
     "output_type": "execute_result"
    }
   ],
   "source": [
    "ctdd_trainer.ctdd.data_dataloader.transform_to_graph(x)"
   ]
  },
  {
   "cell_type": "code",
   "execution_count": 18,
   "id": "33755514",
   "metadata": {},
   "outputs": [
    {
     "name": "stderr",
     "output_type": "stream",
     "text": [
      "20it [00:00, 53.63it/s]\n"
     ]
    },
    {
     "data": {
      "text/plain": [
       "[<networkx.classes.graph.Graph at 0x1dde2e52230>,\n",
       " <networkx.classes.graph.Graph at 0x1dde1893b20>,\n",
       " <networkx.classes.graph.Graph at 0x1dddfc67370>,\n",
       " <networkx.classes.graph.Graph at 0x1dddf9355d0>,\n",
       " <networkx.classes.graph.Graph at 0x1dde1e0d8d0>,\n",
       " <networkx.classes.graph.Graph at 0x1dde1e0df90>,\n",
       " <networkx.classes.graph.Graph at 0x1dde1e0d510>,\n",
       " <networkx.classes.graph.Graph at 0x1dd1d42ada0>,\n",
       " <networkx.classes.graph.Graph at 0x1dde2e3aef0>,\n",
       " <networkx.classes.graph.Graph at 0x1dde2e3a8f0>,\n",
       " <networkx.classes.graph.Graph at 0x1dde2e3a5c0>,\n",
       " <networkx.classes.graph.Graph at 0x1dde2e38460>,\n",
       " <networkx.classes.graph.Graph at 0x1dde2e387c0>,\n",
       " <networkx.classes.graph.Graph at 0x1dde2e39630>,\n",
       " <networkx.classes.graph.Graph at 0x1dde1c94310>,\n",
       " <networkx.classes.graph.Graph at 0x1dd715871c0>,\n",
       " <networkx.classes.graph.Graph at 0x1dd71584160>,\n",
       " <networkx.classes.graph.Graph at 0x1dd714f30a0>,\n",
       " <networkx.classes.graph.Graph at 0x1dd714f26b0>,\n",
       " <networkx.classes.graph.Graph at 0x1dde0181a80>]"
      ]
     },
     "execution_count": 18,
     "metadata": {},
     "output_type": "execute_result"
    }
   ],
   "source": [
    "ctdd_trainer.ctdd.generate_graphs(20)"
   ]
  }
 ],
 "metadata": {
  "kernelspec": {
   "display_name": "Python 3 (ipykernel)",
   "language": "python",
   "name": "python3"
  },
  "language_info": {
   "codemirror_mode": {
    "name": "ipython",
    "version": 3
   },
   "file_extension": ".py",
   "mimetype": "text/x-python",
   "name": "python",
   "nbconvert_exporter": "python",
   "pygments_lexer": "ipython3",
   "version": "3.10.9"
  }
 },
 "nbformat": 4,
 "nbformat_minor": 5
}
