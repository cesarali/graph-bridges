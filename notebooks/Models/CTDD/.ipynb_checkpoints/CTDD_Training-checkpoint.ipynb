{
 "cells": [
  {
   "cell_type": "code",
   "execution_count": 8,
   "id": "8634bd5d",
   "metadata": {},
   "outputs": [],
   "source": [
    "import os\n",
    "import sys\n",
    "import torch\n",
    "import pandas as pd"
   ]
  },
  {
   "cell_type": "code",
   "execution_count": 15,
   "id": "10a15b7b",
   "metadata": {},
   "outputs": [],
   "source": [
    "#CONFIG FILES\n",
    "from graph_bridges.data.graph_dataloaders_config import EgoConfig\n",
    "from graph_bridges.models.trainers.ctdd_training import CTDDTrainer\n",
    "from graph_bridges.data.graph_dataloaders_config import CommunitySmallConfig\n",
    "from graph_bridges.configs.graphs.config_ctdd import CTDDConfig,TrainerConfig\n",
    "from graph_bridges.models.backward_rates.backward_rate_config import BackRateMLPConfig\n",
    "from graph_bridges.models.backward_rates.backward_rate_config import GaussianTargetRateImageX0PredEMAConfig"
   ]
  },
  {
   "cell_type": "code",
   "execution_count": 16,
   "id": "0182cc98",
   "metadata": {},
   "outputs": [],
   "source": [
    "ctdd_config = CTDDConfig(experiment_indentifier=\"ctdd_tutorial\", delete=True)\n",
    "ctdd_config.data = EgoConfig(batch_size=24, full_adjacency=False)\n",
    "#ctdd_config.model = GaussianTargetRateImageX0PredEMAConfig()\n",
    "ctdd_config.model = BackRateMLPConfig()\n",
    "\n",
    "ctdd_config.trainer = TrainerConfig(device=\"cuda:0\",\n",
    "                                    num_epochs=200,\n",
    "                                    metrics=[\"graphs_plots\",\"graphs\",\"histograms\"])"
   ]
  },
  {
   "cell_type": "code",
   "execution_count": 17,
   "id": "6d968d31",
   "metadata": {},
   "outputs": [
    {
     "name": "stdout",
     "output_type": "stream",
     "text": [
      "Scheduler\n"
     ]
    },
    {
     "name": "stderr",
     "output_type": "stream",
     "text": [
      "20it [00:00, 60.70it/s]\n",
      "20it [00:00, 135.74it/s]\n",
      "20it [00:00, 137.72it/s]\n",
      "20it [00:00, 142.14it/s]\n",
      "20it [00:00, 138.30it/s]\n",
      "20it [00:00, 138.83it/s]\n",
      "20it [00:00, 121.37it/s]\n"
     ]
    },
    {
     "name": "stdout",
     "output_type": "stream",
     "text": [
      "40 40\n",
      "Time computing degree mmd:  0:00:04.013622\n",
      "{'degree': 1.2999162282788614}\n",
      "Time computing clustering mmd:  0:00:05.279098\n",
      "{'degree': 1.2999162282788614, 'cluster': 1.201985247256621}\n",
      "[WinError 193] %1 is not a valid Win32 application\n",
      "[WinError 193] %1 is not a valid Win32 application\n",
      "[WinError 193] %1 is not a valid Win32 application\n",
      "[WinError 193] %1 is not a valid Win32 application\n",
      "[WinError 193] %1 is not a valid Win32 application\n",
      "[WinError 193] %1 is not a valid Win32 application\n",
      "[WinError 193] %1 is not a valid Win32 application\n",
      "[WinError 193] %1 is not a valid Win32 application\n",
      "[WinError 193] %1 is not a valid Win32 application\n",
      "[WinError 193] %1 is not a valid Win32 application\n",
      "[WinError 193] %1 is not a valid Win32 application\n",
      "[WinError 193] %1 is not a valid Win32 application\n",
      "[WinError 193] %1 is not a valid Win32 application\n",
      "[WinError 193] %1 is not a valid Win32 application\n",
      "[WinError 193] %1 is not a valid Win32 application\n",
      "[WinError 193] %1 is not a valid Win32 application\n",
      "[WinError 193] %1 is not a valid Win32 application\n",
      "[WinError 193] %1 is not a valid Win32 application\n",
      "[WinError 193] %1 is not a valid Win32 application\n",
      "[WinError 193] %1 is not a valid Win32 application\n",
      "[WinError 193] %1 is not a valid Win32 application\n",
      "[WinError 193] %1 is not a valid Win32 application\n",
      "[WinError 193] %1 is not a valid Win32 application\n",
      "[WinError 193] %1 is not a valid Win32 application\n",
      "[WinError 193] %1 is not a valid Win32 application\n",
      "[WinError 193] %1 is not a valid Win32 application\n",
      "[WinError 193] %1 is not a valid Win32 application\n",
      "[WinError 193] %1 is not a valid Win32 application\n",
      "[WinError 193] %1 is not a valid Win32 application\n",
      "[WinError 193] %1 is not a valid Win32 application\n",
      "[WinError 193] %1 is not a valid Win32 application\n",
      "[WinError 193] %1 is not a valid Win32 application\n",
      "[WinError 193] %1 is not a valid Win32 application\n",
      "[WinError 193] %1 is not a valid Win32 application\n",
      "[WinError 193] %1 is not a valid Win32 application\n",
      "[WinError 193] %1 is not a valid Win32 application\n",
      "[WinError 193] %1 is not a valid Win32 application\n",
      "[WinError 193] %1 is not a valid Win32 application\n",
      "[WinError 193] %1 is not a valid Win32 application\n",
      "[WinError 193] %1 is not a valid Win32 application\n",
      "division by zero\n"
     ]
    },
    {
     "name": "stderr",
     "output_type": "stream",
     "text": [
      "  0%|▍                                                                                      | 1/200 [00:00<01:45,  1.88it/s]"
     ]
    },
    {
     "name": "stdout",
     "output_type": "stream",
     "text": [
      "Epoch: 1, Loss: 334.24444580078125\n"
     ]
    },
    {
     "name": "stderr",
     "output_type": "stream",
     "text": [
      "  6%|████▋                                                                                 | 11/200 [00:03<00:58,  3.22it/s]"
     ]
    },
    {
     "name": "stdout",
     "output_type": "stream",
     "text": [
      "Epoch: 11, Loss: 215.95572335379464\n"
     ]
    },
    {
     "name": "stderr",
     "output_type": "stream",
     "text": [
      " 10%|█████████                                                                             | 21/200 [00:07<01:00,  2.95it/s]"
     ]
    },
    {
     "name": "stdout",
     "output_type": "stream",
     "text": [
      "Epoch: 21, Loss: 255.7905731201172\n"
     ]
    },
    {
     "name": "stderr",
     "output_type": "stream",
     "text": [
      " 16%|█████████████▎                                                                        | 31/200 [00:10<00:49,  3.42it/s]"
     ]
    },
    {
     "name": "stdout",
     "output_type": "stream",
     "text": [
      "Epoch: 31, Loss: 230.48085130964006\n"
     ]
    },
    {
     "name": "stderr",
     "output_type": "stream",
     "text": [
      " 20%|█████████████████▋                                                                    | 41/200 [00:13<00:51,  3.11it/s]"
     ]
    },
    {
     "name": "stdout",
     "output_type": "stream",
     "text": [
      "Epoch: 41, Loss: 236.63663155691964\n"
     ]
    },
    {
     "name": "stderr",
     "output_type": "stream",
     "text": [
      " 24%|█████████████████████                                                                 | 49/200 [00:15<00:46,  3.23it/s]\n",
      "0it [00:00, ?it/s]\u001b[A\n",
      "20it [00:00, 126.42it/s]\u001b[A\n",
      "\n",
      "0it [00:00, ?it/s]\u001b[A\n",
      "20it [00:00, 122.80it/s]\u001b[A\n",
      "\n",
      "0it [00:00, ?it/s]\u001b[A\n",
      "20it [00:00, 127.64it/s]\u001b[A\n",
      "\n",
      "0it [00:00, ?it/s]\u001b[A\n",
      "20it [00:00, 113.72it/s]\u001b[A\n",
      "\n",
      "0it [00:00, ?it/s]\u001b[A\n",
      "20it [00:00, 111.33it/s][A\n",
      "\n",
      "0it [00:00, ?it/s]\u001b[A\n",
      "20it [00:00, 120.18it/s]\u001b[A\n",
      "\n",
      "0it [00:00, ?it/s]\u001b[A\n",
      "20it [00:00, 128.98it/s]\u001b[A\n"
     ]
    },
    {
     "name": "stdout",
     "output_type": "stream",
     "text": [
      "40 40\n",
      "Time computing degree mmd:  0:00:04.519538\n",
      "{'degree': 0.32224189560650185}\n"
     ]
    },
    {
     "name": "stderr",
     "output_type": "stream",
     "text": [
      "\r",
      " 25%|█████████████████████▌                                                                | 50/200 [00:28<10:22,  4.15s/it]"
     ]
    },
    {
     "name": "stdout",
     "output_type": "stream",
     "text": [
      "Time computing clustering mmd:  0:00:06.084424\n",
      "{'degree': 0.32224189560650185, 'cluster': 0.19334572513785986}\n",
      "[WinError 193] %1 is not a valid Win32 application\n",
      "[WinError 193] %1 is not a valid Win32 application\n",
      "[WinError 193] %1 is not a valid Win32 application\n",
      "[WinError 193] %1 is not a valid Win32 application\n",
      "[WinError 193] %1 is not a valid Win32 application\n",
      "[WinError 193] %1 is not a valid Win32 application\n",
      "[WinError 193] %1 is not a valid Win32 application\n",
      "[WinError 193] %1 is not a valid Win32 application\n",
      "[WinError 193] %1 is not a valid Win32 application\n",
      "[WinError 193] %1 is not a valid Win32 application\n",
      "[WinError 193] %1 is not a valid Win32 application\n",
      "[WinError 193] %1 is not a valid Win32 application\n",
      "[WinError 193] %1 is not a valid Win32 application\n",
      "[WinError 193] %1 is not a valid Win32 application\n",
      "[WinError 193] %1 is not a valid Win32 application\n",
      "[WinError 193] %1 is not a valid Win32 application\n",
      "[WinError 193] %1 is not a valid Win32 application\n",
      "[WinError 193] %1 is not a valid Win32 application\n",
      "[WinError 193] %1 is not a valid Win32 application\n",
      "[WinError 193] %1 is not a valid Win32 application\n",
      "[WinError 193] %1 is not a valid Win32 application\n",
      "[WinError 193] %1 is not a valid Win32 application\n",
      "[WinError 193] %1 is not a valid Win32 application\n",
      "[WinError 193] %1 is not a valid Win32 application\n",
      "[WinError 193] %1 is not a valid Win32 application\n",
      "[WinError 193] %1 is not a valid Win32 application\n",
      "[WinError 193] %1 is not a valid Win32 application\n",
      "[WinError 193] %1 is not a valid Win32 application\n",
      "[WinError 193] %1 is not a valid Win32 application\n",
      "[WinError 193] %1 is not a valid Win32 application\n",
      "[WinError 193] %1 is not a valid Win32 application\n",
      "[WinError 193] %1 is not a valid Win32 application\n",
      "[WinError 193] %1 is not a valid Win32 application\n",
      "[WinError 193] %1 is not a valid Win32 application\n",
      "[WinError 193] %1 is not a valid Win32 application\n",
      "[WinError 193] %1 is not a valid Win32 application\n",
      "[WinError 193] %1 is not a valid Win32 application\n",
      "[WinError 193] %1 is not a valid Win32 application\n",
      "[WinError 193] %1 is not a valid Win32 application\n",
      "[WinError 193] %1 is not a valid Win32 application\n",
      "division by zero\n"
     ]
    },
    {
     "name": "stderr",
     "output_type": "stream",
     "text": [
      "\r",
      " 26%|█████████████████████▉                                                                | 51/200 [00:29<07:36,  3.06s/it]"
     ]
    },
    {
     "name": "stdout",
     "output_type": "stream",
     "text": [
      "Epoch: 51, Loss: 216.72546168736048\n"
     ]
    },
    {
     "name": "stderr",
     "output_type": "stream",
     "text": [
      " 30%|██████████████████████████▏                                                           | 61/200 [00:32<00:53,  2.60it/s]"
     ]
    },
    {
     "name": "stdout",
     "output_type": "stream",
     "text": [
      "Epoch: 61, Loss: 219.8983917236328\n"
     ]
    },
    {
     "name": "stderr",
     "output_type": "stream",
     "text": [
      " 36%|██████████████████████████████▌                                                       | 71/200 [00:35<00:41,  3.14it/s]"
     ]
    },
    {
     "name": "stdout",
     "output_type": "stream",
     "text": [
      "Epoch: 71, Loss: 213.6688494001116\n"
     ]
    },
    {
     "name": "stderr",
     "output_type": "stream",
     "text": [
      " 40%|██████████████████████████████████▊                                                   | 81/200 [00:38<00:36,  3.25it/s]"
     ]
    },
    {
     "name": "stdout",
     "output_type": "stream",
     "text": [
      "Epoch: 81, Loss: 234.9915815080915\n"
     ]
    },
    {
     "name": "stderr",
     "output_type": "stream",
     "text": [
      " 46%|███████████████████████████████████████▏                                              | 91/200 [00:42<00:38,  2.80it/s]"
     ]
    },
    {
     "name": "stdout",
     "output_type": "stream",
     "text": [
      "Epoch: 91, Loss: 237.6755828857422\n"
     ]
    },
    {
     "name": "stderr",
     "output_type": "stream",
     "text": [
      " 50%|██████████████████████████████████████████▌                                           | 99/200 [00:44<00:31,  3.23it/s]\n",
      "0it [00:00, ?it/s]\u001b[A\n",
      "20it [00:00, 129.81it/s]\u001b[A\n",
      "\n",
      "0it [00:00, ?it/s]\u001b[A\n",
      "10it [00:00, 99.17it/s]\u001b[A\n",
      "20it [00:00, 97.36it/s]\u001b[A\n",
      "\n",
      "0it [00:00, ?it/s]\u001b[A\n",
      "20it [00:00, 130.35it/s]\u001b[A\n",
      "\n",
      "0it [00:00, ?it/s]\u001b[A\n",
      "20it [00:00, 130.81it/s]\u001b[A\n",
      "\n",
      "0it [00:00, ?it/s]\u001b[A\n",
      "20it [00:00, 109.80it/s]\u001b[A\n",
      "\n",
      "0it [00:00, ?it/s]\u001b[A\n",
      "20it [00:00, 130.77it/s]\u001b[A\n",
      "\n",
      "0it [00:00, ?it/s]\u001b[A\n",
      "20it [00:00, 124.93it/s]\u001b[A\n"
     ]
    },
    {
     "name": "stdout",
     "output_type": "stream",
     "text": [
      "40 40\n",
      "Time computing degree mmd:  0:00:04.610525\n",
      "{'degree': 0.36755719089972905}\n"
     ]
    },
    {
     "name": "stderr",
     "output_type": "stream",
     "text": [
      "\r",
      " 50%|██████████████████████████████████████████▌                                          | 100/200 [00:58<06:57,  4.18s/it]"
     ]
    },
    {
     "name": "stdout",
     "output_type": "stream",
     "text": [
      "Time computing clustering mmd:  0:00:05.926837\n",
      "{'degree': 0.36755719089972905, 'cluster': 0.19148647074277658}\n",
      "[WinError 193] %1 is not a valid Win32 application\n",
      "[WinError 193] %1 is not a valid Win32 application\n",
      "[WinError 193] %1 is not a valid Win32 application\n",
      "[WinError 193] %1 is not a valid Win32 application\n",
      "[WinError 193] %1 is not a valid Win32 application\n",
      "[WinError 193] %1 is not a valid Win32 application\n",
      "[WinError 193] %1 is not a valid Win32 application\n",
      "[WinError 193] %1 is not a valid Win32 application\n",
      "[WinError 193] %1 is not a valid Win32 application\n",
      "[WinError 193] %1 is not a valid Win32 application\n",
      "[WinError 193] %1 is not a valid Win32 application\n",
      "[WinError 193] %1 is not a valid Win32 application\n",
      "[WinError 193] %1 is not a valid Win32 application\n",
      "[WinError 193] %1 is not a valid Win32 application\n",
      "[WinError 193] %1 is not a valid Win32 application\n",
      "[WinError 193] %1 is not a valid Win32 application\n",
      "[WinError 193] %1 is not a valid Win32 application\n",
      "[WinError 193] %1 is not a valid Win32 application\n",
      "[WinError 193] %1 is not a valid Win32 application\n",
      "[WinError 193] %1 is not a valid Win32 application\n",
      "[WinError 193] %1 is not a valid Win32 application\n",
      "[WinError 193] %1 is not a valid Win32 application\n",
      "[WinError 193] %1 is not a valid Win32 application\n",
      "[WinError 193] %1 is not a valid Win32 application\n",
      "[WinError 193] %1 is not a valid Win32 application\n",
      "[WinError 193] %1 is not a valid Win32 application\n",
      "[WinError 193] %1 is not a valid Win32 application\n",
      "[WinError 193] %1 is not a valid Win32 application\n",
      "[WinError 193] %1 is not a valid Win32 application\n",
      "[WinError 193] %1 is not a valid Win32 application\n",
      "[WinError 193] %1 is not a valid Win32 application\n",
      "[WinError 193] %1 is not a valid Win32 application\n",
      "[WinError 193] %1 is not a valid Win32 application\n",
      "[WinError 193] %1 is not a valid Win32 application\n",
      "[WinError 193] %1 is not a valid Win32 application\n",
      "[WinError 193] %1 is not a valid Win32 application\n",
      "[WinError 193] %1 is not a valid Win32 application\n",
      "[WinError 193] %1 is not a valid Win32 application\n",
      "[WinError 193] %1 is not a valid Win32 application\n",
      "[WinError 193] %1 is not a valid Win32 application\n",
      "division by zero\n"
     ]
    },
    {
     "name": "stderr",
     "output_type": "stream",
     "text": [
      "\r",
      " 50%|██████████████████████████████████████████▉                                          | 101/200 [00:58<05:03,  3.06s/it]"
     ]
    },
    {
     "name": "stdout",
     "output_type": "stream",
     "text": [
      "Epoch: 101, Loss: 234.25792803083147\n"
     ]
    },
    {
     "name": "stderr",
     "output_type": "stream",
     "text": [
      " 56%|███████████████████████████████████████████████▏                                     | 111/200 [01:01<00:35,  2.53it/s]"
     ]
    },
    {
     "name": "stdout",
     "output_type": "stream",
     "text": [
      "Epoch: 111, Loss: 262.208738054548\n"
     ]
    },
    {
     "name": "stderr",
     "output_type": "stream",
     "text": [
      " 60%|███████████████████████████████████████████████████▍                                 | 121/200 [01:05<00:25,  3.11it/s]"
     ]
    },
    {
     "name": "stdout",
     "output_type": "stream",
     "text": [
      "Epoch: 121, Loss: 227.61956569126673\n"
     ]
    },
    {
     "name": "stderr",
     "output_type": "stream",
     "text": [
      " 66%|███████████████████████████████████████████████████████▋                             | 131/200 [01:08<00:21,  3.18it/s]"
     ]
    },
    {
     "name": "stdout",
     "output_type": "stream",
     "text": [
      "Epoch: 131, Loss: 237.76499938964844\n"
     ]
    },
    {
     "name": "stderr",
     "output_type": "stream",
     "text": [
      " 70%|███████████████████████████████████████████████████████████▉                         | 141/200 [01:11<00:17,  3.28it/s]"
     ]
    },
    {
     "name": "stdout",
     "output_type": "stream",
     "text": [
      "Epoch: 141, Loss: 222.18561226981026\n"
     ]
    },
    {
     "name": "stderr",
     "output_type": "stream",
     "text": [
      " 74%|███████████████████████████████████████████████████████████████▎                     | 149/200 [01:14<00:17,  2.85it/s]\n",
      "0it [00:00, ?it/s]\u001b[A\n",
      "20it [00:00, 119.09it/s]\u001b[A\n",
      "\n",
      "0it [00:00, ?it/s]\u001b[A\n",
      "20it [00:00, 117.11it/s]\u001b[A\n",
      "\n",
      "0it [00:00, ?it/s]\u001b[A\n",
      "20it [00:00, 126.65it/s]\u001b[A\n",
      "\n",
      "0it [00:00, ?it/s]\u001b[A\n",
      "20it [00:00, 116.98it/s]\u001b[A\n",
      "\n",
      "0it [00:00, ?it/s]\u001b[A\n",
      "20it [00:00, 127.17it/s]\u001b[A\n",
      "\n",
      "0it [00:00, ?it/s]\u001b[A\n",
      "20it [00:00, 103.95it/s][A\n",
      "\n",
      "0it [00:00, ?it/s]\u001b[A\n",
      "20it [00:00, 128.68it/s]\u001b[A\n"
     ]
    },
    {
     "name": "stdout",
     "output_type": "stream",
     "text": [
      "40 40\n",
      "Time computing degree mmd:  0:00:06.189783\n",
      "{'degree': 0.11609183662776812}\n",
      "Time computing clustering mmd:  0:00:08.514933\n",
      "{'degree': 0.11609183662776812, 'cluster': 0.26067930007747175}\n",
      "[WinError 193] %1 is not a valid Win32 application\n",
      "[WinError 193] %1 is not a valid Win32 application\n",
      "[WinError 193] %1 is not a valid Win32 application\n",
      "[WinError 193] %1 is not a valid Win32 application\n",
      "[WinError 193] %1 is not a valid Win32 application\n",
      "[WinError 193] %1 is not a valid Win32 application\n",
      "[WinError 193] %1 is not a valid Win32 application\n",
      "[WinError 193] %1 is not a valid Win32 application\n",
      "[WinError 193] %1 is not a valid Win32 application\n",
      "[WinError 193] %1 is not a valid Win32 application\n",
      "[WinError 193] %1 is not a valid Win32 application\n",
      "[WinError 193] %1 is not a valid Win32 application\n",
      "[WinError 193] %1 is not a valid Win32 application\n",
      "[WinError 193] %1 is not a valid Win32 application\n",
      "[WinError 193] %1 is not a valid Win32 application\n",
      "[WinError 193] %1 is not a valid Win32 application\n",
      "[WinError 193] %1 is not a valid Win32 application\n",
      "[WinError 193] %1 is not a valid Win32 application\n",
      "[WinError 193] %1 is not a valid Win32 application\n",
      "[WinError 193] %1 is not a valid Win32 application\n",
      "[WinError 193] %1 is not a valid Win32 application\n",
      "[WinError 193] %1 is not a valid Win32 application\n",
      "[WinError 193] %1 is not a valid Win32 application\n",
      "[WinError 193] %1 is not a valid Win32 application\n",
      "[WinError 193] %1 is not a valid Win32 application\n",
      "[WinError 193] %1 is not a valid Win32 application\n",
      "[WinError 193] %1 is not a valid Win32 application\n",
      "[WinError 193] %1 is not a valid Win32 application\n",
      "[WinError 193] %1 is not a valid Win32 application\n",
      "[WinError 193] %1 is not a valid Win32 application\n",
      "[WinError 193] %1 is not a valid Win32 application\n",
      "[WinError 193] %1 is not a valid Win32 application\n",
      "[WinError 193] %1 is not a valid Win32 application\n",
      "[WinError 193] %1 is not a valid Win32 application\n",
      "[WinError 193] %1 is not a valid Win32 application\n",
      "[WinError 193] %1 is not a valid Win32 application\n",
      "[WinError 193] %1 is not a valid Win32 application\n",
      "[WinError 193] %1 is not a valid Win32 application\n",
      "[WinError 193] %1 is not a valid Win32 application\n",
      "[WinError 193] %1 is not a valid Win32 application\n",
      "division by zero\n"
     ]
    },
    {
     "name": "stderr",
     "output_type": "stream",
     "text": [
      " 76%|████████████████████████████████████████████████████████████████▏                    | 151/200 [01:32<03:16,  4.01s/it]"
     ]
    },
    {
     "name": "stdout",
     "output_type": "stream",
     "text": [
      "Epoch: 151, Loss: 241.03021240234375\n"
     ]
    },
    {
     "name": "stderr",
     "output_type": "stream",
     "text": [
      " 80%|████████████████████████████████████████████████████████████████████▍                | 161/200 [01:35<00:18,  2.09it/s]"
     ]
    },
    {
     "name": "stdout",
     "output_type": "stream",
     "text": [
      "Epoch: 161, Loss: 232.01729474748885\n"
     ]
    },
    {
     "name": "stderr",
     "output_type": "stream",
     "text": [
      " 86%|████████████████████████████████████████████████████████████████████████▋            | 171/200 [01:39<00:09,  2.91it/s]"
     ]
    },
    {
     "name": "stdout",
     "output_type": "stream",
     "text": [
      "Epoch: 171, Loss: 221.16582815987724\n"
     ]
    },
    {
     "name": "stderr",
     "output_type": "stream",
     "text": [
      " 90%|████████████████████████████████████████████████████████████████████████████▉        | 181/200 [01:42<00:06,  2.95it/s]"
     ]
    },
    {
     "name": "stdout",
     "output_type": "stream",
     "text": [
      "Epoch: 181, Loss: 252.22158813476562\n"
     ]
    },
    {
     "name": "stderr",
     "output_type": "stream",
     "text": [
      " 96%|█████████████████████████████████████████████████████████████████████████████████▏   | 191/200 [01:46<00:03,  2.85it/s]"
     ]
    },
    {
     "name": "stdout",
     "output_type": "stream",
     "text": [
      "Epoch: 191, Loss: 231.72841099330358\n"
     ]
    },
    {
     "name": "stderr",
     "output_type": "stream",
     "text": [
      "100%|████████████████████████████████████████████████████████████████████████████████████▌| 199/200 [01:48<00:00,  3.06it/s]\n",
      "0it [00:00, ?it/s]\u001b[A\n",
      "20it [00:00, 119.26it/s]\u001b[A\n",
      "\n",
      "0it [00:00, ?it/s]\u001b[A\n",
      "20it [00:00, 96.69it/s][A\n",
      "\n",
      "0it [00:00, ?it/s]\u001b[A\n",
      "8it [00:00, 74.55it/s]\u001b[A\n",
      "20it [00:00, 94.19it/s]\u001b[A\n",
      "\n",
      "0it [00:00, ?it/s]\u001b[A\n",
      "20it [00:00, 118.67it/s]\u001b[A\n",
      "\n",
      "0it [00:00, ?it/s]\u001b[A\n",
      "20it [00:00, 108.93it/s]\u001b[A\n",
      "\n",
      "0it [00:00, ?it/s]\u001b[A\n",
      "20it [00:00, 119.23it/s]\u001b[A\n",
      "\n",
      "0it [00:00, ?it/s]\u001b[A\n",
      "9it [00:00, 80.16it/s]\u001b[A\n",
      "20it [00:00, 76.19it/s]\u001b[A\n"
     ]
    },
    {
     "name": "stdout",
     "output_type": "stream",
     "text": [
      "40 40\n",
      "Time computing degree mmd:  0:00:07.113228\n",
      "{'degree': 0.4678572281504584}\n",
      "Time computing clustering mmd:  0:00:08.662185\n",
      "{'degree': 0.4678572281504584, 'cluster': 0.10838718565233851}\n",
      "[WinError 193] %1 is not a valid Win32 application\n",
      "[WinError 193] %1 is not a valid Win32 application\n",
      "[WinError 193] %1 is not a valid Win32 application\n",
      "[WinError 193] %1 is not a valid Win32 application\n",
      "[WinError 193] %1 is not a valid Win32 application\n",
      "[WinError 193] %1 is not a valid Win32 application\n",
      "[WinError 193] %1 is not a valid Win32 application\n",
      "[WinError 193] %1 is not a valid Win32 application\n",
      "[WinError 193] %1 is not a valid Win32 application\n",
      "[WinError 193] %1 is not a valid Win32 application\n",
      "[WinError 193] %1 is not a valid Win32 application\n",
      "[WinError 193] %1 is not a valid Win32 application\n",
      "[WinError 193] %1 is not a valid Win32 application\n",
      "[WinError 193] %1 is not a valid Win32 application\n",
      "[WinError 193] %1 is not a valid Win32 application\n",
      "[WinError 193] %1 is not a valid Win32 application\n",
      "[WinError 193] %1 is not a valid Win32 application\n",
      "[WinError 193] %1 is not a valid Win32 application\n",
      "[WinError 193] %1 is not a valid Win32 application\n",
      "[WinError 193] %1 is not a valid Win32 application\n",
      "[WinError 193] %1 is not a valid Win32 application\n",
      "[WinError 193] %1 is not a valid Win32 application\n",
      "[WinError 193] %1 is not a valid Win32 application\n",
      "[WinError 193] %1 is not a valid Win32 application\n",
      "[WinError 193] %1 is not a valid Win32 application\n",
      "[WinError 193] %1 is not a valid Win32 application\n",
      "[WinError 193] %1 is not a valid Win32 application\n",
      "[WinError 193] %1 is not a valid Win32 application\n",
      "[WinError 193] %1 is not a valid Win32 application\n",
      "[WinError 193] %1 is not a valid Win32 application\n",
      "[WinError 193] %1 is not a valid Win32 application\n",
      "[WinError 193] %1 is not a valid Win32 application\n",
      "[WinError 193] %1 is not a valid Win32 application\n",
      "[WinError 193] %1 is not a valid Win32 application\n",
      "[WinError 193] %1 is not a valid Win32 application\n",
      "[WinError 193] %1 is not a valid Win32 application\n",
      "[WinError 193] %1 is not a valid Win32 application\n",
      "[WinError 193] %1 is not a valid Win32 application\n",
      "[WinError 193] %1 is not a valid Win32 application\n",
      "[WinError 193] %1 is not a valid Win32 application\n",
      "division by zero\n"
     ]
    },
    {
     "name": "stderr",
     "output_type": "stream",
     "text": [
      "100%|█████████████████████████████████████████████████████████████████████████████████████| 200/200 [02:07<00:00,  1.57it/s]\n"
     ]
    },
    {
     "data": {
      "text/plain": [
       "tensor(379.3293, device='cuda:0', grad_fn=<AddBackward0>)"
      ]
     },
     "execution_count": 17,
     "metadata": {},
     "output_type": "execute_result"
    },
    {
     "data": {
      "image/png": "[encoded data removed]",
      "text/plain": [
       "<Figure size 1200x400 with 2 Axes>"
      ]
     },
     "metadata": {},
     "output_type": "display_data"
    },
    {
     "data": {
      "image/png": "[encoded data removed]",
      "text/plain": [
       "<Figure size 1200x400 with 2 Axes>"
      ]
     },
     "metadata": {},
     "output_type": "display_data"
    },
    {
     "data": {
      "image/png": "[encoded data removed]",
      "text/plain": [
       "<Figure size 1200x400 with 2 Axes>"
      ]
     },
     "metadata": {},
     "output_type": "display_data"
    },
    {
     "data": {
      "image/png": "[encoded data removed]",
      "text/plain": [
       "<Figure size 1200x400 with 2 Axes>"
      ]
     },
     "metadata": {},
     "output_type": "display_data"
    },
    {
     "data": {
      "image/png": "[encoded data removed]",
      "text/plain": [
       "<Figure size 1200x400 with 2 Axes>"
      ]
     },
     "metadata": {},
     "output_type": "display_data"
    }
   ],
   "source": [
    "ctdd_trainer = CTDDTrainer(ctdd_config)\n",
    "ctdd_trainer.train_ctdd()"
   ]
  },
  {
   "cell_type": "code",
   "execution_count": 18,
   "id": "ff341097",
   "metadata": {},
   "outputs": [
    {
     "name": "stderr",
     "output_type": "stream",
     "text": [
      "20it [00:00, 53.63it/s]\n"
     ]
    },
    {
     "data": {
      "text/plain": [
       "[<networkx.classes.graph.Graph at 0x1dde2e52230>,\n",
       " <networkx.classes.graph.Graph at 0x1dde1893b20>,\n",
       " <networkx.classes.graph.Graph at 0x1dddfc67370>,\n",
       " <networkx.classes.graph.Graph at 0x1dddf9355d0>,\n",
       " <networkx.classes.graph.Graph at 0x1dde1e0d8d0>,\n",
       " <networkx.classes.graph.Graph at 0x1dde1e0df90>,\n",
       " <networkx.classes.graph.Graph at 0x1dde1e0d510>,\n",
       " <networkx.classes.graph.Graph at 0x1dd1d42ada0>,\n",
       " <networkx.classes.graph.Graph at 0x1dde2e3aef0>,\n",
       " <networkx.classes.graph.Graph at 0x1dde2e3a8f0>,\n",
       " <networkx.classes.graph.Graph at 0x1dde2e3a5c0>,\n",
       " <networkx.classes.graph.Graph at 0x1dde2e38460>,\n",
       " <networkx.classes.graph.Graph at 0x1dde2e387c0>,\n",
       " <networkx.classes.graph.Graph at 0x1dde2e39630>,\n",
       " <networkx.classes.graph.Graph at 0x1dde1c94310>,\n",
       " <networkx.classes.graph.Graph at 0x1dd715871c0>,\n",
       " <networkx.classes.graph.Graph at 0x1dd71584160>,\n",
       " <networkx.classes.graph.Graph at 0x1dd714f30a0>,\n",
       " <networkx.classes.graph.Graph at 0x1dd714f26b0>,\n",
       " <networkx.classes.graph.Graph at 0x1dde0181a80>]"
      ]
     },
     "execution_count": 18,
     "metadata": {},
     "output_type": "execute_result"
    }
   ],
   "source": [
    "ctdd_trainer.ctdd.generate_graphs(20)"
   ]
  }
 ],
 "metadata": {
  "kernelspec": {
   "display_name": "Python 3 (ipykernel)",
   "language": "python",
   "name": "python3"
  },
  "language_info": {
   "codemirror_mode": {
    "name": "ipython",
    "version": 3
   },
   "file_extension": ".py",
   "mimetype": "text/x-python",
   "name": "python",
   "nbconvert_exporter": "python",
   "pygments_lexer": "ipython3",
   "version": "3.10.9"
  }
 },
 "nbformat": 4,
 "nbformat_minor": 5
}
