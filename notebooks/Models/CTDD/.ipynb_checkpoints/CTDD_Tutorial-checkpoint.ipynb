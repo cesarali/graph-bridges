{
 "cells": [
  {
   "cell_type": "code",
   "execution_count": 1,
   "id": "6ba5a044",
   "metadata": {},
   "outputs": [],
   "source": [
    "import os\n",
    "import sys\n",
    "import torch\n",
    "import pandas as pd"
   ]
  },
  {
   "cell_type": "code",
   "execution_count": 2,
   "id": "3121e4ec",
   "metadata": {},
   "outputs": [],
   "source": [
    "#CONFIG FILES\n",
    "from graph_bridges.data.graph_dataloaders_config import EgoConfig\n",
    "from graph_bridges.models.trainers.ctdd_training import CTDDTrainer\n",
    "from graph_bridges.data.graph_dataloaders_config import CommunitySmallConfig\n",
    "from graph_bridges.configs.graphs.config_ctdd import CTDDConfig,TrainerConfig\n",
    "from graph_bridges.data.graph_dataloaders_config import PepperMNISTDataConfig\n",
    "from graph_bridges.models.backward_rates.backward_rate_config import BackRateMLPConfig\n",
    "from graph_bridges.models.backward_rates.backward_rate_config import GaussianTargetRateImageX0PredEMAConfig"
   ]
  },
  {
   "cell_type": "code",
   "execution_count": 3,
   "id": "981e87a9",
   "metadata": {},
   "outputs": [],
   "source": [
    "ctdd_config = CTDDConfig(experiment_indentifier=\"ctdd_tutorial_mnist\", delete=True)\n",
    "ctdd_config.data = PepperMNISTDataConfig(batch_size=4, full_adjacency=True,flatten_adjacency=True)\n",
    "ctdd_config.model = GaussianTargetRateImageX0PredEMAConfig()\n",
    "#ctdd_config.model = BackRateMLPConfig()\n",
    "\n",
    "ctdd_config.trainer = TrainerConfig(device=\"cuda:0\",\n",
    "                                    num_epochs=20,\n",
    "                                    save_metric_epochs=2,\n",
    "                                    save_model_epochs=2,\n",
    "                                    save_image_epochs=2,\n",
    "                                    metrics=[\"graphs_plots\",\"graphs\",\"histograms\"])"
   ]
  },
  {
   "cell_type": "code",
   "execution_count": null,
   "id": "d9a94951",
   "metadata": {},
   "outputs": [],
   "source": [
    "ctdd_trainer = CTDDTrainer(ctdd_config)\n",
    "ctdd_trainer.train_ctdd()"
   ]
  },
  {
   "cell_type": "code",
   "execution_count": 20,
   "id": "609da014",
   "metadata": {},
   "outputs": [
    {
     "name": "stderr",
     "output_type": "stream",
     "text": [
      "20it [00:00, 51.43it/s]\n"
     ]
    }
   ],
   "source": [
    "x = ctdd_trainer.ctdd.pipeline(ctdd_trainer.ctdd.model, 36)"
   ]
  },
  {
   "cell_type": "code",
   "execution_count": 23,
   "id": "da1adc1d",
   "metadata": {},
   "outputs": [
    {
     "data": {
      "text/plain": [
       "tensor([[[0., 1., 1.,  ..., 0., 0., 0.],\n",
       "         [1., 0., 0.,  ..., 1., 0., 0.],\n",
       "         [1., 0., 0.,  ..., 0., 0., 0.],\n",
       "         ...,\n",
       "         [0., 1., 0.,  ..., 0., 0., 0.],\n",
       "         [0., 0., 0.,  ..., 0., 0., 0.],\n",
       "         [0., 0., 0.,  ..., 0., 0., 0.]],\n",
       "\n",
       "        [[0., 0., 0.,  ..., 0., 0., 0.],\n",
       "         [0., 0., 0.,  ..., 0., 0., 0.],\n",
       "         [0., 0., 0.,  ..., 0., 0., 0.],\n",
       "         ...,\n",
       "         [0., 0., 0.,  ..., 0., 0., 0.],\n",
       "         [0., 0., 0.,  ..., 0., 0., 0.],\n",
       "         [0., 0., 0.,  ..., 0., 0., 0.]],\n",
       "\n",
       "        [[0., 0., 0.,  ..., 0., 0., 0.],\n",
       "         [0., 0., 0.,  ..., 0., 0., 0.],\n",
       "         [0., 0., 0.,  ..., 0., 0., 0.],\n",
       "         ...,\n",
       "         [0., 0., 0.,  ..., 0., 0., 0.],\n",
       "         [0., 0., 0.,  ..., 0., 0., 0.],\n",
       "         [0., 0., 0.,  ..., 0., 0., 0.]],\n",
       "\n",
       "        ...,\n",
       "\n",
       "        [[0., 1., 1.,  ..., 0., 0., 0.],\n",
       "         [1., 0., 0.,  ..., 0., 0., 0.],\n",
       "         [1., 0., 0.,  ..., 0., 0., 0.],\n",
       "         ...,\n",
       "         [0., 0., 0.,  ..., 0., 0., 0.],\n",
       "         [0., 0., 0.,  ..., 0., 0., 0.],\n",
       "         [0., 0., 0.,  ..., 0., 0., 0.]],\n",
       "\n",
       "        [[0., 0., 1.,  ..., 0., 0., 0.],\n",
       "         [0., 0., 0.,  ..., 0., 0., 0.],\n",
       "         [1., 0., 0.,  ..., 0., 0., 0.],\n",
       "         ...,\n",
       "         [0., 0., 0.,  ..., 0., 0., 0.],\n",
       "         [0., 0., 0.,  ..., 0., 0., 0.],\n",
       "         [0., 0., 0.,  ..., 0., 0., 0.]],\n",
       "\n",
       "        [[0., 0., 0.,  ..., 0., 0., 0.],\n",
       "         [0., 0., 0.,  ..., 0., 0., 1.],\n",
       "         [0., 0., 0.,  ..., 0., 0., 0.],\n",
       "         ...,\n",
       "         [0., 0., 0.,  ..., 0., 0., 0.],\n",
       "         [0., 0., 0.,  ..., 0., 0., 0.],\n",
       "         [0., 1., 0.,  ..., 0., 0., 0.]]], device='cuda:0')"
      ]
     },
     "execution_count": 23,
     "metadata": {},
     "output_type": "execute_result"
    }
   ],
   "source": [
    "ctdd_trainer.ctdd.data_dataloader.transform_to_graph(x)"
   ]
  },
  {
   "cell_type": "code",
   "execution_count": 18,
   "id": "33755514",
   "metadata": {},
   "outputs": [
    {
     "name": "stderr",
     "output_type": "stream",
     "text": [
      "20it [00:00, 53.63it/s]\n"
     ]
    },
    {
     "data": {
      "text/plain": [
       "[<networkx.classes.graph.Graph at 0x1dde2e52230>,\n",
       " <networkx.classes.graph.Graph at 0x1dde1893b20>,\n",
       " <networkx.classes.graph.Graph at 0x1dddfc67370>,\n",
       " <networkx.classes.graph.Graph at 0x1dddf9355d0>,\n",
       " <networkx.classes.graph.Graph at 0x1dde1e0d8d0>,\n",
       " <networkx.classes.graph.Graph at 0x1dde1e0df90>,\n",
       " <networkx.classes.graph.Graph at 0x1dde1e0d510>,\n",
       " <networkx.classes.graph.Graph at 0x1dd1d42ada0>,\n",
       " <networkx.classes.graph.Graph at 0x1dde2e3aef0>,\n",
       " <networkx.classes.graph.Graph at 0x1dde2e3a8f0>,\n",
       " <networkx.classes.graph.Graph at 0x1dde2e3a5c0>,\n",
       " <networkx.classes.graph.Graph at 0x1dde2e38460>,\n",
       " <networkx.classes.graph.Graph at 0x1dde2e387c0>,\n",
       " <networkx.classes.graph.Graph at 0x1dde2e39630>,\n",
       " <networkx.classes.graph.Graph at 0x1dde1c94310>,\n",
       " <networkx.classes.graph.Graph at 0x1dd715871c0>,\n",
       " <networkx.classes.graph.Graph at 0x1dd71584160>,\n",
       " <networkx.classes.graph.Graph at 0x1dd714f30a0>,\n",
       " <networkx.classes.graph.Graph at 0x1dd714f26b0>,\n",
       " <networkx.classes.graph.Graph at 0x1dde0181a80>]"
      ]
     },
     "execution_count": 18,
     "metadata": {},
     "output_type": "execute_result"
    }
   ],
   "source": [
    "ctdd_trainer.ctdd.generate_graphs(20)"
   ]
  }
 ],
 "metadata": {
  "kernelspec": {
   "display_name": "Python 3 (ipykernel)",
   "language": "python",
   "name": "python3"
  },
  "language_info": {
   "codemirror_mode": {
    "name": "ipython",
    "version": 3
   },
   "file_extension": ".py",
   "mimetype": "text/x-python",
   "name": "python",
   "nbconvert_exporter": "python",
   "pygments_lexer": "ipython3",
   "version": "3.10.9"
  }
 },
 "nbformat": 4,
 "nbformat_minor": 5
}
