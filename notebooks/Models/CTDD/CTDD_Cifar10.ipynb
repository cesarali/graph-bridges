{
 "cells": [
  {
   "cell_type": "code",
   "execution_count": 1,
   "id": "9a3fba20",
   "metadata": {},
   "outputs": [],
   "source": [
    "import torch\n",
    "from graph_bridges.data.image_dataloader_config import DiscreteCIFAR10Config\n",
    "from graph_bridges.configs.images.config_ctdd import CTDDConfig\n",
    "from graph_bridges.data.dataloaders_utils import load_dataloader"
   ]
  },
  {
   "cell_type": "code",
   "execution_count": 2,
   "id": "afe727d5",
   "metadata": {},
   "outputs": [
    {
     "name": "stdout",
     "output_type": "stream",
     "text": [
      "Files already downloaded and verified\n",
      "Files already downloaded and verified\n"
     ]
    }
   ],
   "source": [
    "config = CTDDConfig\n",
    "config.data = DiscreteCIFAR10Config()\n",
    "dataloader = load_dataloader(config,device=torch.device(\"cpu\"))\n",
    "databath = next(dataloader.train().__iter__())"
   ]
  },
  {
   "cell_type": "code",
   "execution_count": 9,
   "id": "06f109af",
   "metadata": {},
   "outputs": [],
   "source": [
    "img = databath[0]\n",
    "target = databath[1]"
   ]
  },
  {
   "cell_type": "code",
   "execution_count": 18,
   "id": "2bdf2cbe",
   "metadata": {},
   "outputs": [
    {
     "data": {
      "text/plain": [
       "5"
      ]
     },
     "execution_count": 18,
     "metadata": {},
     "output_type": "execute_result"
    }
   ],
   "source": [
    "A = [1,2,3,4,5]\n",
    "A.pop()"
   ]
  },
  {
   "cell_type": "code",
   "execution_count": 19,
   "id": "ebfaf0c7",
   "metadata": {},
   "outputs": [
    {
     "data": {
      "text/plain": [
       "[1, 2, 3, 4]"
      ]
     },
     "execution_count": 19,
     "metadata": {},
     "output_type": "execute_result"
    }
   ],
   "source": [
    "A"
   ]
  }
 ],
 "metadata": {
  "kernelspec": {
   "display_name": "Python 3 (ipykernel)",
   "language": "python",
   "name": "python3"
  },
  "language_info": {
   "codemirror_mode": {
    "name": "ipython",
    "version": 3
   },
   "file_extension": ".py",
   "mimetype": "text/x-python",
   "name": "python",
   "nbconvert_exporter": "python",
   "pygments_lexer": "ipython3",
   "version": "3.10.9"
  }
 },
 "nbformat": 4,
 "nbformat_minor": 5
}
