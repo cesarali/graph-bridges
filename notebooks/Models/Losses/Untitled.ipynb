{
 "cells": [
  {
   "cell_type": "code",
   "execution_count": 1,
   "id": "fabc6b10",
   "metadata": {},
   "outputs": [],
   "source": [
    "import torch\n",
    "import unittest\n",
    "\n",
    "from pprint import pprint\n",
    "\n",
    "\n",
    "from graph_bridges.models.generative_models.sb import SB\n",
    "from graph_bridges.configs.config_sb import SBTrainerConfig\n",
    "from graph_bridges.data.graph_dataloaders_config import EgoConfig\n",
    "from graph_bridges.data.spin_glass_dataloaders_config import ParametrizedSpinGlassHamiltonianConfig\n",
    "from graph_bridges.configs.graphs.graph_config_sb import SBConfig\n",
    "from graph_bridges.configs.config_sb import ParametrizedSamplerConfig, SteinSpinEstimatorConfig\n",
    "\n",
    "from graph_bridges.models.temporal_networks.mlp.temporal_mlp import TemporalMLPConfig\n",
    "from graph_bridges.models.backward_rates.ctdd_backward_rate_config import BackwardRateTemporalHollowTransformerConfig\n",
    "from graph_bridges.models.temporal_networks.transformers.temporal_hollow_transformers import TemporalHollowTransformerConfig\n",
    "from graph_bridges.models.trainers.sb_training import SBTrainer\n",
    "from graph_bridges.models.spin_glass.spin_utils import copy_and_flip_spins"
   ]
  },
  {
   "cell_type": "code",
   "execution_count": 2,
   "id": "c4714678",
   "metadata": {},
   "outputs": [],
   "source": [
    "from graph_bridges.data.transforms import SpinsToBinaryTensor\n",
    "spins_to_binary = SpinsToBinaryTensor()"
   ]
  },
  {
   "cell_type": "code",
   "execution_count": 89,
   "id": "aca339c0",
   "metadata": {},
   "outputs": [
    {
     "name": "stdout",
     "output_type": "stream",
     "text": [
      "Coupling from Spin File Different from Config\n",
      "Coupling from Spin File Different from Config\n",
      "Coupling from Spin File Different from Config\n",
      "Coupling from Spin File Different from Config\n"
     ]
    }
   ],
   "source": [
    "\n",
    "\n",
    "sb_config = SBConfig(delete=True,\n",
    "                     experiment_name=\"spin_glass\",\n",
    "                     experiment_type=\"sb\",\n",
    "                     experiment_indentifier=None)\n",
    "\n",
    "batch_size = 2\n",
    "sb_config.data = ParametrizedSpinGlassHamiltonianConfig(data=\"bernoulli_small\",\n",
    "                                                        batch_size=batch_size,\n",
    "                                                        number_of_spins=3)\n",
    "\n",
    "sb_config.target = ParametrizedSpinGlassHamiltonianConfig(data=\"bernoulli_small\",\n",
    "                                                          batch_size=batch_size,\n",
    "                                                          number_of_spins=3)\n",
    "\n",
    "sb_config.temp_network = TemporalMLPConfig(time_embed_dim=12,hidden_dim=250)\n",
    "\n",
    "sb_config.flip_estimator = SteinSpinEstimatorConfig(stein_sample_size=2000, stein_epsilon=0.1)\n",
    "sb_config.sampler = ParametrizedSamplerConfig(num_steps=20)\n",
    "\n",
    "device = torch.device(\"cuda:0\") if torch.cuda.is_available() else torch.device(\"cpu\")\n",
    "\n",
    "sb = SB()\n",
    "sb.create_new_from_config(sb_config,device)\n",
    "\n",
    "batchdata = next(sb.data_dataloader.train().__iter__())\n",
    "\n",
    "X_spins = batchdata[0].to(device)\n",
    "X_copy_spin, X_flipped_spin = copy_and_flip_spins(X_spins)\n",
    "current_time = torch.rand((batch_size)).to(device)\n",
    "copy_time = torch.repeat_interleave(current_time,X_spins.size(1))\n",
    "\n",
    "phi_0 = sb.reference_process\n",
    "phi_1 = sb.training_model\n",
    "\n",
    "flip_estimate_ = sb.backward_ratio_estimator.flip_estimator(phi_1, X_spins, current_time)\n",
    "loss = sb.backward_ratio_estimator(phi_1,phi_0,X_spins,current_time)"
   ]
  },
  {
   "cell_type": "code",
   "execution_count": 55,
   "id": "94f5d274",
   "metadata": {},
   "outputs": [
    {
     "data": {
      "text/plain": [
       "tensor([[0.4866, 0.8786, 0.7124],\n",
       "        [0.8444, 0.7118, 0.7421],\n",
       "        [0.8912, 0.5958, 0.5714],\n",
       "        [0.4868, 0.8751, 0.7111],\n",
       "        [0.8448, 0.7087, 0.7407],\n",
       "        [0.8917, 0.5931, 0.5703]], device='cuda:0',\n",
       "       grad_fn=<SoftplusBackward0>)"
      ]
     },
     "execution_count": 55,
     "metadata": {},
     "output_type": "execute_result"
    }
   ],
   "source": [
    "phi_1(X_flipped_spin,copy_time)"
   ]
  },
  {
   "cell_type": "code",
   "execution_count": 56,
   "id": "cdd7e79b",
   "metadata": {},
   "outputs": [
    {
     "data": {
      "text/plain": [
       "tensor([[0.4801],\n",
       "        [0.7153],\n",
       "        [0.5512],\n",
       "        [0.4804],\n",
       "        [0.7122],\n",
       "        [0.5502]], device='cuda:0', grad_fn=<ReshapeAliasBackward0>)"
      ]
     },
     "execution_count": 56,
     "metadata": {},
     "output_type": "execute_result"
    }
   ],
   "source": [
    "flip_estimate_"
   ]
  },
  {
   "cell_type": "code",
   "execution_count": 67,
   "id": "1e5b1091",
   "metadata": {},
   "outputs": [
    {
     "data": {
      "text/plain": [
       "tensor([[-1.,  1.,  1.],\n",
       "        [-1.,  1.,  1.]], device='cuda:0')"
      ]
     },
     "execution_count": 67,
     "metadata": {},
     "output_type": "execute_result"
    }
   ],
   "source": [
    "modified_states_tensor[:,1,:]"
   ]
  },
  {
   "cell_type": "code",
   "execution_count": 103,
   "id": "47a2cce7",
   "metadata": {},
   "outputs": [],
   "source": [
    "def flip_and_copy_spins(X_spins):\n",
    "    batch_size = X_spins.size(0)\n",
    "    number_of_spins = X_spins.size(1)\n",
    "    flip_mask = torch.ones((number_of_spins,number_of_spins)).fill_diagonal_(-1.).to(X_spins.device)\n",
    "    flip_mask = flip_mask.repeat((X_spins.size(0),1))\n",
    "    X_copy = X_spins.repeat_interleave(number_of_spins,dim=0)\n",
    "    X_flipped = X_copy*flip_mask\n",
    "    return X_copy,X_flipped"
   ]
  },
  {
   "cell_type": "code",
   "execution_count": 121,
   "id": "f61cc0db",
   "metadata": {},
   "outputs": [],
   "source": [
    "batch_size = X_spins.size(0)\n",
    "number_of_spins = X_spins.size(1)\n",
    "X_copy,X_flipped = flip_and_copy_spins(X_spins)\n",
    "copy_time = torch.repeat_interleave(current_time,X_spins.size(1))\n",
    "transition_rates_ = phi_1(X_flipped,copy_time)\n",
    "transition_rates = transition_rates.reshape(batch_size,number_of_spins,number_of_spins)\n",
    "transition_rates = torch.einsum(\"bii->bi\",transition_rates)"
   ]
  },
  {
   "cell_type": "code",
   "execution_count": 127,
   "id": "63babef6",
   "metadata": {},
   "outputs": [
    {
     "data": {
      "text/plain": [
       "tensor([0., 1., 1., 0.])"
      ]
     },
     "execution_count": 127,
     "metadata": {},
     "output_type": "execute_result"
    }
   ],
   "source": [
    "binary_ = torch.Tensor([0.,1.,1.,0.])\n",
    "binary_"
   ]
  },
  {
   "cell_type": "code",
   "execution_count": 128,
   "id": "11b0c635",
   "metadata": {},
   "outputs": [
    {
     "data": {
      "text/plain": [
       "tensor([1., 0., 0., 1.])"
      ]
     },
     "execution_count": 128,
     "metadata": {},
     "output_type": "execute_result"
    }
   ],
   "source": [
    "(~binary_.bool()).float()"
   ]
  }
 ],
 "metadata": {
  "kernelspec": {
   "display_name": "Python 3 (ipykernel)",
   "language": "python",
   "name": "python3"
  },
  "language_info": {
   "codemirror_mode": {
    "name": "ipython",
    "version": 3
   },
   "file_extension": ".py",
   "mimetype": "text/x-python",
   "name": "python",
   "nbconvert_exporter": "python",
   "pygments_lexer": "ipython3",
   "version": "3.10.9"
  }
 },
 "nbformat": 4,
 "nbformat_minor": 5
}
