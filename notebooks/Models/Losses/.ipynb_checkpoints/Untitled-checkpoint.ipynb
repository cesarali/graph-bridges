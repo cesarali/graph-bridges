{
 "cells": [
  {
   "cell_type": "code",
   "execution_count": 1,
   "id": "0fdb1b6e",
   "metadata": {},
   "outputs": [],
   "source": [
    "import torch\n",
    "import unittest\n",
    "\n",
    "from pprint import pprint\n",
    "\n",
    "\n",
    "from graph_bridges.models.generative_models.sb import SB\n",
    "from graph_bridges.configs.config_sb import SBTrainerConfig\n",
    "from graph_bridges.data.graph_dataloaders_config import EgoConfig\n",
    "from graph_bridges.data.spin_glass_dataloaders_config import ParametrizedSpinGlassHamiltonianConfig\n",
    "from graph_bridges.configs.graphs.graph_config_sb import SBConfig\n",
    "from graph_bridges.configs.config_sb import ParametrizedSamplerConfig, SteinSpinEstimatorConfig\n",
    "\n",
    "from graph_bridges.models.temporal_networks.mlp.temporal_mlp import TemporalMLPConfig\n",
    "from graph_bridges.models.backward_rates.ctdd_backward_rate_config import BackwardRateTemporalHollowTransformerConfig\n",
    "from graph_bridges.models.temporal_networks.transformers.temporal_hollow_transformers import TemporalHollowTransformerConfig\n",
    "from graph_bridges.models.trainers.sb_training import SBTrainer\n",
    "from graph_bridges.models.spin_glass.spin_utils import copy_and_flip_spins"
   ]
  },
  {
   "cell_type": "code",
   "execution_count": 2,
   "id": "68aac181",
   "metadata": {},
   "outputs": [],
   "source": [
    "from graph_bridges.data.transforms import SpinsToBinaryTensor\n",
    "spins_to_binary = SpinsToBinaryTensor()"
   ]
  },
  {
   "cell_type": "code",
   "execution_count": 23,
   "id": "681118b5",
   "metadata": {},
   "outputs": [
    {
     "name": "stdout",
     "output_type": "stream",
     "text": [
      "Coupling from Spin File Different from Config\n",
      "Coupling from Spin File Different from Config\n",
      "Coupling from Spin File Different from Config\n",
      "Coupling from Spin File Different from Config\n"
     ]
    }
   ],
   "source": [
    "\n",
    "\n",
    "sb_config = SBConfig(delete=True,\n",
    "                     experiment_name=\"spin_glass\",\n",
    "                     experiment_type=\"sb\",\n",
    "                     experiment_indentifier=None)\n",
    "\n",
    "batch_size = 2\n",
    "sb_config.data = ParametrizedSpinGlassHamiltonianConfig(data=\"bernoulli_small\",\n",
    "                                                        batch_size=batch_size,\n",
    "                                                        number_of_spins=3)\n",
    "\n",
    "sb_config.target = ParametrizedSpinGlassHamiltonianConfig(data=\"bernoulli_small\",\n",
    "                                                          batch_size=batch_size,\n",
    "                                                          number_of_spins=3)\n",
    "\n",
    "sb_config.temp_network = TemporalMLPConfig(time_embed_dim=12,hidden_dim=250)\n",
    "\n",
    "sb_config.flip_estimator = SteinSpinEstimatorConfig(stein_sample_size=200, stein_epsilon=1e-2)\n",
    "sb_config.sampler = ParametrizedSamplerConfig(num_steps=20)\n",
    "\n",
    "device = torch.device(\"cuda:0\") if torch.cuda.is_available() else torch.device(\"cpu\")\n",
    "\n",
    "sb = SB()\n",
    "sb.create_new_from_config(sb_config,device)\n",
    "\n",
    "batchdata = next(sb.data_dataloader.train().__iter__())\n",
    "\n",
    "X_spins = batchdata[0].to(device)\n",
    "X_copy_spin, X_flipped_spin = copy_and_flip_spins(X_spins)\n",
    "current_time = torch.rand((batch_size)).to(device)\n",
    "copy_time = torch.repeat_interleave(current_time,X_spins.size(1))\n",
    "\n",
    "phi_0 = sb.reference_process\n",
    "phi_1 = sb.training_model\n",
    "\n",
    "flip_estimate_ = sb.backward_ratio_estimator.flip_estimator(current_model, X_spins, current_time)\n",
    "loss = sb.backward_ratio_estimator(current_model,past_to_train,X_spins,current_time)"
   ]
  },
  {
   "cell_type": "code",
   "execution_count": 24,
   "id": "7ea7f3e5",
   "metadata": {},
   "outputs": [
    {
     "data": {
      "text/plain": [
       "tensor([[ 1.,  1.,  1.],\n",
       "        [ 1., -1., -1.]], device='cuda:0')"
      ]
     },
     "execution_count": 24,
     "metadata": {},
     "output_type": "execute_result"
    }
   ],
   "source": [
    "X_spins"
   ]
  },
  {
   "cell_type": "code",
   "execution_count": 37,
   "id": "31b97ef2",
   "metadata": {},
   "outputs": [
    {
     "data": {
      "text/plain": [
       "torch.Size([4])"
      ]
     },
     "execution_count": 37,
     "metadata": {},
     "output_type": "execute_result"
    }
   ],
   "source": [
    "copy_time.shape"
   ]
  }
 ],
 "metadata": {
  "kernelspec": {
   "display_name": "Python 3 (ipykernel)",
   "language": "python",
   "name": "python3"
  },
  "language_info": {
   "codemirror_mode": {
    "name": "ipython",
    "version": 3
   },
   "file_extension": ".py",
   "mimetype": "text/x-python",
   "name": "python",
   "nbconvert_exporter": "python",
   "pygments_lexer": "ipython3",
   "version": "3.10.9"
  }
 },
 "nbformat": 4,
 "nbformat_minor": 5
}
