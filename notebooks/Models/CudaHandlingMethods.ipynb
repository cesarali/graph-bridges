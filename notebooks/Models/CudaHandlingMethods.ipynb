{
 "cells": [
  {
   "cell_type": "code",
   "execution_count": 16,
   "id": "53d81655",
   "metadata": {},
   "outputs": [],
   "source": [
    "import os\n",
    "import sys\n",
    "import torch\n",
    "import pandas as pd\n",
    "from torch import nn\n",
    "from graph_bridges.utils.test_utils import check_model_devices\n",
    "\n",
    "class LinearClassifier(nn.Module):\n",
    "    def __init__(self):\n",
    "        super(LinearClassifier, self).__init__()\n",
    "        self.linear = nn.Linear(5, 2)\n",
    "        self.sigmoid = nn.Sigmoid()\n",
    "\n",
    "    def forward(self, x):\n",
    "        x = self.linear(x)\n",
    "        return self.sigmoid(x)"
   ]
  },
  {
   "cell_type": "code",
   "execution_count": 12,
   "id": "4031d250",
   "metadata": {},
   "outputs": [],
   "source": [
    "x = torch.rand(size=(32,5))\n",
    "model = LinearClassifier()"
   ]
  },
  {
   "cell_type": "code",
   "execution_count": 20,
   "id": "9279c8f6",
   "metadata": {},
   "outputs": [],
   "source": [
    "device1 = torch.device(\"cuda:0\")\n",
    "device2 = torch.device(\"cpu\")"
   ]
  },
  {
   "cell_type": "code",
   "execution_count": 23,
   "id": "af6559f6",
   "metadata": {},
   "outputs": [
    {
     "data": {
      "text/plain": [
       "LinearClassifier(\n",
       "  (linear): Linear(in_features=5, out_features=2, bias=True)\n",
       "  (sigmoid): Sigmoid()\n",
       ")"
      ]
     },
     "execution_count": 23,
     "metadata": {},
     "output_type": "execute_result"
    }
   ],
   "source": [
    "model.to(device1)"
   ]
  },
  {
   "cell_type": "code",
   "execution_count": 24,
   "id": "06ae8588",
   "metadata": {},
   "outputs": [
    {
     "data": {
      "text/plain": [
       "device(type='cuda', index=0)"
      ]
     },
     "execution_count": 24,
     "metadata": {},
     "output_type": "execute_result"
    }
   ],
   "source": [
    "check_model_devices(model)"
   ]
  },
  {
   "cell_type": "code",
   "execution_count": 28,
   "id": "6a0f433f",
   "metadata": {},
   "outputs": [],
   "source": [
    "model.to(device)\n",
    "x = x.to(device)\n",
    "forward_pass = model(x)"
   ]
  },
  {
   "cell_type": "code",
   "execution_count": 30,
   "id": "bf1d9914",
   "metadata": {},
   "outputs": [
    {
     "data": {
      "text/plain": [
       "device(type='cuda', index=0)"
      ]
     },
     "execution_count": 30,
     "metadata": {},
     "output_type": "execute_result"
    }
   ],
   "source": [
    "forward_pass.device"
   ]
  },
  {
   "cell_type": "code",
   "execution_count": 32,
   "id": "d43dde0f",
   "metadata": {},
   "outputs": [
    {
     "data": {
      "text/plain": [
       "False"
      ]
     },
     "execution_count": 32,
     "metadata": {},
     "output_type": "execute_result"
    }
   ],
   "source": [
    "not torch.cuda.is_available()"
   ]
  }
 ],
 "metadata": {
  "kernelspec": {
   "display_name": "Python 3 (ipykernel)",
   "language": "python",
   "name": "python3"
  },
  "language_info": {
   "codemirror_mode": {
    "name": "ipython",
    "version": 3
   },
   "file_extension": ".py",
   "mimetype": "text/x-python",
   "name": "python",
   "nbconvert_exporter": "python",
   "pygments_lexer": "ipython3",
   "version": "3.10.9"
  }
 },
 "nbformat": 4,
 "nbformat_minor": 5
}
