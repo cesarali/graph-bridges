{
 "cells": [
  {
   "cell_type": "code",
   "execution_count": 1,
   "id": "ddf31d08",
   "metadata": {},
   "outputs": [],
   "source": [
    "import os\n",
    "import sys\n",
    "import torch \n",
    "import numpy as np\n",
    "import pandas as pd\n",
    "from pathlib import Path\n",
    "\n",
    "from pprint import pprint\n",
    "\n",
    "from graph_bridges.configs.graphs.config_sb import SBConfig\n",
    "from graph_bridges.data.graph_dataloaders_config import EgoConfig, GraphSpinsDataLoaderConfig, TargetConfig\n",
    "from graph_bridges.models.backward_rates.backward_rate_config import BackRateMLPConfig, GaussianTargetRateImageX0PredEMAConfig"
   ]
  },
  {
   "cell_type": "code",
   "execution_count": 3,
   "id": "7cb9d93b",
   "metadata": {},
   "outputs": [
    {
     "data": {
      "text/plain": [
       "[10]"
      ]
     },
     "execution_count": 3,
     "metadata": {},
     "output_type": "execute_result"
    }
   ],
   "source": [
    "np.arange(10, 11).tolist()"
   ]
  },
  {
   "cell_type": "code",
   "execution_count": 2,
   "id": "c8e8a781",
   "metadata": {},
   "outputs": [],
   "source": [
    "device = torch.device(\"cpu\")\n",
    "\n",
    "config = SBConfig()\n",
    "config.data = EgoConfig(as_image=False, batch_size=32, full_adjacency=False)\n",
    "config.model = GaussianTargetRateImageX0PredEMAConfig(time_embed_dim=32, fix_logistic=False)\n",
    "config.initialize_new_experiment()"
   ]
  },
  {
   "cell_type": "code",
   "execution_count": 5,
   "id": "3db3412a",
   "metadata": {},
   "outputs": [
    {
     "data": {
      "text/plain": [
       "dict_keys(['experiment_indentifier', 'experiment_name', 'experiment_type', 'results_dir', 'delete', 'results_path', 'current_git_commit', 'experiment_dir', 'experiment_type_dir', 'save_location', 'tensorboard_path', 'config_path', 'metrics_file', 'best_model_path_checkpoint', 'best_model_path', 'plot_path', 'graph_plot_path', 'data_stats'])"
      ]
     },
     "execution_count": 5,
     "metadata": {},
     "output_type": "execute_result"
    }
   ],
   "source": [
    "config.experiment_files.__dict__.keys()"
   ]
  },
  {
   "cell_type": "code",
   "execution_count": null,
   "id": "417c59ae",
   "metadata": {},
   "outputs": [],
   "source": [
    "config."
   ]
  }
 ],
 "metadata": {
  "kernelspec": {
   "display_name": "Python 3 (ipykernel)",
   "language": "python",
   "name": "python3"
  },
  "language_info": {
   "codemirror_mode": {
    "name": "ipython",
    "version": 3
   },
   "file_extension": ".py",
   "mimetype": "text/x-python",
   "name": "python",
   "nbconvert_exporter": "python",
   "pygments_lexer": "ipython3",
   "version": "3.10.9"
  }
 },
 "nbformat": 4,
 "nbformat_minor": 5
}
