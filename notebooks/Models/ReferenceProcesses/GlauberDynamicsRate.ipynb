{
 "cells": [
  {
   "cell_type": "code",
   "execution_count": 1,
   "id": "8156c69e",
   "metadata": {},
   "outputs": [],
   "source": [
    "import os\n",
    "import sys\n",
    "import torch\n",
    "import unittest\n",
    "from torchvision import transforms\n",
    "from graph_bridges.data.dataloaders_utils import load_dataloader\n",
    "from graph_bridges.models.reference_process.reference_process_utils import load_reference\n",
    "\n",
    "from graph_bridges.configs.spin_glass.spin_glass_config_sb import SBConfig\n",
    "from graph_bridges.data.spin_glass_dataloaders_config import ParametrizedSpinGlassHamiltonianConfig\n",
    "from graph_bridges.models.reference_process.reference_process_config import GlauberDynamicsConfig\n",
    "\n",
    "from graph_bridges.models.backward_rates.ctdd_backward_rate_config import BackRateMLPConfig\n",
    "from graph_bridges.models.reference_process.ctdd_reference import GaussianTargetRate\n",
    "from graph_bridges.models.reference_process.glauber_reference import GlauberDynamics\n",
    "from graph_bridges.models.schedulers.scheduling_sb import SBScheduler\n",
    "from graph_bridges.configs.spin_glass.spin_glass_config_sb import SBConfig\n",
    "\n",
    "from graph_bridges.data.transforms import SpinsToBinaryTensor\n",
    "spins_to_binary = SpinsToBinaryTensor()"
   ]
  },
  {
   "cell_type": "code",
   "execution_count": 2,
   "id": "dd16b131",
   "metadata": {},
   "outputs": [
    {
     "name": "stdout",
     "output_type": "stream",
     "text": [
      "Coupling from Spin File Different from Config\n",
      "Coupling from Spin File Different from Config\n"
     ]
    }
   ],
   "source": [
    "sb_config = SBConfig(experiment_indentifier=\"test_glauber\")\n",
    "sb_config.data = ParametrizedSpinGlassHamiltonianConfig(batch_size=2,\n",
    "                                                       number_of_spins=3,\n",
    "                                                       data=\"small_spins\")\n",
    "sb_config.reference = GlauberDynamicsConfig()\n",
    "sb_config.initialize_new_experiment()\n",
    "\n",
    "device = torch.device(\"cpu\")\n",
    "\n",
    "# obtain dataloaders\n",
    "data_dataloader = load_dataloader(sb_config, type=\"data\", device=device)\n",
    "target_dataloader = load_dataloader(sb_config, type=\"target\", device=device)\n",
    "\n",
    "# obtain data\n",
    "x_adj_data = next(data_dataloader.train().__iter__())[0].to(device)\n",
    "x_adj_target = next(target_dataloader.train().__iter__())[0].to(device)\n",
    "batch_size = x_adj_data.shape[0]\n",
    "times = torch.rand(batch_size,device=device)\n",
    "\n",
    "reference_process = GlauberDynamics(sb_config, device)\n",
    "scheduler = SBScheduler(sb_config, device)\n",
    "tau = reference_process.tau"
   ]
  },
  {
   "cell_type": "code",
   "execution_count": 62,
   "id": "98ec8225",
   "metadata": {},
   "outputs": [],
   "source": [
    "S = sb_config.data.S\n",
    "batch_size,number_of_spins = states_spins.shape\n",
    "transition_rates_ = torch.zeros(batch_size,number_of_spins,S)\n",
    "\n",
    "states_spins = x_adj_data\n",
    "\n",
    "all_flip_rates = reference_process.all_flip_rates(states_spins)\n",
    "\n",
    "batch_index = torch.arange(0,batch_size)\n",
    "spin_site_index = torch.arange(0,number_of_spins)\n",
    "\n",
    "states_index = spins_to_binary(x_adj_data).long() # where each site is \n",
    "states_flip_index = (~states_index.bool()).long() # where each site is going \n",
    "\n",
    "transition_rates_[repeated_batch_index,repeated_spin_site_index,flatten_states_index] = 1./tau - flatten_all_flip_rates\n",
    "transition_rates_[repeated_batch_index,repeated_spin_site_index,flatten_states_flip_index] = flatten_all_flip_rates"
   ]
  },
  {
   "cell_type": "code",
   "execution_count": 63,
   "id": "4f19acdc",
   "metadata": {},
   "outputs": [
    {
     "data": {
      "text/plain": [
       "tensor([[1, 1, 1],\n",
       "        [1, 0, 0]])"
      ]
     },
     "execution_count": 63,
     "metadata": {},
     "output_type": "execute_result"
    }
   ],
   "source": [
    "states_index"
   ]
  },
  {
   "cell_type": "code",
   "execution_count": 37,
   "id": "653ff5b3",
   "metadata": {},
   "outputs": [
    {
     "data": {
      "text/plain": [
       "tensor([0, 1])"
      ]
     },
     "execution_count": 37,
     "metadata": {},
     "output_type": "execute_result"
    }
   ],
   "source": [
    "batch_index"
   ]
  },
  {
   "cell_type": "code",
   "execution_count": 56,
   "id": "7bade287",
   "metadata": {},
   "outputs": [],
   "source": [
    "repeated_batch_index = torch.repeat_interleave(batch_index,number_of_spins)\n",
    "repeated_spin_site_index = spin_site_index.repeat(batch_size)\n",
    "flatten_states_index = states_index.flatten()\n",
    "flatten_states_flip_index = states_flip_index.flatten()\n",
    "flatten_all_flip_rates = all_flip_rates.flatten()"
   ]
  },
  {
   "cell_type": "code",
   "execution_count": 53,
   "id": "4b6bd1bf",
   "metadata": {},
   "outputs": [
    {
     "data": {
      "text/plain": [
       "tensor([[0.0000, 0.5909],\n",
       "        [0.5087, 0.0000],\n",
       "        [0.5064, 0.0000]], grad_fn=<SelectBackward0>)"
      ]
     },
     "execution_count": 53,
     "metadata": {},
     "output_type": "execute_result"
    }
   ],
   "source": [
    "transition_rates_[1,]"
   ]
  }
 ],
 "metadata": {
  "kernelspec": {
   "display_name": "Python 3 (ipykernel)",
   "language": "python",
   "name": "python3"
  },
  "language_info": {
   "codemirror_mode": {
    "name": "ipython",
    "version": 3
   },
   "file_extension": ".py",
   "mimetype": "text/x-python",
   "name": "python",
   "nbconvert_exporter": "python",
   "pygments_lexer": "ipython3",
   "version": "3.10.9"
  }
 },
 "nbformat": 4,
 "nbformat_minor": 5
}
