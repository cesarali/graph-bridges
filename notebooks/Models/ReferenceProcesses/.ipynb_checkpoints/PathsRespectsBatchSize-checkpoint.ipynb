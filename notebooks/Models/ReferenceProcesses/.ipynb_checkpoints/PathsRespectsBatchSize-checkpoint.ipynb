{
 "cells": [
  {
   "cell_type": "code",
   "execution_count": 1,
   "id": "52611037",
   "metadata": {},
   "outputs": [],
   "source": [
    "import os\n",
    "import torch\n",
    "\n",
    "from dataclasses import dataclass\n",
    "from torch.distributions import Normal\n",
    "from torch.utils.data import TensorDataset,DataLoader"
   ]
  },
  {
   "cell_type": "code",
   "execution_count": 83,
   "id": "f474707d",
   "metadata": {},
   "outputs": [],
   "source": [
    "number_of_steps = 3\n",
    "batch_size = 4\n",
    "number_of_spins = 10\n",
    "training_size = 100\n",
    "\n",
    "delta_t = 1./number_of_steps\n",
    "timesteps = torch.linspace(0.,1.,number_of_steps+1)"
   ]
  },
  {
   "cell_type": "code",
   "execution_count": 84,
   "id": "b3b3043a",
   "metadata": {},
   "outputs": [],
   "source": [
    "initial_distribution = Normal(torch.zeros(number_of_spins,),\n",
    "                              torch.ones(number_of_spins,))\n",
    "\n",
    "noise_distribution = Normal(torch.zeros(number_of_spins,),\n",
    "                            torch.ones(number_of_spins,))\n",
    "\n",
    "total_data = initial_distribution.sample((training_size,))\n",
    "dataloader = DataLoader(TensorDataset(total_data),batch_size=batch_size)\n",
    "initial_x = next(dataloader.__iter__())[0]"
   ]
  },
  {
   "cell_type": "code",
   "execution_count": 85,
   "id": "e476ea85",
   "metadata": {},
   "outputs": [],
   "source": [
    "def generate_path(initial_x,timesteps):\n",
    "    path = [initial_x.unsqueeze(1)]\n",
    "    for time in timesteps[1:]:\n",
    "        noise = noise_distribution.sample()\n",
    "        path.append((initial_x + noise).unsqueeze(1))\n",
    "    path = torch.concat(path,axis=1)\n",
    "    return path"
   ]
  },
  {
   "cell_type": "code",
   "execution_count": 86,
   "id": "9524bc8a",
   "metadata": {},
   "outputs": [],
   "source": [
    "def create_paths_generator(dataloader):\n",
    "    for databatch in dataloader:\n",
    "        initial_x = databatch[0]\n",
    "        batch_size = initial_x.shape[0]\n",
    "        paths = generate_path(initial_x,timesteps)\n",
    "        timesteps_ = timesteps.repeat(batch_size,1)\n",
    "\n",
    "        batch_size,number_of_time_steps,number_of_spins = paths.shape\n",
    "        paths = paths.reshape(batch_size*number_of_time_steps,number_of_spins)\n",
    "        timesteps_ = timesteps_.reshape(batch_size*number_of_time_steps)\n",
    "\n",
    "        perm = torch.randperm(paths.shape[0])\n",
    "        paths = paths[perm]\n",
    "        timesteps_ = timesteps_[perm]\n",
    "        chunks_ = torch.chunk(paths,number_of_time_steps)\n",
    "        time_chunks = torch.chunk(timesteps_,number_of_time_steps)\n",
    "        for chunk in zip(chunks_,time_chunks):\n",
    "            yield chunk"
   ]
  },
  {
   "cell_type": "code",
   "execution_count": 87,
   "id": "eed4a9df",
   "metadata": {},
   "outputs": [
    {
     "name": "stdout",
     "output_type": "stream",
     "text": [
      "400\n"
     ]
    }
   ],
   "source": [
    "number_of_runs = 0\n",
    "for dynamic_batch in create_paths_generator(dataloader):\n",
    "    number_of_runs += dynamic_batch[0].shape[0]\n",
    "print(number_of_runs)"
   ]
  },
  {
   "cell_type": "code",
   "execution_count": 88,
   "id": "65d0f0ac",
   "metadata": {},
   "outputs": [
    {
     "data": {
      "text/plain": [
       "2000"
      ]
     },
     "execution_count": 88,
     "metadata": {},
     "output_type": "execute_result"
    }
   ],
   "source": [
    "training_size*(number_of_time_steps)"
   ]
  },
  {
   "cell_type": "code",
   "execution_count": 89,
   "id": "fa7684dd",
   "metadata": {},
   "outputs": [
    {
     "data": {
      "text/plain": [
       "20"
      ]
     },
     "execution_count": 89,
     "metadata": {},
     "output_type": "execute_result"
    }
   ],
   "source": [
    "number_of_time_steps"
   ]
  },
  {
   "cell_type": "code",
   "execution_count": 81,
   "id": "34c98c7f",
   "metadata": {},
   "outputs": [
    {
     "data": {
      "text/plain": [
       "100"
      ]
     },
     "execution_count": 81,
     "metadata": {},
     "output_type": "execute_result"
    }
   ],
   "source": [
    "training_size"
   ]
  },
  {
   "cell_type": "code",
   "execution_count": null,
   "id": "4ce1cc12",
   "metadata": {},
   "outputs": [],
   "source": []
  },
  {
   "cell_type": "code",
   "execution_count": null,
   "id": "da1de3da",
   "metadata": {},
   "outputs": [],
   "source": []
  },
  {
   "cell_type": "code",
   "execution_count": null,
   "id": "7e970e83",
   "metadata": {},
   "outputs": [],
   "source": []
  },
  {
   "cell_type": "code",
   "execution_count": null,
   "id": "2399435e",
   "metadata": {},
   "outputs": [],
   "source": []
  }
 ],
 "metadata": {
  "kernelspec": {
   "display_name": "Python 3 (ipykernel)",
   "language": "python",
   "name": "python3"
  },
  "language_info": {
   "codemirror_mode": {
    "name": "ipython",
    "version": 3
   },
   "file_extension": ".py",
   "mimetype": "text/x-python",
   "name": "python",
   "nbconvert_exporter": "python",
   "pygments_lexer": "ipython3",
   "version": "3.10.9"
  }
 },
 "nbformat": 4,
 "nbformat_minor": 5
}
