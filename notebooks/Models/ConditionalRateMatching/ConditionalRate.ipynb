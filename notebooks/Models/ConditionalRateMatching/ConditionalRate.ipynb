{
 "cells": [
  {
   "cell_type": "code",
   "execution_count": 110,
   "id": "3f26690c",
   "metadata": {},
   "outputs": [],
   "source": [
    "import torch\n",
    "from torch import nn\n",
    "from torch import functional as F\n",
    "\n",
    "import numpy as np\n",
    "import pandas as pd\n",
    "\n",
    "from dataclasses import dataclass\n",
    "from torchvision import transforms\n",
    "from torch.distributions import Bernoulli\n",
    "import sympy"
   ]
  },
  {
   "cell_type": "code",
   "execution_count": 15,
   "id": "0f2a81cf",
   "metadata": {},
   "outputs": [],
   "source": [
    "@dataclass\n",
    "class Config:    \n",
    "    #data\n",
    "    number_of_spins:int = 3\n",
    "    number_of_states:int = 4\n",
    "    sample_size:int = 100\n",
    "        \n",
    "    bernoulli_probability_0 = 0.2\n",
    "    bernoulli_probability_0 = 0.8\n",
    "    \n",
    "    #process\n",
    "    gamma:float = .2 \n",
    "    \n",
    "    #training\n",
    "    number_of_epochs = 10\n",
    "    learning_rate = 0.01\n",
    "    batch_size:int = 10\n",
    "    \n",
    "config = Config()"
   ]
  },
  {
   "cell_type": "code",
   "execution_count": null,
   "id": "850f8dd7",
   "metadata": {},
   "outputs": [],
   "source": []
  },
  {
   "cell_type": "code",
   "execution_count": 123,
   "id": "e381b5f2",
   "metadata": {},
   "outputs": [],
   "source": [
    "batchdata = torch.randint(0,config.number_of_states,\n",
    "                          (config.batch_size,config.number_of_spins)).float()\n",
    "\n",
    "x0 = torch.randint(0,config.number_of_states,\n",
    "                   (config.batch_size,config.number_of_spins)).float()\n",
    "\n",
    "xt = torch.randint(0,config.number_of_states,\n",
    "                   (config.batch_size,config.number_of_spins)).float()\n",
    "\n",
    "x1 = torch.randint(0,config.number_of_states,\n",
    "                   (config.batch_size,config.number_of_spins)).float()\n",
    "\n",
    "x = torch.arange(0,config.number_of_states)\n",
    "x = x[None,None,:].repeat((config.batch_size,config.number_of_spins,1)).float()\n",
    "\n",
    "t = torch.rand(config.batch_size)"
   ]
  },
  {
   "cell_type": "code",
   "execution_count": 91,
   "id": "d8f6e6b9",
   "metadata": {},
   "outputs": [],
   "source": [
    "right_shape = lambda x: x if len(x.shape) == 3 else x[:,:,None]"
   ]
  },
  {
   "cell_type": "code",
   "execution_count": 92,
   "id": "85373104",
   "metadata": {},
   "outputs": [
    {
     "data": {
      "text/plain": [
       "tensor([1., 1., 1., 1., 1., 1., 1., 1., 1., 1.])"
      ]
     },
     "execution_count": 92,
     "metadata": {},
     "output_type": "execute_result"
    }
   ],
   "source": [
    " torch.full((config.batch_size,),1.)"
   ]
  },
  {
   "cell_type": "code",
   "execution_count": 98,
   "id": "9d7231d2",
   "metadata": {},
   "outputs": [
    {
     "data": {
      "text/plain": [
       "tensor([0.4493, 0.4493, 0.4493, 0.4493, 0.4493, 0.4493, 0.4493, 0.4493, 0.4493,\n",
       "        0.4493])"
      ]
     },
     "execution_count": 98,
     "metadata": {},
     "output_type": "execute_result"
    }
   ],
   "source": [
    "t1 = right_time_size(1.)\n",
    "t0 = right_time_size(0.)\n",
    "integral_t0 = beta_integral(config.gamma,t1,t0)\n",
    "w_t0  = torch.exp(-S*integral_t0)\n",
    "w_t0"
   ]
  },
  {
   "cell_type": "code",
   "execution_count": 128,
   "id": "15753e9e",
   "metadata": {},
   "outputs": [],
   "source": [
    "def conditional_probability(config,x,x0,t,t0):\n",
    "    \"\"\"\n",
    "    \n",
    "    \\begin{equation}\n",
    "    P(x(t) = i|x(t_0)) = \\frac{1}{s} + w_{t,t_0}\\left(-\\frac{1}{s} + \\delta_{i,x(t_0)}\\right)\n",
    "    \\end{equation}\n",
    "\n",
    "    \\begin{equation}\n",
    "    w_{t,t_0} = e^{-S \\int_{t_0}^{t} \\beta(r)dr}\n",
    "    \\end{equation}\n",
    "\n",
    "    \"\"\"\n",
    "    right_shape = lambda x: x if len(x.shape) == 3 else x[:,:,None]\n",
    "    right_time_size = lambda t: t if isinstance(t,torch.Tensor) else torch.full((config.batch_size,),t)\n",
    "    \n",
    "    t1 = right_time_size(1.)\n",
    "    t0 = right_time_size(0.)\n",
    "    \n",
    "    S = config.number_of_states\n",
    "\n",
    "    integral_t0 = beta_integral(config.gamma,t,t0)\n",
    "    w_t0  = torch.exp(-S*integral_t0)\n",
    "\n",
    "    x = right_shape(x)\n",
    "    x0 = right_shape(x0)\n",
    "\n",
    "    delta_x = (x == x0).float()\n",
    "    probability = 1./S + w_t0[:,None,None]*( (-1./S) + delta_x )\n",
    "    \n",
    "    return probability"
   ]
  },
  {
   "cell_type": "markdown",
   "id": "797a22c0",
   "metadata": {},
   "source": [
    "\\begin{equation}\n",
    "    P(x) = e^{-2\\gamma\\tau}(P_0 - \\frac{1}{2}) + \\frac{1}{2}\n",
    "\\end{equation}\n",
    "\n",
    "\\begin{equation}\n",
    "P(x(t) = i|x(t_0)) = \\frac{1}{s} + w_{t,t_0}\\left(-\\frac{1}{s} + \\delta_{i,x(t_0)}\\right)\n",
    "\\end{equation}\n",
    "\n",
    "\\begin{equation}\n",
    "w_{t,t_0} = e^{-S \\int_{t_0}^{t} \\beta(r)dr}\n",
    "\\end{equation}"
   ]
  },
  {
   "cell_type": "code",
   "execution_count": 6,
   "id": "a216613a",
   "metadata": {},
   "outputs": [],
   "source": [
    "def beta_integral(gamma,t1,t0):\n",
    "    \"\"\"\n",
    "    Dummy integral for constant rate\n",
    "    \"\"\"\n",
    "    interval = t1 - t0 \n",
    "    integral = gamma*interval\n",
    "    return integral"
   ]
  },
  {
   "cell_type": "code",
   "execution_count": 154,
   "id": "260f82d5",
   "metadata": {},
   "outputs": [],
   "source": [
    "def conditional_transition_probability(config,x,x1,x0,t):\n",
    "    \"\"\"\n",
    "    \\begin{equation}\n",
    "    P(x_t=x|x_0,x_1) = \\frac{p(x_1|x_t=x) p(x_t = x|x_0)}{p(x_1|x_0)}\n",
    "    \\end{equation}\n",
    "    \"\"\"\n",
    "    \n",
    "    P_x_to_x1 = conditional_probability(config,x1,x,t=1.,t0=t)\n",
    "    P_x0_to_x = conditional_probability(config,x,x0,t=t,t0=0.)\n",
    "\n",
    "    P_x0_to_x1 = conditional_probability(config,x1,x0,t=1.,t0=0.)\n",
    "\n",
    "    conditional_transition_probability = (P_x_to_x1*P_x0_to_x)/P_x0_to_x1\n",
    "    return conditional_transition_probability"
   ]
  },
  {
   "cell_type": "code",
   "execution_count": 121,
   "id": "ad0b120c",
   "metadata": {},
   "outputs": [],
   "source": [
    "#torch.softmax(conditional_transition_probability,dim=-1)"
   ]
  },
  {
   "cell_type": "markdown",
   "id": "2d324240",
   "metadata": {},
   "source": [
    "\\begin{equation}\n",
    "    P(x_t=x|x_0,x_1) = \\frac{p(x_1|x_t=x) p(x_t = x|x_0)}{p(x_1|x_0)}\n",
    "\\end{equation}"
   ]
  },
  {
   "cell_type": "markdown",
   "id": "9d0bc751",
   "metadata": {},
   "source": [
    "$\\newcommand{\\*}[1]{\\bar{\\mathbf{#1}}}$\n",
    "\n",
    "\\begin{equation}\n",
    "f_t(\\*x'|\\*x,\\*x_1) = \\frac{p(\\*x_1|x_t=\\*x')}{p(\\*x_1|x_t=\\*x)}f_t(\\*x'|\\*x)\n",
    "\\end{equation}\n"
   ]
  },
  {
   "cell_type": "code",
   "execution_count": 153,
   "id": "80c25203",
   "metadata": {},
   "outputs": [],
   "source": [
    "def constant_rate(config,x,t):\n",
    "    right_time_size = lambda t: t if isinstance(t,torch.Tensor) else torch.full((config.batch_size,),t)\n",
    "    t = right_time_size(t)\n",
    "\n",
    "    batch_size = x.size(0)\n",
    "    dimension = x.size(1)\n",
    "    \n",
    "    assert batch_size == t.size(0)\n",
    "    \n",
    "    rate_ = torch.full((batch_size,dimension,config.number_of_states),\n",
    "                       config.gamma)                \n",
    "    return rate_\n",
    "\n",
    "def conditional_transition_rate(config,x,x1,t):\n",
    "    \"\"\"\n",
    "    \\begin{equation}\n",
    "    f_t(\\*x'|\\*x,\\*x_1) = \\frac{p(\\*x_1|x_t=\\*x')}{p(\\*x_1|x_t=\\*x)}f_t(\\*x'|\\*x)\n",
    "    \\end{equation}\n",
    "    \"\"\"\n",
    "    where_to_x = torch.arange(0,config.number_of_states)\n",
    "    where_to_x = where_to_x[None,None,:].repeat((config.batch_size,config.number_of_spins,1)).float()\n",
    "    \n",
    "    P_xp_to_x1 = conditional_probability(config,x1,where_to_x,t=1.,t0=t)\n",
    "    P_x_to_x1 =  conditional_probability(config,x1,x,t=1.,t0=t)\n",
    "    \n",
    "    forward_rate = constant_rate(config,x,t)\n",
    "    \n",
    "    rate_transition = (P_xp_to_x1/P_x_to_x1)*forward_rate\n",
    "    \n",
    "    return rate_transition"
   ]
  },
  {
   "cell_type": "code",
   "execution_count": 151,
   "id": "e550a3b2",
   "metadata": {},
   "outputs": [],
   "source": [
    "rate = conditional_transition_rate(config,x,x1,t)"
   ]
  }
 ],
 "metadata": {
  "kernelspec": {
   "display_name": "Python 3 (ipykernel)",
   "language": "python",
   "name": "python3"
  },
  "language_info": {
   "codemirror_mode": {
    "name": "ipython",
    "version": 3
   },
   "file_extension": ".py",
   "mimetype": "text/x-python",
   "name": "python",
   "nbconvert_exporter": "python",
   "pygments_lexer": "ipython3",
   "version": "3.10.9"
  }
 },
 "nbformat": 4,
 "nbformat_minor": 5
}
