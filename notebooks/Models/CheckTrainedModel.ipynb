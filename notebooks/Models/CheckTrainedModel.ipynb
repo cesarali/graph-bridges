{
 "cells": [
  {
   "cell_type": "code",
   "execution_count": 1,
   "id": "4d1e557e",
   "metadata": {},
   "outputs": [],
   "source": [
    "import torch\n",
    "import numpy as np\n",
    "import pandas as pd\n",
    "from matplotlib import pyplot as plt "
   ]
  },
  {
   "cell_type": "code",
   "execution_count": 2,
   "id": "b9a8082f",
   "metadata": {},
   "outputs": [],
   "source": [
    "from graph_bridges.models.reference_process.ctdd_reference import ReferenceProcess\n",
    "from graph_bridges.models.schedulers.scheduling_utils import register_scheduler\n",
    "from graph_bridges.configs.graphs.lobster.config_base import BridgeConfig\n",
    "from graph_bridges.models.backward_rates.backward_rate import GaussianTargetRateImageX0PredEMA\n",
    "from graph_bridges.data.dataloaders import DoucetTargetData, GraphSpinsDataLoader\n",
    "from graph_bridges.models.samplers.sampling import ReferenceProcess\n",
    "from graph_bridges.models.reference_process.ctdd_reference import ReferenceProcess\n",
    "from graph_bridges.models.losses.ctdd_losses import GenericAux\n",
    "from graph_bridges.data.dataloaders_config import GraphSpinsDataLoaderConfig\n",
    "from graph_bridges.models.schedulers.scheduling_ctdd import CTDDScheduler"
   ]
  },
  {
   "cell_type": "code",
   "execution_count": 3,
   "id": "c0e24502",
   "metadata": {},
   "outputs": [],
   "source": [
    "from graph_bridges.models.schedulers.scheduling_utils import create_scheduler\n",
    "from graph_bridges.models.backward_rates.backward_rate_utils import create_model\n",
    "from graph_bridges.models.reference_process.reference_process_utils import create_reference\n",
    "from graph_bridges.data.dataloaders_utils import create_dataloader\n",
    "from graph_bridges.models.losses.loss_utils import create_loss\n",
    "\n",
    "from graph_bridges.configs.graphs.lobster.config_base import BridgeConfig"
   ]
  },
  {
   "cell_type": "code",
   "execution_count": 4,
   "id": "59b73977",
   "metadata": {},
   "outputs": [
    {
     "name": "stdout",
     "output_type": "stream",
     "text": [
      "Real Distribution Not Implemented for graph_spins_lobster\n",
      "Scheduler\n"
     ]
    }
   ],
   "source": [
    "config = BridgeConfig(delete=False)\n",
    "config.data = GraphSpinsDataLoaderConfig()\n",
    "#config.model = mlp_config.model\n",
    "device = torch.device(config.device)\n",
    "\n",
    "# =================================================================\n",
    "# CREATE OBJECTS FROM CONFIGURATION\n",
    "\n",
    "data_dataloader: GraphSpinsDataLoader\n",
    "model: GaussianTargetRateImageX0PredEMA\n",
    "reference_process: ReferenceProcess\n",
    "loss: GenericAux\n",
    "scheduler: CTDDScheduler\n",
    "\n",
    "data_dataloader = create_dataloader(config, device)\n",
    "model = create_model(config, device)\n",
    "reference_process = create_reference(config, device)\n",
    "loss = create_loss(config, device)\n",
    "scheduler = create_scheduler(config, device)\n"
   ]
  },
  {
   "cell_type": "code",
   "execution_count": 5,
   "id": "ffed579b",
   "metadata": {},
   "outputs": [],
   "source": [
    "config.initialize()"
   ]
  },
  {
   "cell_type": "code",
   "execution_count": 6,
   "id": "98aaffd7",
   "metadata": {},
   "outputs": [
    {
     "data": {
      "text/plain": [
       "'C:\\\\Users\\\\cesar\\\\Desktop\\\\Projects\\\\DiffusiveGenerativeModelling\\\\Codes\\\\graph-bridges\\\\results\\\\graph\\\\lobster\\\\testing'"
      ]
     },
     "execution_count": 6,
     "metadata": {},
     "output_type": "execute_result"
    }
   ],
   "source": [
    "config.results_dir"
   ]
  },
  {
   "cell_type": "code",
   "execution_count": 7,
   "id": "8ba6757d",
   "metadata": {},
   "outputs": [
    {
     "data": {
      "text/plain": [
       "'C:\\\\Users\\\\cesar\\\\Desktop\\\\Projects\\\\DiffusiveGenerativeModelling\\\\Codes\\\\graph-bridges\\\\results\\\\graph\\\\lobster\\\\testing\\\\sinkhorn_{0}_checkpoint_{1}.tr'"
      ]
     },
     "execution_count": 7,
     "metadata": {},
     "output_type": "execute_result"
    }
   ],
   "source": [
    "config.best_model_path"
   ]
  },
  {
   "cell_type": "code",
   "execution_count": 9,
   "id": "fa4912f2",
   "metadata": {},
   "outputs": [
    {
     "data": {
      "text/plain": [
       "100"
      ]
     },
     "execution_count": 9,
     "metadata": {},
     "output_type": "execute_result"
    }
   ],
   "source": [
    "config.optimizer.save_model_global_iter"
   ]
  },
  {
   "cell_type": "code",
   "execution_count": 22,
   "id": "b699efc9",
   "metadata": {},
   "outputs": [],
   "source": [
    "from dataclasses import dataclass, asdict\n",
    "\n",
    "@dataclass\n",
    "class MyClass:\n",
    "    name: str = \"Alice\"\n",
    "    gender: str = \"female\"\n",
    "    age: int = 2\n",
    "\n",
    "obj = MyClass()"
   ]
  },
  {
   "cell_type": "code",
   "execution_count": 23,
   "id": "1b58ef2f",
   "metadata": {},
   "outputs": [
    {
     "data": {
      "text/plain": [
       "{'name': 'Alice', 'gender': 'female', 'age': 2}"
      ]
     },
     "execution_count": 23,
     "metadata": {},
     "output_type": "execute_result"
    }
   ],
   "source": [
    "asdict(obj)"
   ]
  },
  {
   "cell_type": "code",
   "execution_count": 24,
   "id": "0d5ad80c",
   "metadata": {},
   "outputs": [
    {
     "data": {
      "text/plain": [
       "{}"
      ]
     },
     "execution_count": 24,
     "metadata": {},
     "output_type": "execute_result"
    }
   ],
   "source": [
    "asdict(config)"
   ]
  }
 ],
 "metadata": {
  "kernelspec": {
   "display_name": "Python 3 (ipykernel)",
   "language": "python",
   "name": "python3"
  },
  "language_info": {
   "codemirror_mode": {
    "name": "ipython",
    "version": 3
   },
   "file_extension": ".py",
   "mimetype": "text/x-python",
   "name": "python",
   "nbconvert_exporter": "python",
   "pygments_lexer": "ipython3",
   "version": "3.10.9"
  }
 },
 "nbformat": 4,
 "nbformat_minor": 5
}
