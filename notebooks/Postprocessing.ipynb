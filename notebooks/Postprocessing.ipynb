{
 "cells": [
  {
   "cell_type": "code",
   "execution_count": 1,
   "id": "f778060a",
   "metadata": {},
   "outputs": [],
   "source": [
    "import os \n",
    "import sys\n",
    "import torch\n",
    "import numpy as np\n",
    "import pandas as pd\n",
    "\n",
    "\n",
    "%matplotlib inline"
   ]
  },
  {
   "cell_type": "code",
   "execution_count": 2,
   "id": "296ebc45",
   "metadata": {},
   "outputs": [],
   "source": [
    "import torch\n",
    "from graph_bridges.models.generative_models.sb import SB\n",
    "from graph_bridges.configs.graphs.lobster.config_base import get_config_from_file\n",
    "from graph_bridges.models.backward_rates.backward_rate import GaussianTargetRateImageX0PredEMA"
   ]
  },
  {
   "cell_type": "code",
   "execution_count": 3,
   "id": "5b1aeb29",
   "metadata": {},
   "outputs": [
    {
     "name": "stdout",
     "output_type": "stream",
     "text": [
      "Real Distribution Not Implemented for graph_spins_lobster\n"
     ]
    }
   ],
   "source": [
    "#read the model\n",
    "config = get_config_from_file(\"graph\", \"lobster\", \"1687884918\")\n",
    "device = torch.device(config.device)\n",
    "sb = SB()\n",
    "sb.create_from_config(config, device)"
   ]
  },
  {
   "cell_type": "code",
   "execution_count": 4,
   "id": "f4277944",
   "metadata": {},
   "outputs": [
    {
     "name": "stdout",
     "output_type": "stream",
     "text": [
      "tensor([1.0000, 0.8900, 0.7800, 0.6700, 0.5600, 0.4500, 0.3400, 0.2300, 0.1200,\n",
      "        0.0100, 0.0000], dtype=torch.float64)\n"
     ]
    }
   ],
   "source": [
    "#test dataloaders\n",
    "databatch = next(sb.data_dataloader.train().__iter__())\n",
    "x_spins_data = databatch[0]\n",
    "number_of_paths = x_spins_data.shape[0]\n",
    "x_spins_noise = sb.target_dataloader.sample(number_of_paths,device)\n",
    "\n",
    "#test scheduler\n",
    "time_steps = sb.scheduler.set_timesteps(10,0.01,sinkhorn_iteration=1)\n",
    "print(time_steps)\n",
    "\n",
    "# test model\n",
    "times = time_steps[6] * torch.ones(number_of_paths)\n",
    "generating_model : GaussianTargetRateImageX0PredEMA\n",
    "generating_model = sb.past_model\n",
    "forward_ = generating_model(x_spins_data.squeeze(),times)\n",
    "forward_stein = generating_model.stein_binary_forward(x_spins_data.squeeze(),times)\n",
    "\n",
    "# test losses\n",
    "from graph_bridges.models.losses.estimators import BackwardRatioSteinEstimator\n",
    "backward_ration_stein_estimator = BackwardRatioSteinEstimator(config,device)\n",
    "\n",
    "#print(forward_.shape)\n",
    "#print(forward_stein.shape)\n",
    "# stuff\n",
    "\n",
    "sb.pipeline.bridge_config.sampler.num_steps = 20\n",
    "# test reference process\n",
    "x_spins_w_noise = sb.reference_process.spins_on_times(x_spins_data.squeeze(), times)\n",
    "\n",
    "#test pipeline\n",
    "#for spins_path,times in sb.pipeline.paths_iterator(sb.training_model,sinkhorn_iteration=1):\n",
    "#    print(spins_path[0].shape)\n",
    "#    print(times)"
   ]
  },
  {
   "cell_type": "code",
   "execution_count": 5,
   "id": "6acd001c",
   "metadata": {},
   "outputs": [
    {
     "data": {
      "text/plain": [
       "tensor([[-5.4209, -6.4083, -0.2763,  ..., -0.2085, -0.1238, -0.3077],\n",
       "        [-4.8741, -4.2191, -6.2146,  ..., -6.4170, -5.5974, -0.1235],\n",
       "        [-4.7131, -3.8757, -5.3370,  ..., -0.2219, -0.2299, -0.2548],\n",
       "        ...,\n",
       "        [-5.0396, -0.1577, -0.2082,  ..., -0.1615, -0.2136, -0.1706],\n",
       "        [-5.4492, -0.1496, -0.1706,  ..., -0.2435, -0.2071, -0.2351],\n",
       "        [-5.9878, -0.1614, -0.0894,  ..., -0.1646, -0.1688, -0.3109]],\n",
       "       grad_fn=<SelectBackward0>)"
      ]
     },
     "execution_count": 5,
     "metadata": {},
     "output_type": "execute_result"
    }
   ],
   "source": [
    "forward_stein"
   ]
  },
  {
   "cell_type": "code",
   "execution_count": 6,
   "id": "37371836",
   "metadata": {},
   "outputs": [
    {
     "name": "stderr",
     "output_type": "stream",
     "text": [
      "20it [00:00, 1979.38it/s]\n",
      "20it [00:00, 125.88it/s]\n"
     ]
    }
   ],
   "source": [
    "sinkhorn_iteration = 0\n",
    "if sinkhorn_iteration == 0:\n",
    "    past_model = None\n",
    "else:\n",
    "    past_model = sb.past_model\n",
    "training_model = sb.training_model\n",
    "\n",
    "times_batch_0 = []\n",
    "paths_batch_0 = []\n",
    "for spins_path,times in sb.pipeline.paths_iterator(past_model,sinkhorn_iteration=sinkhorn_iteration):\n",
    "    paths_batch_0.append(spins_path)\n",
    "    times_batch_0.append(times)\n",
    "    break\n",
    "    \n",
    "times_batch_1 = []\n",
    "paths_batch_1 = []\n",
    "for spins_path,times in sb.pipeline.paths_iterator(training_model,sinkhorn_iteration=sinkhorn_iteration+1):\n",
    "    paths_batch_1.append(spins_path)\n",
    "    times_batch_1.append(times)\n",
    "    break"
   ]
  },
  {
   "cell_type": "code",
   "execution_count": 15,
   "id": "2216fd9c",
   "metadata": {},
   "outputs": [],
   "source": [
    "spins_path = paths_batch_0[0]\n",
    "number_of_paths = spins_path.shape[0]\n",
    "number_of_timesteps = spins_path.shape[1]\n",
    "number_of_spins = spins_path.shape[2]\n",
    "\n",
    "times_ = times.reshape(number_of_paths*number_of_timesteps)\n",
    "spins_paths_ = spins_path.reshape(number_of_paths*number_of_timesteps,-1)"
   ]
  },
  {
   "cell_type": "code",
   "execution_count": 21,
   "id": "46ffd190",
   "metadata": {},
   "outputs": [],
   "source": []
  },
  {
   "cell_type": "code",
   "execution_count": 7,
   "id": "76405320",
   "metadata": {},
   "outputs": [
    {
     "data": {
      "text/plain": [
       "'\\nsinkhorn_plot(sinkhorn_iteration=0,\\n              states_histogram_at_0=0,\\n              states_histogram_at_1=0,\\n              backward_histogram=0,\\n              forward_histogram=0,\\n              time_=None,\\n              states_legends=0)\\n--'"
      ]
     },
     "execution_count": 7,
     "metadata": {},
     "output_type": "execute_result"
    }
   ],
   "source": [
    "# test plots\n",
    "from graph_bridges.utils.plots.sb_plots import sinkhorn_plot\n",
    "\n",
    "\"\"\"\n",
    "sinkhorn_plot(sinkhorn_iteration=0,\n",
    "              states_histogram_at_0=0,\n",
    "              states_histogram_at_1=0,\n",
    "              backward_histogram=0,\n",
    "              forward_histogram=0,\n",
    "              time_=None,\n",
    "              states_legends=0)\n",
    "--\"\"\"\n",
    "\n",
    "#test trainer"
   ]
  },
  {
   "cell_type": "code",
   "execution_count": null,
   "id": "c4a5f040",
   "metadata": {},
   "outputs": [],
   "source": []
  }
 ],
 "metadata": {
  "kernelspec": {
   "display_name": "Python 3 (ipykernel)",
   "language": "python",
   "name": "python3"
  },
  "language_info": {
   "codemirror_mode": {
    "name": "ipython",
    "version": 3
   },
   "file_extension": ".py",
   "mimetype": "text/x-python",
   "name": "python",
   "nbconvert_exporter": "python",
   "pygments_lexer": "ipython3",
   "version": "3.10.9"
  }
 },
 "nbformat": 4,
 "nbformat_minor": 5
}
