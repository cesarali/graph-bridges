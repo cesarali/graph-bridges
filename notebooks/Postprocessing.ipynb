{
 "cells": [
  {
   "cell_type": "code",
   "execution_count": 1,
   "id": "0ee12996",
   "metadata": {},
   "outputs": [],
   "source": [
    "import os \n",
    "import sys\n",
    "import torch\n",
    "import numpy as np\n",
    "import pandas as pd\n",
    "\n",
    "\n",
    "%matplotlib inline"
   ]
  },
  {
   "cell_type": "code",
   "execution_count": 2,
   "id": "5e38cf16",
   "metadata": {},
   "outputs": [],
   "source": [
    "import torch\n",
    "from graph_bridges.models.generative_models.sb import SB\n",
    "from graph_bridges.configs.graphs.lobster.config_base import get_config_from_file\n",
    "from graph_bridges.models.backward_rates.backward_rate import GaussianTargetRateImageX0PredEMA"
   ]
  },
  {
   "cell_type": "code",
   "execution_count": 3,
   "id": "428f2bf5",
   "metadata": {},
   "outputs": [
    {
     "name": "stdout",
     "output_type": "stream",
     "text": [
      "Real Distribution Not Implemented for graph_spins_lobster\n"
     ]
    }
   ],
   "source": [
    "#read the model\n",
    "config = get_config_from_file(\"graph\", \"lobster\", \"1687884918\")\n",
    "device = torch.device(config.device)\n",
    "sb = SB()\n",
    "sb.create_from_config(config, device)"
   ]
  },
  {
   "cell_type": "code",
   "execution_count": 30,
   "id": "038bc08d",
   "metadata": {},
   "outputs": [
    {
     "data": {
      "text/plain": [
       "'C:\\\\Users\\\\cesar\\\\Desktop\\\\Projects\\\\DiffusiveGenerativeModelling\\\\Codes\\\\graph-bridges\\\\data\\\\raw\\\\graph\\\\lobster\\\\graph_spins_lobster.cp'"
      ]
     },
     "execution_count": 30,
     "metadata": {},
     "output_type": "execute_result"
    }
   ],
   "source": [
    "config.data.pre"
   ]
  },
  {
   "cell_type": "code",
   "execution_count": 4,
   "id": "94b1d804",
   "metadata": {},
   "outputs": [
    {
     "name": "stdout",
     "output_type": "stream",
     "text": [
      "tensor([1.0000, 0.8900, 0.7800, 0.6700, 0.5600, 0.4500, 0.3400, 0.2300, 0.1200,\n",
      "        0.0100, 0.0000], dtype=torch.float64)\n"
     ]
    }
   ],
   "source": [
    "#test dataloaders\n",
    "databatch = next(sb.data_dataloader.train().__iter__())\n",
    "x_spins_data = databatch[0]\n",
    "number_of_paths = x_spins_data.shape[0]\n",
    "x_spins_noise = sb.target_dataloader.sample(number_of_paths,device)\n",
    "\n",
    "#test scheduler\n",
    "time_steps = sb.scheduler.set_timesteps(10,0.01,sinkhorn_iteration=1)\n",
    "print(time_steps)\n",
    "\n",
    "# test model\n",
    "times = time_steps[6] * torch.ones(number_of_paths)\n",
    "generating_model : GaussianTargetRateImageX0PredEMA\n",
    "generating_model = sb.past_model\n",
    "forward_ = generating_model(x_spins_data.squeeze(),times)\n",
    "forward_stein = generating_model.stein_binary_forward(x_spins_data.squeeze(),times)\n",
    "\n",
    "# test losses\n",
    "from graph_bridges.models.losses.estimators import BackwardRatioSteinEstimator\n",
    "backward_ration_stein_estimator = BackwardRatioSteinEstimator(config,device)\n",
    "\n",
    "#print(forward_.shape)\n",
    "#print(forward_stein.shape)\n",
    "# stuff\n",
    "\n",
    "sb.pipeline.bridge_config.sampler.num_steps = 20\n",
    "# test reference process\n",
    "x_spins_w_noise = sb.reference_process.spins_on_times(x_spins_data.squeeze(), times)\n",
    "\n",
    "#test pipeline\n",
    "#for spins_path,times in sb.pipeline.paths_iterator(sb.training_model,sinkhorn_iteration=1):\n",
    "#    print(spins_path[0].shape)\n",
    "#    print(times)"
   ]
  },
  {
   "cell_type": "code",
   "execution_count": 5,
   "id": "58d9244e",
   "metadata": {},
   "outputs": [
    {
     "data": {
      "text/plain": [
       "tensor([[-5.4209, -6.4083, -0.2763,  ..., -0.2085, -0.1238, -0.3077],\n",
       "        [-4.8741, -4.2191, -6.2146,  ..., -6.4170, -5.5974, -0.1235],\n",
       "        [-4.7131, -3.8757, -5.3370,  ..., -0.2219, -0.2299, -0.2548],\n",
       "        ...,\n",
       "        [-5.0396, -0.1577, -0.2082,  ..., -0.1615, -0.2136, -0.1706],\n",
       "        [-5.4492, -0.1496, -0.1706,  ..., -0.2435, -0.2071, -0.2351],\n",
       "        [-5.9878, -0.1614, -0.0894,  ..., -0.1646, -0.1688, -0.3109]],\n",
       "       grad_fn=<SelectBackward0>)"
      ]
     },
     "execution_count": 5,
     "metadata": {},
     "output_type": "execute_result"
    }
   ],
   "source": [
    "forward_stein"
   ]
  },
  {
   "cell_type": "code",
   "execution_count": 6,
   "id": "a4ae302f",
   "metadata": {},
   "outputs": [
    {
     "name": "stderr",
     "output_type": "stream",
     "text": [
      "20it [00:00, 1979.38it/s]\n",
      "20it [00:00, 125.88it/s]\n"
     ]
    }
   ],
   "source": [
    "sinkhorn_iteration = 0\n",
    "if sinkhorn_iteration == 0:\n",
    "    past_model = None\n",
    "else:\n",
    "    past_model = sb.past_model\n",
    "training_model = sb.training_model\n",
    "\n",
    "times_batch_0 = []\n",
    "paths_batch_0 = []\n",
    "for spins_path,times in sb.pipeline.paths_iterator(past_model,sinkhorn_iteration=sinkhorn_iteration):\n",
    "    paths_batch_0.append(spins_path)\n",
    "    times_batch_0.append(times)\n",
    "    break\n",
    "    \n",
    "times_batch_1 = []\n",
    "paths_batch_1 = []\n",
    "for spins_path,times in sb.pipeline.paths_iterator(training_model,sinkhorn_iteration=sinkhorn_iteration+1):\n",
    "    paths_batch_1.append(spins_path)\n",
    "    times_batch_1.append(times)\n",
    "    break"
   ]
  },
  {
   "cell_type": "code",
   "execution_count": 15,
   "id": "58455efd",
   "metadata": {},
   "outputs": [],
   "source": [
    "spins_path = paths_batch_0[0]\n",
    "number_of_paths = spins_path.shape[0]\n",
    "number_of_timesteps = spins_path.shape[1]\n",
    "number_of_spins = spins_path.shape[2]\n",
    "\n",
    "times_ = times.reshape(number_of_paths*number_of_timesteps)\n",
    "spins_paths_ = spins_path.reshape(number_of_paths*number_of_timesteps,-1)"
   ]
  },
  {
   "cell_type": "code",
   "execution_count": 22,
   "id": "7dac6cb9",
   "metadata": {},
   "outputs": [
    {
     "data": {
      "text/plain": [
       "BridgeConfig(config_path='C:\\\\Users\\\\cesar\\\\Desktop\\\\Projects\\\\DiffusiveGenerativeModelling\\\\Codes\\\\graph-bridges\\\\results\\\\graph\\\\lobster\\\\1687884918\\\\config.json', model=ModelConfig(name='GaussianTargetRateImageX0PredEMA', ema_decay=0.9999, do_ema=True, ch=28, num_res_blocks=2, num_scales=4, ch_mult=[1, 1, 1, 1], input_channels=1, scale_count_to_put_attn=1, data_min_max=[0, 1], dropout=0.1, skip_rescale=True, time_embed_dim=28, time_scale_factor=1000, fix_logistic=False, initial_dist='gaussian', rate_sigma=6.0, Q_sigma=512.0, time_exponential=3.0, time_base=1.0), data=GraphSpinsDataLoaderConfig(name='GraphSpinsDataLoader', graph_type='lobster', remove=False, training_proportion=0.8, doucet=True, data_path='C:\\\\Users\\\\cesar\\\\Desktop\\\\Projects\\\\DiffusiveGenerativeModelling\\\\Codes\\\\graph-bridges\\\\data\\\\raw\\\\graph\\\\lobster', S=2, shape=[1, 1, 45], possible_params_dict={'n': [5, 6, 7, 8, 9, 10, 11, 12, 13, 14, 15], 'p1': [0.7], 'p2': [0.5]}, random_flips=True, data_min_max=[0, 1], type='doucet', full_adjacency=False, number_of_paths=500, length=500, max_node=10, min_node=10, number_of_nodes=10, number_of_spins=45, batch_size=28), target=DataConfig(name='DoucetTargetData', root='datasets_folder', train=True, download=True, batch_size=28, training_proportion=0.8, shuffle=True, S=2, shape=[1, 1, 45], C=1, H=1, W=45, D=45, data_min_max=[0, 1], type='doucet', full_adjacency=False, preprocess_datapath='lobster_graphs_upper', raw_datapath='lobster_graphs_upper', max_node=10, min_node=10), reference=ReferenceProcessConfig(name='GaussianTargetRate', initial_dist='gaussian', rate_sigma=6.0, Q_sigma=512.0, time_exponential=3.0, time_base=1.0), sampler=ParametrizedSamplerConfig(name='TauLeaping', type='doucet', num_steps=20, min_t=0.01, eps_ratio=1e-09, initial_dist='gaussian', num_corrector_steps=10, corrector_step_size_multiplier=1.5, corrector_entry_time=0.1), loss=CTDDLossConfig(name='GenericAux', eps_ratio=1e-09, nll_weight=0.001, min_time=0.01, one_forward_pass=True), scheduler=CTDDSchedulerConfig(name='CTDDScheduler'), pipeline=CTDDPipelineConfig(name='CTDDPipeline'), optimizer=TrainerConfig(number_of_paths=10, number_of_sinkhorn=1, optimizer_name='AdamW', max_n_iters=10000, clip_grad=True, warmup=50, num_epochs=200, learning_rate=0.0002, gradient_accumulation_steps=1, lr_warmup_steps=500, save_image_epochs=10, save_model_epochs=30, save_model_global_iter=1000), number_of_paths=10, number_of_sinkhorn=1, delete=False, experiment_name='graph', experiment_type='lobster', experiment_indentifier='1687884918')"
      ]
     },
     "execution_count": 22,
     "metadata": {},
     "output_type": "execute_result"
    }
   ],
   "source": [
    "config."
   ]
  },
  {
   "cell_type": "code",
   "execution_count": 29,
   "id": "93f2ec7a",
   "metadata": {},
   "outputs": [
    {
     "data": {
      "text/plain": [
       "{'config_path': 'C:\\\\Users\\\\cesar\\\\Desktop\\\\Projects\\\\DiffusiveGenerativeModelling\\\\Codes\\\\graph-bridges\\\\results\\\\graph\\\\lobster\\\\1687884918\\\\config.json',\n",
       " 'model': {'name': 'GaussianTargetRateImageX0PredEMA',\n",
       "  'ema_decay': 0.9999,\n",
       "  'do_ema': True,\n",
       "  'ch': 28,\n",
       "  'num_res_blocks': 2,\n",
       "  'num_scales': 4,\n",
       "  'ch_mult': [1, 1, 1, 1],\n",
       "  'input_channels': 1,\n",
       "  'scale_count_to_put_attn': 1,\n",
       "  'data_min_max': [0, 1],\n",
       "  'dropout': 0.1,\n",
       "  'skip_rescale': True,\n",
       "  'time_embed_dim': 28,\n",
       "  'time_scale_factor': 1000,\n",
       "  'fix_logistic': False,\n",
       "  'initial_dist': 'gaussian',\n",
       "  'rate_sigma': 6.0,\n",
       "  'Q_sigma': 512.0,\n",
       "  'time_exponential': 3.0,\n",
       "  'time_base': 1.0},\n",
       " 'data': {'name': 'GraphSpinsDataLoader',\n",
       "  'graph_type': 'lobster',\n",
       "  'remove': False,\n",
       "  'training_proportion': 0.8,\n",
       "  'doucet': True,\n",
       "  'data_path': 'C:\\\\Users\\\\cesar\\\\Desktop\\\\Projects\\\\DiffusiveGenerativeModelling\\\\Codes\\\\graph-bridges\\\\data\\\\raw\\\\graph\\\\lobster',\n",
       "  'S': 2,\n",
       "  'shape': [1, 1, 45],\n",
       "  'possible_params_dict': {'n': [5, 6, 7, 8, 9, 10, 11, 12, 13, 14, 15],\n",
       "   'p1': [0.7],\n",
       "   'p2': [0.5]},\n",
       "  'random_flips': True,\n",
       "  'data_min_max': [0, 1],\n",
       "  'type': 'doucet',\n",
       "  'full_adjacency': False,\n",
       "  'number_of_paths': 500,\n",
       "  'length': 500,\n",
       "  'max_node': 10,\n",
       "  'min_node': 10,\n",
       "  'number_of_nodes': 10,\n",
       "  'number_of_spins': 45,\n",
       "  'batch_size': 28},\n",
       " 'target': {'name': 'DoucetTargetData',\n",
       "  'root': 'datasets_folder',\n",
       "  'train': True,\n",
       "  'download': True,\n",
       "  'batch_size': 28,\n",
       "  'training_proportion': 0.8,\n",
       "  'shuffle': True,\n",
       "  'S': 2,\n",
       "  'shape': [1, 1, 45],\n",
       "  'C': 1,\n",
       "  'H': 1,\n",
       "  'W': 45,\n",
       "  'D': 45,\n",
       "  'data_min_max': [0, 1],\n",
       "  'type': 'doucet',\n",
       "  'full_adjacency': False,\n",
       "  'preprocess_datapath': 'lobster_graphs_upper',\n",
       "  'raw_datapath': 'lobster_graphs_upper',\n",
       "  'max_node': 10,\n",
       "  'min_node': 10},\n",
       " 'reference': {'name': 'GaussianTargetRate',\n",
       "  'initial_dist': 'gaussian',\n",
       "  'rate_sigma': 6.0,\n",
       "  'Q_sigma': 512.0,\n",
       "  'time_exponential': 3.0,\n",
       "  'time_base': 1.0},\n",
       " 'sampler': {'name': 'TauLeaping',\n",
       "  'type': 'doucet',\n",
       "  'num_steps': 20,\n",
       "  'min_t': 0.01,\n",
       "  'eps_ratio': 1e-09,\n",
       "  'initial_dist': 'gaussian',\n",
       "  'num_corrector_steps': 10,\n",
       "  'corrector_step_size_multiplier': 1.5,\n",
       "  'corrector_entry_time': 0.1},\n",
       " 'loss': {'name': 'GenericAux',\n",
       "  'eps_ratio': 1e-09,\n",
       "  'nll_weight': 0.001,\n",
       "  'min_time': 0.01,\n",
       "  'one_forward_pass': True},\n",
       " 'scheduler': {'name': 'CTDDScheduler'},\n",
       " 'pipeline': {'name': 'CTDDPipeline'},\n",
       " 'optimizer': {'number_of_paths': 10,\n",
       "  'number_of_sinkhorn': 1,\n",
       "  'optimizer_name': 'AdamW',\n",
       "  'max_n_iters': 10000,\n",
       "  'clip_grad': True,\n",
       "  'warmup': 50,\n",
       "  'num_epochs': 200,\n",
       "  'learning_rate': 0.0002,\n",
       "  'gradient_accumulation_steps': 1,\n",
       "  'lr_warmup_steps': 500,\n",
       "  'save_image_epochs': 10,\n",
       "  'save_model_epochs': 30,\n",
       "  'save_model_global_iter': 1000},\n",
       " 'number_of_paths': 10,\n",
       " 'number_of_sinkhorn': 1,\n",
       " 'delete': False,\n",
       " 'experiment_name': 'graph',\n",
       " 'experiment_type': 'lobster',\n",
       " 'experiment_indentifier': '1687884918'}"
      ]
     },
     "execution_count": 29,
     "metadata": {},
     "output_type": "execute_result"
    }
   ],
   "source": [
    "from dataclasses import asdict\n",
    "\n",
    "asdict(config)"
   ]
  },
  {
   "cell_type": "code",
   "execution_count": 7,
   "id": "2e299eae",
   "metadata": {},
   "outputs": [
    {
     "data": {
      "text/plain": [
       "'\\nsinkhorn_plot(sinkhorn_iteration=0,\\n              states_histogram_at_0=0,\\n              states_histogram_at_1=0,\\n              backward_histogram=0,\\n              forward_histogram=0,\\n              time_=None,\\n              states_legends=0)\\n--'"
      ]
     },
     "execution_count": 7,
     "metadata": {},
     "output_type": "execute_result"
    }
   ],
   "source": [
    "# test plots\n",
    "from graph_bridges.utils.plots.sb_plots import sinkhorn_plot\n",
    "\n",
    "\"\"\"\n",
    "sinkhorn_plot(sinkhorn_iteration=0,\n",
    "              states_histogram_at_0=0,\n",
    "              states_histogram_at_1=0,\n",
    "              backward_histogram=0,\n",
    "              forward_histogram=0,\n",
    "              time_=None,\n",
    "              states_legends=0)\n",
    "--\"\"\"\n",
    "\n",
    "#test trainer"
   ]
  },
  {
   "cell_type": "code",
   "execution_count": null,
   "id": "83683b56",
   "metadata": {},
   "outputs": [],
   "source": []
  }
 ],
 "metadata": {
  "kernelspec": {
   "display_name": "Python 3 (ipykernel)",
   "language": "python",
   "name": "python3"
  },
  "language_info": {
   "codemirror_mode": {
    "name": "ipython",
    "version": 3
   },
   "file_extension": ".py",
   "mimetype": "text/x-python",
   "name": "python",
   "nbconvert_exporter": "python",
   "pygments_lexer": "ipython3",
   "version": "3.10.9"
  }
 },
 "nbformat": 4,
 "nbformat_minor": 5
}
