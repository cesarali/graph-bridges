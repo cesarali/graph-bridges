{
 "cells": [
  {
   "cell_type": "code",
   "execution_count": 20,
   "id": "0a515950",
   "metadata": {},
   "outputs": [],
   "source": [
    "import torch\n",
    "import pandas as pd\n",
    "import numpy as np\n",
    "\n",
    "import os\n",
    "import torch\n",
    "import unittest\n",
    "from tqdm import tqdm\n",
    "from graph_bridges.models.generative_models.sb import SB\n",
    "from dataclasses import dataclass"
   ]
  },
  {
   "cell_type": "code",
   "execution_count": 2,
   "id": "7541e9f4",
   "metadata": {},
   "outputs": [
    {
     "name": "stdout",
     "output_type": "stream",
     "text": [
      "Real Distribution Not Implemented for graph_spins_lobster\n"
     ]
    }
   ],
   "source": [
    "config = get_config_from_file(\"graph\", \"lobster\", \"1687884918\")\n",
    "device = torch.device(config.device)\n",
    "sb = SB()\n",
    "sb.create_from_config(config, device)"
   ]
  },
  {
   "cell_type": "code",
   "execution_count": 63,
   "id": "9a6cda18",
   "metadata": {},
   "outputs": [
    {
     "data": {
      "text/plain": [
       "0.8"
      ]
     },
     "execution_count": 63,
     "metadata": {},
     "output_type": "execute_result"
    }
   ],
   "source": [
    "sb.pipeline.bridge_config.data.training_proportion"
   ]
  },
  {
   "cell_type": "code",
   "execution_count": 19,
   "id": "3bdd7556",
   "metadata": {},
   "outputs": [
    {
     "data": {
      "text/plain": [
       "[[2.0, 3.0], [1.0, 1.0]]"
      ]
     },
     "execution_count": 19,
     "metadata": {},
     "output_type": "execute_result"
    }
   ],
   "source": [
    "tensor = torch.Tensor([ [2.,3.] , [1.,1.]])\n",
    "tensor.tolist()"
   ]
  },
  {
   "cell_type": "code",
   "execution_count": 23,
   "id": "dfe7bfb9",
   "metadata": {},
   "outputs": [],
   "source": [
    "from typing import List\n",
    "from dataclasses import field\n",
    "\n",
    "@dataclass\n",
    "class Parent:\n",
    "    a:int = 2\n",
    "    b:str = \"Hello\"\n",
    "    c:List[float] = field(default_factory=lambda:[2.,3.])"
   ]
  },
  {
   "cell_type": "code",
   "execution_count": 29,
   "id": "21fa925c",
   "metadata": {},
   "outputs": [],
   "source": [
    "data_for_dict = {\"a\":1,\"b\":\"Ciao\",\"c\":[1.,2.]}\n",
    "parent = Parent(**data_for_dict)"
   ]
  },
  {
   "cell_type": "code",
   "execution_count": 33,
   "id": "a6b0ae1d",
   "metadata": {},
   "outputs": [
    {
     "data": {
      "text/plain": [
       "True"
      ]
     },
     "execution_count": 33,
     "metadata": {},
     "output_type": "execute_result"
    }
   ],
   "source": [
    "[1.,2.] == [1.,2.]"
   ]
  }
 ],
 "metadata": {
  "kernelspec": {
   "display_name": "Python 3 (ipykernel)",
   "language": "python",
   "name": "python3"
  },
  "language_info": {
   "codemirror_mode": {
    "name": "ipython",
    "version": 3
   },
   "file_extension": ".py",
   "mimetype": "text/x-python",
   "name": "python",
   "nbconvert_exporter": "python",
   "pygments_lexer": "ipython3",
   "version": "3.10.9"
  }
 },
 "nbformat": 4,
 "nbformat_minor": 5
}
