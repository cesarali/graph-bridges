{
 "cells": [
  {
   "cell_type": "code",
   "execution_count": 20,
   "id": "0a515950",
   "metadata": {},
   "outputs": [],
   "source": [
    "import torch\n",
    "import pandas as pd\n",
    "import numpy as np\n",
    "\n",
    "import os\n",
    "import torch\n",
    "import unittest\n",
    "from tqdm import tqdm\n",
    "from graph_bridges.models.generative_models.sb import SB\n",
    "from dataclasses import dataclass"
   ]
  },
  {
   "cell_type": "code",
   "execution_count": 2,
   "id": "7541e9f4",
   "metadata": {},
   "outputs": [
    {
     "name": "stdout",
     "output_type": "stream",
     "text": [
      "Real Distribution Not Implemented for graph_spins_lobster\n"
     ]
    }
   ],
   "source": [
    "config = get_config_from_file(\"graph\", \"lobster\", \"1687884918\")\n",
    "device = torch.device(config.device)\n",
    "sb = SB()\n",
    "sb.create_from_config(config, device)"
   ]
  },
  {
   "cell_type": "code",
   "execution_count": 63,
   "id": "9a6cda18",
   "metadata": {},
   "outputs": [
    {
     "data": {
      "text/plain": [
       "0.8"
      ]
     },
     "execution_count": 63,
     "metadata": {},
     "output_type": "execute_result"
    }
   ],
   "source": [
    "sb.pipeline.bridge_config.data.training_proportion"
   ]
  },
  {
   "cell_type": "code",
   "execution_count": 19,
   "id": "3bdd7556",
   "metadata": {},
   "outputs": [
    {
     "data": {
      "text/plain": [
       "[[2.0, 3.0], [1.0, 1.0]]"
      ]
     },
     "execution_count": 19,
     "metadata": {},
     "output_type": "execute_result"
    }
   ],
   "source": [
    "tensor = torch.Tensor([ [2.,3.] , [1.,1.]])\n",
    "tensor.tolist()"
   ]
  },
  {
   "cell_type": "code",
   "execution_count": 50,
   "id": "dfe7bfb9",
   "metadata": {},
   "outputs": [],
   "source": [
    "from typing import List\n",
    "from dataclasses import field,dataclass\n",
    "\n",
    "@dataclass\n",
    "class Mom:\n",
    "    a:int = 2\n",
    "    b:str = \"Hello\"\n",
    "    c:List[float] = field(default_factory=lambda:[2.,3.])\n",
    "    \n",
    "@dataclass \n",
    "class Dad:\n",
    "    a:int = 23\n",
    "    d:bool = True\n",
    "    e:str = \"Cosita\"\n",
    "        \n",
    "@dataclass\n",
    "class Children(Mom,Dad):\n",
    "    b:int \n",
    "    d:int \n",
    "    #f:str = \"I love rock and roll\"\n",
    "    #g:str = \"I love ayahuasca\""
   ]
  },
  {
   "cell_type": "code",
   "execution_count": 51,
   "id": "8676af46",
   "metadata": {},
   "outputs": [],
   "source": [
    "children = Children()"
   ]
  },
  {
   "cell_type": "code",
   "execution_count": 55,
   "id": "dfb4fda8",
   "metadata": {},
   "outputs": [],
   "source": [
    "children.a_ = 2"
   ]
  },
  {
   "cell_type": "code",
   "execution_count": 56,
   "id": "7fe257e5",
   "metadata": {},
   "outputs": [
    {
     "data": {
      "text/plain": [
       "2"
      ]
     },
     "execution_count": 56,
     "metadata": {},
     "output_type": "execute_result"
    }
   ],
   "source": [
    "children.a_"
   ]
  },
  {
   "cell_type": "code",
   "execution_count": 42,
   "id": "21fa925c",
   "metadata": {},
   "outputs": [],
   "source": [
    "data_for_dict = {\"a\":1,\"d\":\"Ciao\"}\n",
    "parent = Dad(**data_for_dict)"
   ]
  },
  {
   "cell_type": "code",
   "execution_count": 28,
   "id": "a6b0ae1d",
   "metadata": {},
   "outputs": [
    {
     "data": {
      "text/plain": [
       "array([1.        , 0.91818182, 0.83636364, 0.75454545, 0.67272727,\n",
       "       0.59090909, 0.50909091, 0.42727273, 0.34545455, 0.26363636,\n",
       "       0.18181818, 0.1       ])"
      ]
     },
     "execution_count": 28,
     "metadata": {},
     "output_type": "execute_result"
    }
   ],
   "source": [
    "import torch\n",
    "import numpy as np\n",
    "\n",
    "min_t = 0.1\n",
    "num_steps = 12  \n",
    "\n",
    "np.linspace(1.0, min_t, num_steps)"
   ]
  },
  {
   "cell_type": "code",
   "execution_count": 36,
   "id": "7543d9b3",
   "metadata": {},
   "outputs": [],
   "source": [
    "from dataclasses import dataclass\n",
    "\n",
    "@dataclass(frozen=True)\n",
    "class ImmutablePoint:\n",
    "    x: int\n",
    "    y: int\n",
    "        \n",
    "    def set_x(self,x=3):\n",
    "        self.x = x\n",
    "        \n",
    "p = ImmutablePoint(1, 2)"
   ]
  },
  {
   "cell_type": "code",
   "execution_count": 37,
   "id": "400dd618",
   "metadata": {},
   "outputs": [
    {
     "data": {
      "text/plain": [
       "1"
      ]
     },
     "execution_count": 37,
     "metadata": {},
     "output_type": "execute_result"
    }
   ],
   "source": [
    "p.x"
   ]
  },
  {
   "cell_type": "code",
   "execution_count": 38,
   "id": "2eb542de",
   "metadata": {},
   "outputs": [
    {
     "ename": "FrozenInstanceError",
     "evalue": "cannot assign to field 'x'",
     "output_type": "error",
     "traceback": [
      "\u001b[1;31m---------------------------------------------------------------------------\u001b[0m",
      "\u001b[1;31mFrozenInstanceError\u001b[0m                       Traceback (most recent call last)",
      "Cell \u001b[1;32mIn[38], line 1\u001b[0m\n\u001b[1;32m----> 1\u001b[0m \u001b[43mp\u001b[49m\u001b[38;5;241;43m.\u001b[39;49m\u001b[43mset_x\u001b[49m\u001b[43m(\u001b[49m\u001b[38;5;241;43m8\u001b[39;49m\u001b[43m)\u001b[49m\n",
      "Cell \u001b[1;32mIn[36], line 9\u001b[0m, in \u001b[0;36mImmutablePoint.set_x\u001b[1;34m(self, x)\u001b[0m\n\u001b[0;32m      8\u001b[0m \u001b[38;5;28;01mdef\u001b[39;00m \u001b[38;5;21mset_x\u001b[39m(\u001b[38;5;28mself\u001b[39m,x\u001b[38;5;241m=\u001b[39m\u001b[38;5;241m3\u001b[39m):\n\u001b[1;32m----> 9\u001b[0m     \u001b[38;5;28;43mself\u001b[39;49m\u001b[38;5;241;43m.\u001b[39;49m\u001b[43mx\u001b[49m \u001b[38;5;241m=\u001b[39m x\n",
      "File \u001b[1;32m<string>:4\u001b[0m, in \u001b[0;36m__setattr__\u001b[1;34m(self, name, value)\u001b[0m\n",
      "\u001b[1;31mFrozenInstanceError\u001b[0m: cannot assign to field 'x'"
     ]
    }
   ],
   "source": [
    "p.set_x(8)"
   ]
  },
  {
   "cell_type": "code",
   "execution_count": null,
   "id": "f2fe9550",
   "metadata": {},
   "outputs": [],
   "source": []
  }
 ],
 "metadata": {
  "kernelspec": {
   "display_name": "Python 3 (ipykernel)",
   "language": "python",
   "name": "python3"
  },
  "language_info": {
   "codemirror_mode": {
    "name": "ipython",
    "version": 3
   },
   "file_extension": ".py",
   "mimetype": "text/x-python",
   "name": "python",
   "nbconvert_exporter": "python",
   "pygments_lexer": "ipython3",
   "version": "3.10.9"
  }
 },
 "nbformat": 4,
 "nbformat_minor": 5
}
