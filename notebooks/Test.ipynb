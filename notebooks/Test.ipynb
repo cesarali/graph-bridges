{
 "cells": [
  {
   "cell_type": "code",
   "execution_count": 1,
   "id": "0a515950",
   "metadata": {},
   "outputs": [],
   "source": [
    "import torch\n",
    "import pandas as pd\n",
    "import numpy as np\n",
    "\n",
    "import os\n",
    "import torch\n",
    "import unittest\n",
    "from tqdm import tqdm\n",
    "from graph_bridges.models.generative_models.sb import SB\n",
    "from dataclasses import dataclass"
   ]
  },
  {
   "cell_type": "code",
   "execution_count": 55,
   "id": "868365ad",
   "metadata": {},
   "outputs": [],
   "source": [
    "size_ = torch.Size([2,1,1,3,3])\n",
    "size_\n",
    "\n",
    "A = torch.Tensor(size=(2,1,9)).normal_(0.,1.)"
   ]
  },
  {
   "cell_type": "code",
   "execution_count": null,
   "id": "36c21d0c",
   "metadata": {},
   "outputs": [],
   "source": []
  },
  {
   "cell_type": "code",
   "execution_count": 56,
   "id": "f1a3cde2",
   "metadata": {},
   "outputs": [
    {
     "data": {
      "text/plain": [
       "[32, 2, 1, 1, 3, 3]"
      ]
     },
     "execution_count": 56,
     "metadata": {},
     "output_type": "execute_result"
    }
   ],
   "source": [
    "size_2 = list(size_)\n",
    "size_2.insert(0,32)\n",
    "size_2"
   ]
  },
  {
   "cell_type": "code",
   "execution_count": 51,
   "id": "695b42ad",
   "metadata": {},
   "outputs": [
    {
     "name": "stdout",
     "output_type": "stream",
     "text": [
      "Object `size` not found.\n"
     ]
    }
   ],
   "source": []
  },
  {
   "cell_type": "code",
   "execution_count": 47,
   "id": "601d677d",
   "metadata": {},
   "outputs": [
    {
     "data": {
      "text/plain": [
       "18"
      ]
     },
     "execution_count": 47,
     "metadata": {},
     "output_type": "execute_result"
    }
   ],
   "source": [
    "import math\n",
    "math.prod(list(size_))"
   ]
  },
  {
   "cell_type": "code",
   "execution_count": 2,
   "id": "7541e9f4",
   "metadata": {},
   "outputs": [
    {
     "name": "stdout",
     "output_type": "stream",
     "text": [
      "Real Distribution Not Implemented for graph_spins_lobster\n"
     ]
    }
   ],
   "source": [
    "config = get_config_from_file(\"graph\", \"lobster\", \"1687884918\")\n",
    "device = torch.device(config.device)\n",
    "sb = SB()\n",
    "sb.create_from_config(config, device)"
   ]
  },
  {
   "cell_type": "code",
   "execution_count": 63,
   "id": "9a6cda18",
   "metadata": {},
   "outputs": [
    {
     "data": {
      "text/plain": [
       "0.8"
      ]
     },
     "execution_count": 63,
     "metadata": {},
     "output_type": "execute_result"
    }
   ],
   "source": [
    "sb.pipeline.bridge_config.data.training_proportion"
   ]
  },
  {
   "cell_type": "code",
   "execution_count": 19,
   "id": "3bdd7556",
   "metadata": {},
   "outputs": [
    {
     "data": {
      "text/plain": [
       "[[2.0, 3.0], [1.0, 1.0]]"
      ]
     },
     "execution_count": 19,
     "metadata": {},
     "output_type": "execute_result"
    }
   ],
   "source": [
    "tensor = torch.Tensor([ [2.,3.] , [1.,1.]])\n",
    "tensor.tolist()"
   ]
  },
  {
   "cell_type": "code",
   "execution_count": 50,
   "id": "dfe7bfb9",
   "metadata": {},
   "outputs": [],
   "source": [
    "from typing import List\n",
    "from dataclasses import field,dataclass\n",
    "\n",
    "@dataclass\n",
    "class Mom:\n",
    "    a:int = 2\n",
    "    b:str = \"Hello\"\n",
    "    c:List[float] = field(default_factory=lambda:[2.,3.])\n",
    "    \n",
    "@dataclass \n",
    "class Dad:\n",
    "    a:int = 23\n",
    "    d:bool = True\n",
    "    e:str = \"Cosita\"\n",
    "        \n",
    "@dataclass\n",
    "class Children(Mom,Dad):\n",
    "    b:int \n",
    "    d:int \n",
    "    #f:str = \"I love rock and roll\"\n",
    "    #g:str = \"I love ayahuasca\""
   ]
  },
  {
   "cell_type": "code",
   "execution_count": 51,
   "id": "8676af46",
   "metadata": {},
   "outputs": [],
   "source": [
    "children = Children()"
   ]
  },
  {
   "cell_type": "code",
   "execution_count": 55,
   "id": "dfb4fda8",
   "metadata": {},
   "outputs": [],
   "source": [
    "children.a_ = 2"
   ]
  },
  {
   "cell_type": "code",
   "execution_count": 56,
   "id": "7fe257e5",
   "metadata": {},
   "outputs": [
    {
     "data": {
      "text/plain": [
       "2"
      ]
     },
     "execution_count": 56,
     "metadata": {},
     "output_type": "execute_result"
    }
   ],
   "source": [
    "children.a_"
   ]
  },
  {
   "cell_type": "code",
   "execution_count": 42,
   "id": "21fa925c",
   "metadata": {},
   "outputs": [],
   "source": [
    "data_for_dict = {\"a\":1,\"d\":\"Ciao\"}\n",
    "parent = Dad(**data_for_dict)"
   ]
  },
  {
   "cell_type": "code",
   "execution_count": 28,
   "id": "a6b0ae1d",
   "metadata": {},
   "outputs": [
    {
     "data": {
      "text/plain": [
       "array([1.        , 0.91818182, 0.83636364, 0.75454545, 0.67272727,\n",
       "       0.59090909, 0.50909091, 0.42727273, 0.34545455, 0.26363636,\n",
       "       0.18181818, 0.1       ])"
      ]
     },
     "execution_count": 28,
     "metadata": {},
     "output_type": "execute_result"
    }
   ],
   "source": [
    "import torch\n",
    "import numpy as np\n",
    "\n",
    "min_t = 0.1\n",
    "num_steps = 12  \n",
    "\n",
    "np.linspace(1.0, min_t, num_steps)"
   ]
  },
  {
   "cell_type": "code",
   "execution_count": 7,
   "id": "7543d9b3",
   "metadata": {},
   "outputs": [
    {
     "name": "stdout",
     "output_type": "stream",
     "text": [
      "Processing 32 items...\n",
      "Processing 32 items...\n",
      "Processing 32 items...\n",
      "Processing 32 items...\n",
      "Processing 32 items...\n",
      "Processing 32 items...\n",
      "Processing 32 items...\n",
      "Processing 32 items...\n",
      "Processing 32 items...\n",
      "Processing 32 items...\n",
      "Processing 32 items...\n",
      "Processing 32 items...\n",
      "Processing 32 items...\n",
      "Processing 32 items...\n",
      "Processing 32 items...\n",
      "Processing 20 items...\n"
     ]
    }
   ],
   "source": [
    "training_size = 500\n",
    "batch_size = 32\n",
    "current_index = 0\n",
    "while current_index < training_size:\n",
    "    remaining = min(training_size - current_index, batch_size)\n",
    "    print(f\"Processing {remaining} items...\")\n",
    "    # Your processing code here\n",
    "    current_index += remaining"
   ]
  },
  {
   "cell_type": "code",
   "execution_count": 37,
   "id": "400dd618",
   "metadata": {},
   "outputs": [
    {
     "data": {
      "text/plain": [
       "1"
      ]
     },
     "execution_count": 37,
     "metadata": {},
     "output_type": "execute_result"
    }
   ],
   "source": [
    "p.x"
   ]
  },
  {
   "cell_type": "code",
   "execution_count": null,
   "id": "f2fe9550",
   "metadata": {},
   "outputs": [],
   "source": []
  }
 ],
 "metadata": {
  "kernelspec": {
   "display_name": "Python 3 (ipykernel)",
   "language": "python",
   "name": "python3"
  },
  "language_info": {
   "codemirror_mode": {
    "name": "ipython",
    "version": 3
   },
   "file_extension": ".py",
   "mimetype": "text/x-python",
   "name": "python",
   "nbconvert_exporter": "python",
   "pygments_lexer": "ipython3",
   "version": "3.10.9"
  }
 },
 "nbformat": 4,
 "nbformat_minor": 5
}
