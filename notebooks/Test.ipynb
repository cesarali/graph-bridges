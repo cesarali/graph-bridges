{
 "cells": [
  {
   "cell_type": "code",
   "execution_count": 1,
   "id": "0a515950",
   "metadata": {},
   "outputs": [],
   "source": [
    "import torch\n",
    "import pandas as pd\n",
    "import numpy as np\n",
    "\n",
    "import os\n",
    "import torch\n",
    "import unittest\n",
    "from tqdm import tqdm\n",
    "from graph_bridges.models.generative_models.sb import SB\n",
    "from dataclasses import dataclass"
   ]
  },
  {
   "cell_type": "code",
   "execution_count": 4,
   "id": "b0d8010b",
   "metadata": {},
   "outputs": [
    {
     "name": "stdout",
     "output_type": "stream",
     "text": [
      "43\n"
     ]
    }
   ],
   "source": [
    "import re\n",
    "\n",
    "extract_digits = lambda s: int(re.search(r'\\d+', s).group()) if re.search(r'\\d+', s) else None\n",
    "\n",
    "# Test the lambda function\n",
    "string_example = \"model_checkpoint_43_sinkhorn_1.tr\"\n",
    "result = extract_digits(string_example)\n",
    "print(result)\n"
   ]
  },
  {
   "cell_type": "code",
   "execution_count": 55,
   "id": "868365ad",
   "metadata": {},
   "outputs": [],
   "source": [
    "size_ = torch.Size([2,1,1,3,3])\n",
    "size_\n",
    "\n",
    "A = torch.Tensor(size=(2,1,9)).normal_(0.,1.)"
   ]
  },
  {
   "cell_type": "code",
   "execution_count": 17,
   "id": "45449fc5",
   "metadata": {},
   "outputs": [],
   "source": [
    "from graph_bridges.configs.config_sb import SBConfig"
   ]
  },
  {
   "cell_type": "code",
   "execution_count": 18,
   "id": "7de7ac5f",
   "metadata": {},
   "outputs": [],
   "source": [
    "sb_config = SBConfig()"
   ]
  },
  {
   "cell_type": "code",
   "execution_count": null,
   "id": "24a712db",
   "metadata": {},
   "outputs": [],
   "source": [
    "[9,10,4,]"
   ]
  },
  {
   "cell_type": "code",
   "execution_count": 22,
   "id": "ba450bed",
   "metadata": {},
   "outputs": [
    {
     "data": {
      "text/plain": [
       "BackwardRatioFlipEstimatorConfig(name='BackwardRatioFlipEstimator', dimension_to_check=None, flip_old_time=False, flip_current_time=False)"
      ]
     },
     "execution_count": 22,
     "metadata": {},
     "output_type": "execute_result"
    }
   ],
   "source": [
    "sb_config.loss"
   ]
  },
  {
   "cell_type": "code",
   "execution_count": 27,
   "id": "4c8c6245",
   "metadata": {},
   "outputs": [
    {
     "data": {
      "text/plain": [
       "'SB FLO 0 FLC 1'"
      ]
     },
     "execution_count": 27,
     "metadata": {},
     "output_type": "execute_result"
    }
   ],
   "source": [
    "input_string_to_format = \"SB FLO {0} FLC {1}\"\n",
    "input_string_to_format.format(0,1)"
   ]
  },
  {
   "cell_type": "code",
   "execution_count": 34,
   "id": "5313a4fc",
   "metadata": {},
   "outputs": [],
   "source": [
    "from pathlib import Path\n",
    "from graph_bridges import results_path"
   ]
  },
  {
   "cell_type": "code",
   "execution_count": 36,
   "id": "d890f329",
   "metadata": {},
   "outputs": [
    {
     "data": {
      "text/plain": [
       "'results'"
      ]
     },
     "execution_count": 36,
     "metadata": {},
     "output_type": "execute_result"
    }
   ],
   "source": [
    "Path(results_path).name"
   ]
  },
  {
   "cell_type": "code",
   "execution_count": 14,
   "id": "36c21d0c",
   "metadata": {},
   "outputs": [
    {
     "name": "stdout",
     "output_type": "stream",
     "text": [
      "SB FLO 0 FLN 0 FP 0 FPS 0\n",
      "SB FLO 0 FLN 0 FP 0 FPS 1\n",
      "SB FLO 0 FLN 0 FP 1 FPS 0\n",
      "SB FLO 0 FLN 0 FP 1 FPS 1\n",
      "SB FLO 0 FLN 1 FP 0 FPS 0\n",
      "SB FLO 0 FLN 1 FP 0 FPS 1\n",
      "SB FLO 0 FLN 1 FP 1 FPS 0\n",
      "SB FLO 0 FLN 1 FP 1 FPS 1\n",
      "SB FLO 1 FLN 0 FP 0 FPS 0\n",
      "SB FLO 1 FLN 0 FP 0 FPS 1\n",
      "SB FLO 1 FLN 0 FP 1 FPS 0\n",
      "SB FLO 1 FLN 0 FP 1 FPS 1\n",
      "SB FLO 1 FLN 1 FP 0 FPS 0\n",
      "SB FLO 1 FLN 1 FP 0 FPS 1\n",
      "SB FLO 1 FLN 1 FP 1 FPS 0\n",
      "SB FLO 1 FLN 1 FP 1 FPS 1\n"
     ]
    }
   ],
   "source": [
    "from itertools import product\n",
    "\n",
    "input_string_to_format = \"SB FLO {0} FLN {1} FP {2} FPS {3}\"\n",
    "\n",
    "# Generate all possible combinations of 1 and 0 for each entry\n",
    "combinations = list(product([0, 1], repeat=4))\n",
    "\n",
    "# Format the input string for each combination\n",
    "formatted_strings = [input_string_to_format.format(*combination) for combination in combinations]\n",
    "\n",
    "string_to_combination = dict(zip(formatted_strings,combinations))\n",
    "\n",
    "# Print the formatted strings\n",
    "for formatted_string in formatted_strings:\n",
    "    print(formatted_string)"
   ]
  },
  {
   "cell_type": "code",
   "execution_count": 16,
   "id": "2d3c549f",
   "metadata": {},
   "outputs": [
    {
     "data": {
      "text/plain": [
       "{'SB FLO 0 FLN 0 FP 0 FPS 0': (0, 0, 0, 0),\n",
       " 'SB FLO 0 FLN 0 FP 0 FPS 1': (0, 0, 0, 1),\n",
       " 'SB FLO 0 FLN 0 FP 1 FPS 0': (0, 0, 1, 0),\n",
       " 'SB FLO 0 FLN 0 FP 1 FPS 1': (0, 0, 1, 1),\n",
       " 'SB FLO 0 FLN 1 FP 0 FPS 0': (0, 1, 0, 0),\n",
       " 'SB FLO 0 FLN 1 FP 0 FPS 1': (0, 1, 0, 1),\n",
       " 'SB FLO 0 FLN 1 FP 1 FPS 0': (0, 1, 1, 0),\n",
       " 'SB FLO 0 FLN 1 FP 1 FPS 1': (0, 1, 1, 1),\n",
       " 'SB FLO 1 FLN 0 FP 0 FPS 0': (1, 0, 0, 0),\n",
       " 'SB FLO 1 FLN 0 FP 0 FPS 1': (1, 0, 0, 1),\n",
       " 'SB FLO 1 FLN 0 FP 1 FPS 0': (1, 0, 1, 0),\n",
       " 'SB FLO 1 FLN 0 FP 1 FPS 1': (1, 0, 1, 1),\n",
       " 'SB FLO 1 FLN 1 FP 0 FPS 0': (1, 1, 0, 0),\n",
       " 'SB FLO 1 FLN 1 FP 0 FPS 1': (1, 1, 0, 1),\n",
       " 'SB FLO 1 FLN 1 FP 1 FPS 0': (1, 1, 1, 0),\n",
       " 'SB FLO 1 FLN 1 FP 1 FPS 1': (1, 1, 1, 1)}"
      ]
     },
     "execution_count": 16,
     "metadata": {},
     "output_type": "execute_result"
    }
   ],
   "source": [
    "string_to_combination"
   ]
  },
  {
   "cell_type": "code",
   "execution_count": 2,
   "id": "7541e9f4",
   "metadata": {},
   "outputs": [
    {
     "name": "stdout",
     "output_type": "stream",
     "text": [
      "Real Distribution Not Implemented for graph_spins_lobster\n"
     ]
    }
   ],
   "source": [
    "config = get_config_from_file(\"graph\", \"lobster\", \"1687884918\")\n",
    "device = torch.device(config.device)\n",
    "sb = SB()\n",
    "sb.create_from_config(config, device)"
   ]
  },
  {
   "cell_type": "code",
   "execution_count": 63,
   "id": "9a6cda18",
   "metadata": {},
   "outputs": [
    {
     "data": {
      "text/plain": [
       "0.8"
      ]
     },
     "execution_count": 63,
     "metadata": {},
     "output_type": "execute_result"
    }
   ],
   "source": [
    "sb.pipeline.bridge_config.data.training_proportion"
   ]
  },
  {
   "cell_type": "code",
   "execution_count": 19,
   "id": "3bdd7556",
   "metadata": {},
   "outputs": [
    {
     "data": {
      "text/plain": [
       "[[2.0, 3.0], [1.0, 1.0]]"
      ]
     },
     "execution_count": 19,
     "metadata": {},
     "output_type": "execute_result"
    }
   ],
   "source": [
    "tensor = torch.Tensor([ [2.,3.] , [1.,1.]])\n",
    "tensor.tolist()"
   ]
  },
  {
   "cell_type": "code",
   "execution_count": 50,
   "id": "dfe7bfb9",
   "metadata": {},
   "outputs": [],
   "source": [
    "from typing import List\n",
    "from dataclasses import field,dataclass\n",
    "\n",
    "@dataclass\n",
    "class Mom:\n",
    "    a:int = 2\n",
    "    b:str = \"Hello\"\n",
    "    c:List[float] = field(default_factory=lambda:[2.,3.])\n",
    "    \n",
    "@dataclass \n",
    "class Dad:\n",
    "    a:int = 23\n",
    "    d:bool = True\n",
    "    e:str = \"Cosita\"\n",
    "        \n",
    "@dataclass\n",
    "class Children(Mom,Dad):\n",
    "    b:int \n",
    "    d:int \n",
    "    #f:str = \"I love rock and roll\"\n",
    "    #g:str = \"I love ayahuasca\""
   ]
  },
  {
   "cell_type": "code",
   "execution_count": 51,
   "id": "8676af46",
   "metadata": {},
   "outputs": [],
   "source": [
    "children = Children()"
   ]
  },
  {
   "cell_type": "code",
   "execution_count": 55,
   "id": "dfb4fda8",
   "metadata": {},
   "outputs": [],
   "source": [
    "children.a_ = 2"
   ]
  },
  {
   "cell_type": "code",
   "execution_count": 56,
   "id": "7fe257e5",
   "metadata": {},
   "outputs": [
    {
     "data": {
      "text/plain": [
       "2"
      ]
     },
     "execution_count": 56,
     "metadata": {},
     "output_type": "execute_result"
    }
   ],
   "source": [
    "children.a_"
   ]
  },
  {
   "cell_type": "code",
   "execution_count": 42,
   "id": "21fa925c",
   "metadata": {},
   "outputs": [],
   "source": [
    "data_for_dict = {\"a\":1,\"d\":\"Ciao\"}\n",
    "parent = Dad(**data_for_dict)"
   ]
  },
  {
   "cell_type": "code",
   "execution_count": 28,
   "id": "a6b0ae1d",
   "metadata": {},
   "outputs": [
    {
     "data": {
      "text/plain": [
       "array([1.        , 0.91818182, 0.83636364, 0.75454545, 0.67272727,\n",
       "       0.59090909, 0.50909091, 0.42727273, 0.34545455, 0.26363636,\n",
       "       0.18181818, 0.1       ])"
      ]
     },
     "execution_count": 28,
     "metadata": {},
     "output_type": "execute_result"
    }
   ],
   "source": [
    "import torch\n",
    "import numpy as np\n",
    "\n",
    "min_t = 0.1\n",
    "num_steps = 12  \n",
    "\n",
    "np.linspace(1.0, min_t, num_steps)"
   ]
  },
  {
   "cell_type": "code",
   "execution_count": 7,
   "id": "7543d9b3",
   "metadata": {},
   "outputs": [
    {
     "name": "stdout",
     "output_type": "stream",
     "text": [
      "Processing 32 items...\n",
      "Processing 32 items...\n",
      "Processing 32 items...\n",
      "Processing 32 items...\n",
      "Processing 32 items...\n",
      "Processing 32 items...\n",
      "Processing 32 items...\n",
      "Processing 32 items...\n",
      "Processing 32 items...\n",
      "Processing 32 items...\n",
      "Processing 32 items...\n",
      "Processing 32 items...\n",
      "Processing 32 items...\n",
      "Processing 32 items...\n",
      "Processing 32 items...\n",
      "Processing 20 items...\n"
     ]
    }
   ],
   "source": [
    "training_size = 500\n",
    "batch_size = 32\n",
    "current_index = 0\n",
    "while current_index < training_size:\n",
    "    remaining = min(training_size - current_index, batch_size)\n",
    "    print(f\"Processing {remaining} items...\")\n",
    "    # Your processing code here\n",
    "    current_index += remaining"
   ]
  },
  {
   "cell_type": "code",
   "execution_count": 37,
   "id": "400dd618",
   "metadata": {},
   "outputs": [
    {
     "data": {
      "text/plain": [
       "1"
      ]
     },
     "execution_count": 37,
     "metadata": {},
     "output_type": "execute_result"
    }
   ],
   "source": [
    "p.x"
   ]
  },
  {
   "cell_type": "code",
   "execution_count": null,
   "id": "f2fe9550",
   "metadata": {},
   "outputs": [],
   "source": []
  }
 ],
 "metadata": {
  "kernelspec": {
   "display_name": "Python 3 (ipykernel)",
   "language": "python",
   "name": "python3"
  },
  "language_info": {
   "codemirror_mode": {
    "name": "ipython",
    "version": 3
   },
   "file_extension": ".py",
   "mimetype": "text/x-python",
   "name": "python",
   "nbconvert_exporter": "python",
   "pygments_lexer": "ipython3",
   "version": "3.10.9"
  }
 },
 "nbformat": 4,
 "nbformat_minor": 5
}
